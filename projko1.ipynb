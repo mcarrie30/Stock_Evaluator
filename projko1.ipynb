{
 "cells": [
  {
   "cell_type": "code",
   "execution_count": 173,
   "metadata": {
    "collapsed": true
   },
   "outputs": [],
   "source": [
    "import pandas as pd\n",
    "import numpy as np\n",
    "import json\n",
    "import gzip\n",
    "import pandas as pd\n",
    "from sklearn.pipeline import Pipeline\n",
    "from sklearn.feature_extraction.text import TfidfVectorizer\n",
    "from sklearn.feature_extraction.text import TfidfTransformer\n",
    "from sklearn.naive_bayes import MultinomialNB\n",
    "from nltk.corpus import stopwords\n",
    "from sklearn.cluster import KMeans, MiniBatchKMeans\n",
    "from collections import defaultdict\n",
    "from sklearn.cluster import KMeans\n",
    "import nltk\n",
    "import gensim\n",
    "import os\n",
    "import string\n",
    "import re\n",
    "import os\n",
    "from nltk.corpus import stopwords, wordnet\n",
    "from nltk.tokenize import word_tokenize\n",
    "from nltk.stem.wordnet import WordNetLemmatizer\n",
    "from sklearn.cluster import DBSCAN\n",
    "from sklearn.externals import joblib\n",
    "\n",
    "\n",
    "# pd.set_option('display.max_colwidth', -1)\n",
    "# pd.set_option('display.max_colwidth', 50)"
   ]
  },
  {
   "cell_type": "code",
   "execution_count": 174,
   "metadata": {
    "collapsed": true
   },
   "outputs": [],
   "source": [
    "import tweepy\n",
    "import cnfg\n",
    "import pandas as pd\n",
    "config = cnfg.load(\"./.twitter_config\")\n",
    "\n",
    "\n",
    "\n",
    "auth = tweepy.OAuthHandler(config[\"consumer_key\"],\n",
    "                           config[\"consumer_secret\"])\n",
    "\n",
    "auth.set_access_token(config[\"access_token\"],\n",
    "                      config[\"access_token_secret\"])\n",
    "\n",
    "api = tweepy.API(auth)"
   ]
  },
  {
   "cell_type": "code",
   "execution_count": 175,
   "metadata": {
    "collapsed": true
   },
   "outputs": [],
   "source": [
    "pd.set_option('display.max_colwidth', -1)"
   ]
  },
  {
   "cell_type": "code",
   "execution_count": 176,
   "metadata": {
    "collapsed": true
   },
   "outputs": [],
   "source": [
    "listrecommenders = ['VolumePrintcess']"
   ]
  },
  {
   "cell_type": "code",
   "execution_count": 177,
   "metadata": {},
   "outputs": [
    {
     "name": "stdout",
     "output_type": "stream",
     "text": [
      "10 Reasons Visa Could Be the World's Most Perfect Stock @themotleyfool #stocks $IBM, $MA, $AXP, $DFS, $V, $PYPL https://t.co/PDRmki5UXe\n"
     ]
    }
   ],
   "source": [
    "max_tweets=1\n",
    "\n",
    "#Tweepy Cursor handles pagination .. \n",
    "\n",
    "for tweet in tweepy.Cursor(api.search, q=\"$AXP\").items(max_tweets):\n",
    "    print(tweet.text)"
   ]
  },
  {
   "cell_type": "code",
   "execution_count": 208,
   "metadata": {
    "collapsed": true
   },
   "outputs": [],
   "source": [
    "import csv\n",
    "def get_all_tweets(screen_name):\n",
    "\n",
    "    api = tweepy.API(auth)\n",
    "    #initialize a list to hold all the tweepy Tweets\n",
    "    alltweets = []\n",
    "    \n",
    "    #make initial request for most recent tweets (200 is the maximum allowed count)\n",
    "    new_tweets = api.user_timeline(screen_name = screen_name,count=200)\n",
    "\n",
    "    #save most recent tweets\n",
    "    alltweets.extend(new_tweets)\n",
    "    \n",
    "    #save the id of the oldest tweet less one\n",
    "    oldest = alltweets[-1].id - 1\n",
    "    \n",
    "    #keep grabbing tweets until there are no tweets left to grab\n",
    "    while len(new_tweets) > 0:\n",
    "        print(\"getting tweets before %s\" % (oldest))\n",
    "        #all subsiquent requests use the max_id param to prevent duplicates\n",
    "        new_tweets = api.user_timeline(screen_name = screen_name,count=200,max_id=oldest)\n",
    "        #save most recent tweets\n",
    "        alltweets.extend(new_tweets)\n",
    "        #update the id of the oldest tweet less one\n",
    "        oldest = alltweets[-1].id - 1\n",
    "        print(\"...%s tweets downloaded so far\" % (len(alltweets)))\n",
    "    #transform the tweepy tweets into a 2D array that will populate the csv\t\n",
    "    outtweets = [[tweet.id_str, tweet.created_at, tweet.text.encode(\"utf-8\")] for tweet in alltweets]\n",
    "    \n",
    "    with open('%s_tweets.csv' % screen_name, 'w') as f:\n",
    "        writer = csv.writer(f)\n",
    "        writer.writerow([\"id\",\"created_at\",\"text\"])\n",
    "        writer.writerows(outtweets)\n",
    "    pass"
   ]
  },
  {
   "cell_type": "code",
   "execution_count": 209,
   "metadata": {
    "scrolled": true
   },
   "outputs": [
    {
     "name": "stdout",
     "output_type": "stream",
     "text": [
      "getting tweets before 847528989384208385\n",
      "...400 tweets downloaded so far\n",
      "getting tweets before 821722835248939007\n",
      "...600 tweets downloaded so far\n",
      "getting tweets before 796385359567458303\n",
      "...800 tweets downloaded so far\n",
      "getting tweets before 774949000671731712\n",
      "...1000 tweets downloaded so far\n",
      "getting tweets before 755184023706669055\n",
      "...1200 tweets downloaded so far\n",
      "getting tweets before 734747365006057471\n",
      "...1400 tweets downloaded so far\n",
      "getting tweets before 710090147467960319\n",
      "...1600 tweets downloaded so far\n",
      "getting tweets before 692107363915005951\n",
      "...1800 tweets downloaded so far\n",
      "getting tweets before 674225396900958208\n",
      "...2000 tweets downloaded so far\n",
      "getting tweets before 659778439440805887\n",
      "...2200 tweets downloaded so far\n",
      "getting tweets before 639613584905900032\n",
      "...2400 tweets downloaded so far\n",
      "getting tweets before 624268986784608255\n",
      "...2600 tweets downloaded so far\n",
      "getting tweets before 614130551419731967\n",
      "...2800 tweets downloaded so far\n",
      "getting tweets before 605749575509352448\n",
      "...3000 tweets downloaded so far\n",
      "getting tweets before 591225809861378047\n",
      "...3200 tweets downloaded so far\n",
      "getting tweets before 580784327178395648\n",
      "...3221 tweets downloaded so far\n",
      "getting tweets before 580731204695158784\n",
      "...3221 tweets downloaded so far\n"
     ]
    }
   ],
   "source": [
    "get_all_tweets(\"VolumePrintcess\")"
   ]
  },
  {
   "cell_type": "code",
   "execution_count": 210,
   "metadata": {
    "collapsed": true
   },
   "outputs": [],
   "source": [
    "import pandas as pd\n",
    "df = pd.read_csv('VolumePrintcess_tweets.csv')"
   ]
  },
  {
   "cell_type": "code",
   "execution_count": 221,
   "metadata": {},
   "outputs": [
    {
     "data": {
      "text/html": [
       "<div>\n",
       "<table border=\"1\" class=\"dataframe\">\n",
       "  <thead>\n",
       "    <tr style=\"text-align: right;\">\n",
       "      <th></th>\n",
       "      <th>id</th>\n",
       "      <th>created_at</th>\n",
       "      <th>text</th>\n",
       "    </tr>\n",
       "  </thead>\n",
       "  <tbody>\n",
       "    <tr>\n",
       "      <th>0</th>\n",
       "      <td>871807145834151936</td>\n",
       "      <td>2017-06-05 19:13:15</td>\n",
       "      <td>b'Sign up now for this weeks FREE Webinar on how to trade around The Dark Pool https://t.co/GJh0Xns8pm'</td>\n",
       "    </tr>\n",
       "    <tr>\n",
       "      <th>1</th>\n",
       "      <td>871724759024898049</td>\n",
       "      <td>2017-06-05 13:45:53</td>\n",
       "      <td>b'The #Stock Whisper Of The Day: $DAL $NKE $CMCSA $ABEV https://t.co/6rMCat7RbP'</td>\n",
       "    </tr>\n",
       "    <tr>\n",
       "      <th>2</th>\n",
       "      <td>871717560433217536</td>\n",
       "      <td>2017-06-05 13:17:16</td>\n",
       "      <td>b\"Today's #HOT #Whisper $CMCSA $NKE $ABEV $DAL https://t.co/1x9w3BIWNK\"</td>\n",
       "    </tr>\n",
       "    <tr>\n",
       "      <th>3</th>\n",
       "      <td>870786197450346497</td>\n",
       "      <td>2017-06-02 23:36:22</td>\n",
       "      <td>b'@Wild_Tiger99 Absolutely!!'</td>\n",
       "    </tr>\n",
       "    <tr>\n",
       "      <th>4</th>\n",
       "      <td>870724384914329603</td>\n",
       "      <td>2017-06-02 19:30:45</td>\n",
       "      <td>b'We are now accepting Sign ups for next weeks Webinar \"To Swing or not To Swing\" https://t.co/GJh0Xns8pm'</td>\n",
       "    </tr>\n",
       "  </tbody>\n",
       "</table>\n",
       "</div>"
      ],
      "text/plain": [
       "                   id           created_at  \\\n",
       "0  871807145834151936  2017-06-05 19:13:15   \n",
       "1  871724759024898049  2017-06-05 13:45:53   \n",
       "2  871717560433217536  2017-06-05 13:17:16   \n",
       "3  870786197450346497  2017-06-02 23:36:22   \n",
       "4  870724384914329603  2017-06-02 19:30:45   \n",
       "\n",
       "                                                                                                         text  \n",
       "0  b'Sign up now for this weeks FREE Webinar on how to trade around The Dark Pool https://t.co/GJh0Xns8pm'     \n",
       "1  b'The #Stock Whisper Of The Day: $DAL $NKE $CMCSA $ABEV https://t.co/6rMCat7RbP'                            \n",
       "2  b\"Today's #HOT #Whisper $CMCSA $NKE $ABEV $DAL https://t.co/1x9w3BIWNK\"                                     \n",
       "3  b'@Wild_Tiger99 Absolutely!!'                                                                               \n",
       "4  b'We are now accepting Sign ups for next weeks Webinar \"To Swing or not To Swing\" https://t.co/GJh0Xns8pm'  "
      ]
     },
     "execution_count": 221,
     "metadata": {},
     "output_type": "execute_result"
    }
   ],
   "source": [
    "df.head()"
   ]
  },
  {
   "cell_type": "code",
   "execution_count": 203,
   "metadata": {},
   "outputs": [
    {
     "data": {
      "text/html": [
       "<div>\n",
       "<table border=\"1\" class=\"dataframe\">\n",
       "  <thead>\n",
       "    <tr style=\"text-align: right;\">\n",
       "      <th></th>\n",
       "      <th>id</th>\n",
       "      <th>created_at</th>\n",
       "      <th>text</th>\n",
       "    </tr>\n",
       "  </thead>\n",
       "  <tbody>\n",
       "    <tr>\n",
       "      <th>0</th>\n",
       "      <td>871807145834151936</td>\n",
       "      <td>2017-06-05 19:13:15</td>\n",
       "      <td>NaN</td>\n",
       "    </tr>\n",
       "    <tr>\n",
       "      <th>1</th>\n",
       "      <td>871724759024898049</td>\n",
       "      <td>2017-06-05 13:45:53</td>\n",
       "      <td>NaN</td>\n",
       "    </tr>\n",
       "    <tr>\n",
       "      <th>2</th>\n",
       "      <td>871717560433217536</td>\n",
       "      <td>2017-06-05 13:17:16</td>\n",
       "      <td>NaN</td>\n",
       "    </tr>\n",
       "    <tr>\n",
       "      <th>3</th>\n",
       "      <td>870786197450346497</td>\n",
       "      <td>2017-06-02 23:36:22</td>\n",
       "      <td>NaN</td>\n",
       "    </tr>\n",
       "    <tr>\n",
       "      <th>4</th>\n",
       "      <td>870724384914329603</td>\n",
       "      <td>2017-06-02 19:30:45</td>\n",
       "      <td>NaN</td>\n",
       "    </tr>\n",
       "  </tbody>\n",
       "</table>\n",
       "</div>"
      ],
      "text/plain": [
       "                   id           created_at  text\n",
       "0  871807145834151936  2017-06-05 19:13:15 NaN  \n",
       "1  871724759024898049  2017-06-05 13:45:53 NaN  \n",
       "2  871717560433217536  2017-06-05 13:17:16 NaN  \n",
       "3  870786197450346497  2017-06-02 23:36:22 NaN  \n",
       "4  870724384914329603  2017-06-02 19:30:45 NaN  "
      ]
     },
     "execution_count": 203,
     "metadata": {},
     "output_type": "execute_result"
    }
   ],
   "source": [
    "df.head(5)"
   ]
  },
  {
   "cell_type": "code",
   "execution_count": 164,
   "metadata": {},
   "outputs": [
    {
     "data": {
      "text/plain": [
       "<pymongo.results.InsertManyResult at 0x11e32b7e0>"
      ]
     },
     "execution_count": 164,
     "metadata": {},
     "output_type": "execute_result"
    }
   ],
   "source": [
    "records = json.loads(df.T.to_json()).values()\n",
    "db.stocks.insert_many(records)"
   ]
  },
  {
   "cell_type": "code",
   "execution_count": 147,
   "metadata": {},
   "outputs": [
    {
     "ename": "NameError",
     "evalue": "name 'read_mongo' is not defined",
     "output_type": "error",
     "traceback": [
      "\u001b[0;31m---------------------------------------------------------------------------\u001b[0m",
      "\u001b[0;31mNameError\u001b[0m                                 Traceback (most recent call last)",
      "\u001b[0;32m<ipython-input-147-52c8ff502b17>\u001b[0m in \u001b[0;36m<module>\u001b[0;34m()\u001b[0m\n\u001b[1;32m      1\u001b[0m \u001b[0;32mimport\u001b[0m \u001b[0mpymongo\u001b[0m\u001b[0;34m\u001b[0m\u001b[0m\n\u001b[0;32m----> 2\u001b[0;31m \u001b[0mdff\u001b[0m \u001b[0;34m=\u001b[0m \u001b[0mread_mongo\u001b[0m\u001b[0;34m(\u001b[0m\u001b[0mdb\u001b[0m\u001b[0;34m,\u001b[0m \u001b[0;34m'myCollection'\u001b[0m\u001b[0;34m)\u001b[0m\u001b[0;34m\u001b[0m\u001b[0m\n\u001b[0m",
      "\u001b[0;31mNameError\u001b[0m: name 'read_mongo' is not defined"
     ]
    }
   ],
   "source": [
    "import pymongo\n",
    "dff = read_mongo(db, 'myCollection')"
   ]
  },
  {
   "cell_type": "code",
   "execution_count": null,
   "metadata": {
    "collapsed": true
   },
   "outputs": [],
   "source": [
    "# df['A'] = pd.to_datetime(df['A'])"
   ]
  },
  {
   "cell_type": "code",
   "execution_count": 126,
   "metadata": {
    "collapsed": true
   },
   "outputs": [],
   "source": [
    "# for status in tweepy.Cursor(api.user_timeline, screen_name='@VolumePrintcess').items(100):\n",
    "#     print(status._json['text'])"
   ]
  },
  {
   "cell_type": "code",
   "execution_count": 144,
   "metadata": {
    "collapsed": true
   },
   "outputs": [],
   "source": [
    "# def get_public_tweets():\n",
    "#     public_tweets = tweepy.api.user_timeline('VolumePrintcess')\n",
    "#     for tweet in public_tweets:\n",
    "#         print(tweet.text)\n",
    "#         print(tweet.author)"
   ]
  },
  {
   "cell_type": "code",
   "execution_count": null,
   "metadata": {
    "collapsed": true
   },
   "outputs": [],
   "source": []
  },
  {
   "cell_type": "code",
   "execution_count": 52,
   "metadata": {
    "collapsed": true
   },
   "outputs": [],
   "source": [
    "results2 = []\n",
    "for status in tweepy.Cursor(api.user_timeline, screen_name='@VolumePrintcess').items(100):\n",
    "    results2.append(status._json['text'])"
   ]
  },
  {
   "cell_type": "code",
   "execution_count": 79,
   "metadata": {
    "collapsed": true,
    "scrolled": true
   },
   "outputs": [],
   "source": [
    "# status._json['']"
   ]
  },
  {
   "cell_type": "code",
   "execution_count": 94,
   "metadata": {
    "collapsed": true
   },
   "outputs": [],
   "source": [
    "results = []\n",
    "\n",
    "for tweet in tweepy.Cursor(api.search, q=\"$AXP\", screen_name='@VolumePrintcess').items(100):\n",
    "    results.append(tweet)"
   ]
  },
  {
   "cell_type": "code",
   "execution_count": null,
   "metadata": {
    "collapsed": true
   },
   "outputs": [],
   "source": [
    "def structure_results(results):\n",
    "    id_list = [tweet.id for tweet in results]\n",
    "    data = pd.DataFrame(id_list, columns=[''])\n",
    "    \n",
    "    data[\"text\"] = [tweet.text.encode('utf-8') for tweet in results]\n",
    "    data[\"datetime\"] = [tweet.created_at for tweet in results]\n",
    "    data[\"Location\"] = [tweet.place for tweet in results]\n",
    "#     data[\"text2\"] = []\n",
    "    \n",
    "    return data"
   ]
  },
  {
   "cell_type": "code",
   "execution_count": 169,
   "metadata": {
    "collapsed": true,
    "scrolled": true
   },
   "outputs": [],
   "source": [
    "data = structure_results(results)\n",
    "# data.tail(data.Location == 'None')\n",
    "# data[data.Location != 'None']\n",
    "# tweepy.Cursor(api.search, q='cricket', geocode=\"-22.9122,-43.2302,1km\").items(10)"
   ]
  },
  {
   "cell_type": "code",
   "execution_count": 171,
   "metadata": {
    "collapsed": true
   },
   "outputs": [],
   "source": [
    "# data['text'] = data['text'].str.decode(\"utf-8\")"
   ]
  },
  {
   "cell_type": "code",
   "execution_count": 172,
   "metadata": {},
   "outputs": [
    {
     "data": {
      "text/html": [
       "<div>\n",
       "<table border=\"1\" class=\"dataframe\">\n",
       "  <thead>\n",
       "    <tr style=\"text-align: right;\">\n",
       "      <th></th>\n",
       "      <th></th>\n",
       "      <th>text</th>\n",
       "      <th>datetime</th>\n",
       "      <th>Location</th>\n",
       "    </tr>\n",
       "  </thead>\n",
       "  <tbody>\n",
       "    <tr>\n",
       "      <th>0</th>\n",
       "      <td>871824356606963716</td>\n",
       "      <td>$AXP American Express Company Press Release: American Express Vice Chairman to Participate in the William Bla\\nFrom our Stock News Alerts App</td>\n",
       "      <td>2017-06-05 20:21:38</td>\n",
       "      <td>None</td>\n",
       "    </tr>\n",
       "    <tr>\n",
       "      <th>1</th>\n",
       "      <td>871823156100706310</td>\n",
       "      <td>$AXP American Express Company Press Release: Hilton Completes Request for Proposal Process for Hilton Honors \\nFrom our Stock News Alerts App</td>\n",
       "      <td>2017-06-05 20:16:52</td>\n",
       "      <td>None</td>\n",
       "    </tr>\n",
       "    <tr>\n",
       "      <th>2</th>\n",
       "      <td>871822734535405568</td>\n",
       "      <td>$AXP American Express Vice Chairman to Participate in the William Blair Growth Stock Conference https://t.co/VYnrZbw1vE</td>\n",
       "      <td>2017-06-05 20:15:12</td>\n",
       "      <td>None</td>\n",
       "    </tr>\n",
       "    <tr>\n",
       "      <th>3</th>\n",
       "      <td>871817931449085953</td>\n",
       "      <td>$AXP American Express Vice Chairman to Participate in the William Blair Growth Stock Conference... - https://t.co/5Y2OtGrAxo</td>\n",
       "      <td>2017-06-05 19:56:07</td>\n",
       "      <td>None</td>\n",
       "    </tr>\n",
       "    <tr>\n",
       "      <th>4</th>\n",
       "      <td>871817881989894144</td>\n",
       "      <td>$AXP American Express Vice Chairman to Participate in the William Blair Growth Stock... https://t.co/g0zTT9UDOT</td>\n",
       "      <td>2017-06-05 19:55:55</td>\n",
       "      <td>None</td>\n",
       "    </tr>\n",
       "    <tr>\n",
       "      <th>5</th>\n",
       "      <td>871813223812431872</td>\n",
       "      <td>text correction $SPX, not $AXP! you can apply Kelly criterion to American Experss or a port, etc!</td>\n",
       "      <td>2017-06-05 19:37:24</td>\n",
       "      <td>None</td>\n",
       "    </tr>\n",
       "    <tr>\n",
       "      <th>6</th>\n",
       "      <td>871806510657028096</td>\n",
       "      <td>Warren Buffett via @Stocks_Live #stocks #stockmarket $KHC $WFC $AAPL $KO $AXP $IBM $PSX $USB $CHTR $MCO $DVA $LUV… https://t.co/yzdkcRprEq</td>\n",
       "      <td>2017-06-05 19:10:44</td>\n",
       "      <td>None</td>\n",
       "    </tr>\n",
       "    <tr>\n",
       "      <th>7</th>\n",
       "      <td>871797335189336064</td>\n",
       "      <td>American Express Company (AXP) Presents At Bernstein's 33rd Annual Strategic Decisions Conf... https://t.co/YoUqEXjqoV $AXP OMG-STOCK SYMB…</td>\n",
       "      <td>2017-06-05 18:34:16</td>\n",
       "      <td>None</td>\n",
       "    </tr>\n",
       "    <tr>\n",
       "      <th>8</th>\n",
       "      <td>871797104418729984</td>\n",
       "      <td>American Express Company (AXP) Presents At Bernstein's 33rd Annual Strategic Decisions Conf... https://t.co/YoUqEXjqoV $AXP check out TICK…</td>\n",
       "      <td>2017-06-05 18:33:21</td>\n",
       "      <td>None</td>\n",
       "    </tr>\n",
       "    <tr>\n",
       "      <th>9</th>\n",
       "      <td>871796274764193796</td>\n",
       "      <td>American Express Company (AXP) Presents At Bernstein's 33rd Annual Strategic Decisions Conf... https://t.co/Uu482RVnVK $AXP</td>\n",
       "      <td>2017-06-05 18:30:03</td>\n",
       "      <td>None</td>\n",
       "    </tr>\n",
       "  </tbody>\n",
       "</table>\n",
       "</div>"
      ],
      "text/plain": [
       "                       \\\n",
       "0  871824356606963716   \n",
       "1  871823156100706310   \n",
       "2  871822734535405568   \n",
       "3  871817931449085953   \n",
       "4  871817881989894144   \n",
       "5  871813223812431872   \n",
       "6  871806510657028096   \n",
       "7  871797335189336064   \n",
       "8  871797104418729984   \n",
       "9  871796274764193796   \n",
       "\n",
       "                                                                                                                                            text  \\\n",
       "0  $AXP American Express Company Press Release: American Express Vice Chairman to Participate in the William Bla\\nFrom our Stock News Alerts App   \n",
       "1  $AXP American Express Company Press Release: Hilton Completes Request for Proposal Process for Hilton Honors \\nFrom our Stock News Alerts App   \n",
       "2  $AXP American Express Vice Chairman to Participate in the William Blair Growth Stock Conference https://t.co/VYnrZbw1vE                         \n",
       "3  $AXP American Express Vice Chairman to Participate in the William Blair Growth Stock Conference... - https://t.co/5Y2OtGrAxo                    \n",
       "4  $AXP American Express Vice Chairman to Participate in the William Blair Growth Stock... https://t.co/g0zTT9UDOT                                 \n",
       "5  text correction $SPX, not $AXP! you can apply Kelly criterion to American Experss or a port, etc!                                               \n",
       "6  Warren Buffett via @Stocks_Live #stocks #stockmarket $KHC $WFC $AAPL $KO $AXP $IBM $PSX $USB $CHTR $MCO $DVA $LUV… https://t.co/yzdkcRprEq      \n",
       "7  American Express Company (AXP) Presents At Bernstein's 33rd Annual Strategic Decisions Conf... https://t.co/YoUqEXjqoV $AXP OMG-STOCK SYMB…     \n",
       "8  American Express Company (AXP) Presents At Bernstein's 33rd Annual Strategic Decisions Conf... https://t.co/YoUqEXjqoV $AXP check out TICK…     \n",
       "9  American Express Company (AXP) Presents At Bernstein's 33rd Annual Strategic Decisions Conf... https://t.co/Uu482RVnVK $AXP                     \n",
       "\n",
       "             datetime Location  \n",
       "0 2017-06-05 20:21:38  None     \n",
       "1 2017-06-05 20:16:52  None     \n",
       "2 2017-06-05 20:15:12  None     \n",
       "3 2017-06-05 19:56:07  None     \n",
       "4 2017-06-05 19:55:55  None     \n",
       "5 2017-06-05 19:37:24  None     \n",
       "6 2017-06-05 19:10:44  None     \n",
       "7 2017-06-05 18:34:16  None     \n",
       "8 2017-06-05 18:33:21  None     \n",
       "9 2017-06-05 18:30:03  None     "
      ]
     },
     "execution_count": 172,
     "metadata": {},
     "output_type": "execute_result"
    }
   ],
   "source": [
    "data.head(10)"
   ]
  },
  {
   "cell_type": "markdown",
   "metadata": {},
   "source": [
    "**MONGO**"
   ]
  },
  {
   "cell_type": "code",
   "execution_count": 150,
   "metadata": {
    "collapsed": true
   },
   "outputs": [],
   "source": [
    "import json\n",
    "from pymongo import MongoClient\n",
    "\n",
    "\n",
    "client = MongoClient(port=12345)\n",
    "db = client.stocks\n",
    "tweets = db.stock_whisperer"
   ]
  },
  {
   "cell_type": "code",
   "execution_count": 32,
   "metadata": {
    "collapsed": true
   },
   "outputs": [],
   "source": [
    "for tweet in results:\n",
    "    data = {}\n",
    "    data['tweet'] = tweet.text.encode('utf-8') \n",
    "    data['datetime'] = tweet.created_at\n",
    "    tweets.insert_one(data)"
   ]
  },
  {
   "cell_type": "code",
   "execution_count": 33,
   "metadata": {},
   "outputs": [
    {
     "data": {
      "text/plain": [
       "{'_id': ObjectId('5935b071ea2a7c037b2edbeb'),\n",
       " 'datetime': datetime.datetime(2017, 6, 5, 19, 10, 44),\n",
       " 'tweet': b'Warren Buffett via @Stocks_Live #stocks #stockmarket $KHC $WFC $AAPL $KO $AXP $IBM $PSX $USB $CHTR $MCO $DVA $LUV\\xe2\\x80\\xa6 https://t.co/yzdkcRprEq'}"
      ]
     },
     "execution_count": 33,
     "metadata": {},
     "output_type": "execute_result"
    }
   ],
   "source": [
    "tweets.find_one()"
   ]
  },
  {
   "cell_type": "code",
   "execution_count": null,
   "metadata": {
    "collapsed": true
   },
   "outputs": [],
   "source": []
  },
  {
   "cell_type": "code",
   "execution_count": null,
   "metadata": {
    "collapsed": true
   },
   "outputs": [],
   "source": [
    "# data['text'] = data['text'].str.decode(\"utf-8\")"
   ]
  },
  {
   "cell_type": "code",
   "execution_count": null,
   "metadata": {
    "collapsed": true
   },
   "outputs": [],
   "source": [
    "list1 = []\n",
    "for i in range(len(data['text'])):\n",
    "    list1.append(data['text'].str.split(' https')[i][0])"
   ]
  },
  {
   "cell_type": "code",
   "execution_count": null,
   "metadata": {
    "collapsed": true
   },
   "outputs": [],
   "source": [
    "se = pd.Series(list1)\n",
    "data['cleanedtext'] = se.values"
   ]
  },
  {
   "cell_type": "code",
   "execution_count": null,
   "metadata": {
    "collapsed": true
   },
   "outputs": [],
   "source": [
    "corpus = data['cleanedtext']"
   ]
  },
  {
   "cell_type": "code",
   "execution_count": null,
   "metadata": {
    "collapsed": true
   },
   "outputs": [],
   "source": [
    "import string\n",
    "def remove_punct(corpus):\n",
    "    # regular expression to remove punctuation\n",
    "    punc_re = re.compile('[%s]' % re.escape(string.punctuation))\n",
    "    corpus = map(lambda x: punc_re.sub(' ', x), corpus)\n",
    "    return list(corpus)\n",
    "corpus = remove_punct(corpus)"
   ]
  },
  {
   "cell_type": "code",
   "execution_count": null,
   "metadata": {
    "collapsed": true
   },
   "outputs": [],
   "source": [
    "from nltk.stem.snowball import SnowballStemmer\n",
    "stemmer = SnowballStemmer(\"english\")\n",
    "\n",
    "def tokenize_and_stem(text):\n",
    "    # first tokenize by sentence, then by word to ensure that punctuation is caught as it's own token\n",
    "    tokens = [word for sent in nltk.sent_tokenize(text) for word in nltk.word_tokenize(sent)]\n",
    "    filtered_tokens = []\n",
    "    # filter out any tokens not containing letters (e.g., numeric tokens, raw punctuation)\n",
    "    for token in tokens:\n",
    "        if re.search('[a-zA-Z]', token):\n",
    "            filtered_tokens.append(token)\n",
    "    stems = [stemmer.stem(t) for t in filtered_tokens]\n",
    "    return stems\n",
    "\n",
    "def tokenize_only(text):\n",
    "    # first tokenize by sentence, then by word to ensure that punctuation is caught as it's own token\n",
    "    tokens = [word.lower() for sent in nltk.sent_tokenize(text) for word in nltk.word_tokenize(sent)]\n",
    "    filtered_tokens = []\n",
    "    # filter out any tokens not containing letters (e.g., numeric tokens, raw punctuation)\n",
    "    for token in tokens:\n",
    "        if re.search('[a-zA-Z]', token):\n",
    "            filtered_tokens.append(token)\n",
    "    return filtered_tokens"
   ]
  },
  {
   "cell_type": "code",
   "execution_count": 546,
   "metadata": {
    "collapsed": true
   },
   "outputs": [],
   "source": [
    "totalvocab_stemmed = []\n",
    "totalvocab_tokenized = []\n",
    "for i in corpus:\n",
    "    allwords_stemmed = tokenize_and_stem(i) #for each item in 'synopses', tokenize/stem\n",
    "    totalvocab_stemmed.extend(allwords_stemmed) #extend the 'totalvocab_stemmed' list\n",
    "    \n",
    "    allwords_tokenized = tokenize_only(i)\n",
    "    totalvocab_tokenized.extend(allwords_tokenized)"
   ]
  },
  {
   "cell_type": "code",
   "execution_count": 547,
   "metadata": {},
   "outputs": [
    {
     "name": "stdout",
     "output_type": "stream",
     "text": [
      "there are 435 items in vocab_frame\n"
     ]
    }
   ],
   "source": [
    "vocab_frame = pd.DataFrame({'words': totalvocab_tokenized}, index = totalvocab_stemmed)\n",
    "print ('there are ' + str(vocab_frame.shape[0]) + ' items in vocab_frame')"
   ]
  },
  {
   "cell_type": "code",
   "execution_count": 548,
   "metadata": {
    "collapsed": true
   },
   "outputs": [],
   "source": [
    "remove_nums = lambda x: re.sub(r\"\"\"\\w*\\d\\w*\"\"\", ' ', x.lower())"
   ]
  },
  {
   "cell_type": "code",
   "execution_count": 549,
   "metadata": {
    "collapsed": true
   },
   "outputs": [],
   "source": [
    "stop = stopwords.words('english')\n",
    "stop.append('wi')\n",
    "stop.append('khc')\n",
    "stop.append('co')\n",
    "stop.append('llc')\n",
    "stop.append('inc')\n",
    "stop.append('clx')\n",
    "stop.append('ci')\n",
    "stop.append('benz')\n",
    "stop.append('llc')\n",
    "stop.append('schaper')\n",
    "stop.append('ria')\n",
    "stop.append('usca')\n",
    "stop.append('fang')\n",
    "stop.append('pbwm')\n",
    "stop.append('jpm')\n",
    "stop.append('amp')\n"
   ]
  },
  {
   "cell_type": "code",
   "execution_count": 550,
   "metadata": {
    "collapsed": true
   },
   "outputs": [],
   "source": [
    "from sklearn.feature_extraction.text import TfidfVectorizer\n",
    "tf = TfidfVectorizer(max_df=0.8, max_features=200000,\n",
    "                     stop_words=stop, preprocessor=remove_nums,\n",
    "                                 use_idf=True)\n",
    "\n",
    "X2 = tf.fit_transform(corpus)\n",
    "\n",
    "# bagofwords2 = pd.DataFrame(X2,\n",
    "#              columns=tf.get_feature_names())"
   ]
  },
  {
   "cell_type": "code",
   "execution_count": 551,
   "metadata": {
    "collapsed": true
   },
   "outputs": [],
   "source": [
    "terms = tf.get_feature_names()"
   ]
  },
  {
   "cell_type": "code",
   "execution_count": 552,
   "metadata": {
    "collapsed": true
   },
   "outputs": [],
   "source": [
    "from sklearn.metrics.pairwise import cosine_similarity\n",
    "dist = 1 - cosine_similarity(X2)"
   ]
  },
  {
   "cell_type": "code",
   "execution_count": 553,
   "metadata": {},
   "outputs": [
    {
     "name": "stdout",
     "output_type": "stream",
     "text": [
      "CPU times: user 119 ms, sys: 6.32 ms, total: 126 ms\n",
      "Wall time: 136 ms\n",
      "Silhouette Coefficient: 0.443\n"
     ]
    }
   ],
   "source": [
    "num_clusters = 8\n",
    "km = KMeans(n_clusters=num_clusters)\n",
    "%time km.fit(X2)\n",
    "clusters = km.labels_.tolist()\n",
    "\n",
    "kmlabels = km.labels_\n",
    "\n",
    "# Number of clusters in labels, ignoring noise if present.\n",
    "n_clusters_ = len(set(kmlabels)) - (1 if -1 in kmlabels else 0)\n",
    "print(\"Silhouette Coefficient: %0.3f\"\n",
    "      % metrics.silhouette_score(X2, kmlabels))"
   ]
  },
  {
   "cell_type": "code",
   "execution_count": 554,
   "metadata": {
    "collapsed": true
   },
   "outputs": [],
   "source": [
    "data['clusters'] = clusters\n",
    "data.set_index('clusters', inplace=True)\n",
    "data['clusters2'] = clusters"
   ]
  },
  {
   "cell_type": "code",
   "execution_count": 555,
   "metadata": {},
   "outputs": [
    {
     "name": "stdout",
     "output_type": "stream",
     "text": [
      "Top terms per cluster:\n",
      "\n",
      "Cluster 0 words: b'long', b'recommendation', b'visa',\n",
      "\n",
      "Cluster 0 titles: Long $AXP, Justice Department drops $AXP antitrust case, 11 states file petition, WSJ says, $AXP What Analysts Recommend for Visa, Good morning. Stocks on watch for 06/05/2017: $AXP $DD $PG $DHI. ETFs: $XBI $SCHH. Spec Play: $TACO., 6/5 Triple Cross(5/20 EMA, RSI, MACD): bullish - $AXP, $ILMN, $LEG, $LULU, $PHM, $RHI.\n",
      "bearish - $MTB.,\n",
      "\n",
      "Cluster 1 words: b'lift', b'brand', b'hilton', b'could', b'hlt', b'amex',\n",
      "\n",
      "Cluster 1 titles: RT @BIIntelligence: Hilton co-brand could lift Amex $AXP $HLT, businessinsider: Hilton co-brand could lift Amex $AXP $HLT, $AXP Hilton co-brand could lift Amex, businessinsider: Hilton co-brand could lift Amex $AXP $HLT, Hilton co-brand could lift Amex $AXP $HLT, Hilton co-brand could lift Amex $AXP $HLT, clusterstock: Hilton co-brand could lift Amex $AXP $HLT, Hilton co-brand could lift Amex $AXP $HLT, RT: businessinsider:Hilton co-brand could lift Amex $AXP $HLT, Hilton co-brand could lift Amex $AXP $HLT, Hilton co-brand could lift Amex $AXP $HLT, Hilton co-brand could lift Amex $AXP $HLT, Hilton co-brand could lift Amex $AXP $HLT,\n",
      "\n",
      "Cluster 2 words: b'suit', b'press', b'doj', b'amex',\n",
      "\n",
      "Cluster 2 titles: #States press on after #DOJ drops #AmEx suit $AXP #Antitrust , $AXP:\n",
      "\n",
      "States press on after DOJ drops AmEx suit:\n",
      "\n",
      "https://t.co/f4zy19qS9k, States press on after DOJ drops AmEx suit, States press on after DOJ drops AmEx suit, States press on after DOJ drops AmEx suit,\n",
      "\n",
      "Cluster 3 words: b'sold', b'appleton', b'american',\n",
      "\n",
      "Cluster 3 titles: American Express Company $AXP Shares Sold by Appleton Partners Inc. MA, American Express Company $AXP Shares Sold by GFS Advisors LLC, American Express Company $AXP Shares Sold by Appleton Partners Inc. MA, American Express Company $AXP Shares Sold by Appleton Partners Inc. MA, American Express Company $AXP Shares Sold by Appleton Partners Inc. MA,\n",
      "\n",
      "Cluster 4 words: b'stake', b'express', b'american', b'million', b'houston',\n",
      "\n",
      "Cluster 4 titles: American Express $AXP market alert: 4-week high @ 78.76, First Houston Capital Inc. Has $1.12 Million Stake in American Express Company $AXP, First Houston Capital Inc. Has $1.12 Million Stake in American Express Company $AXP, American Express Company $AXP Issues FY17 Earnings Guidance, Wheatland Advisors Inc. Has $324,000 Stake in American Express Company $AXP, Wheatland Advisors Inc. Has $324,000 Stake in American Express Company $AXP, First Houston Capital Inc. Has $1.12 Million Stake in American Express Company $AXP, RT @AmyDaniel212: #aspire to be the #best company in the world, #everyday #goals -,\n",
      "\n",
      "Cluster 5 words: b'hold', b'bmo', b'american',\n",
      "\n",
      "Cluster 5 titles: Recommendation #HOLD for $AXP with UB rating - 2.75 out of 5., BMO Capital Markets Reiterates Hold Rating for American Express Company $AXP, WASHINGTON TRUST Co Continues to Hold Position in American Express Company $AXP, BMO Capital Markets Reiterates Hold Rating for American Express Company $AXP,\n",
      "\n",
      "Cluster 6 words: b'monday', b'odfl', b'trade',\n",
      "\n",
      "Cluster 6 titles: Dragonfly Capital - 5 Trade Ideas for Monday: $AXP $ CI $CLX $KHC $ODFL, Dragonfly Capital - 5 Trade Ideas for Monday: $AXP $ CI $CLX $KHC $ODFL, 5 Trade Ideas For Monday: $AXP, CI, CLX, KHC, ODFL -,\n",
      "\n",
      "Cluster 7 words: b'buffett', b'warren', b'robert', b'portfolio', b'hagstrom', b'preston',\n",
      "\n",
      "Cluster 7 titles: Warren Buffett's 3 Favorite Books by Preston George Pysh:, The Warren Buffett Portfolio by Robert G. Hagstrom:,\n",
      "\n"
     ]
    }
   ],
   "source": [
    "###KMEANS\n",
    "\n",
    "print(\"Top terms per cluster:\")\n",
    "print()\n",
    "#sort cluster centers by proximity to centroid\n",
    "order_centroids = km.cluster_centers_.argsort()[:, ::-1] \n",
    "\n",
    "for i in range(num_clusters):\n",
    "    print(\"Cluster %d words:\" % i, end='')\n",
    "    \n",
    "    temp_list = []\n",
    "    for ind in order_centroids[i, :6]: #replace 6 with n words per cluster\n",
    "        try:\n",
    "            temp_list.append(terms[ind])\n",
    "            print(' %s' % vocab_frame.ix[terms[ind].split(' ')].values.tolist()[0][0].encode('utf-8', 'ignore'), end=',')\n",
    "        except:\n",
    "            pass\n",
    "    #the line below is for creating labels for the graph using the first threw words\n",
    "    #cluster_names[i] = ', '.join(temp_list[:3])\n",
    "    \n",
    "    print() #add whitespace\n",
    "    print() #add whitespace\n",
    "    \n",
    "    print(\"Cluster %d titles:\" % i, end='')\n",
    "    try:\n",
    "        for title in list(data.ix[i]['cleanedtext'].values)[:30]:\n",
    "            try:\n",
    "                print(' %s,' % title, end='')\n",
    "            except:\n",
    "                pass\n",
    "    except AttributeError:\n",
    "        print(data.ix[i]['cleanedtext'])\n",
    "    \n",
    "    print() #add whitespace\n",
    "    print() #add whitespace"
   ]
  },
  {
   "cell_type": "code",
   "execution_count": 529,
   "metadata": {},
   "outputs": [
    {
     "name": "stdout",
     "output_type": "stream",
     "text": [
      "\n",
      "\n"
     ]
    }
   ],
   "source": [
    "import os  # for os.path.basename\n",
    "\n",
    "import matplotlib.pyplot as plt\n",
    "import matplotlib as mpl\n",
    "\n",
    "from sklearn.manifold import MDS\n",
    "\n",
    "MDS()\n",
    "\n",
    "# convert two components as we're plotting points in a two-dimensional plane\n",
    "# \"precomputed\" because we provide a distance matrix\n",
    "# Random State is set seed in R\n",
    "mds = MDS(n_components=2, dissimilarity=\"precomputed\", random_state=1)\n",
    "\n",
    "pos = mds.fit_transform(dist)  # shape (n_components, n_samples)\n",
    "\n",
    "xs, ys = pos[:, 0], pos[:, 1]\n",
    "print()\n",
    "print()"
   ]
  },
  {
   "cell_type": "raw",
   "metadata": {
    "collapsed": true
   },
   "source": [
    "%matplotlib inline \n",
    "cluster_colors = {0: '#1b9e77', 1: '#d95f02',2: '#7570b3',\n",
    "                  3: '#e7298a', 4: '#66a61e', 5: '#25a61e', 6: '#93a61e', 7: '#349a62'}\n",
    "\n",
    "cluster_names = {0: 'random 3 topics', \n",
    "                 1: 'topic, blah, blah',          \n",
    "                 2: 'Father, New York, brothers', \n",
    "                 3: 'random, blah, love',\n",
    "                 4: 'what, blah, captain',\n",
    "                 5: 'Blah, blah blah',\n",
    "                 6: 'This is the 7th',\n",
    "                7: 'This is the 8th'}"
   ]
  },
  {
   "cell_type": "code",
   "execution_count": 530,
   "metadata": {
    "collapsed": true
   },
   "outputs": [],
   "source": [
    "dfpt2 = pd.DataFrame(dict(x=xs, y=ys, label=clusters, title=data.cleanedtext))\n",
    "groups = dfpt2.groupby('label')"
   ]
  },
  {
   "cell_type": "code",
   "execution_count": 531,
   "metadata": {},
   "outputs": [
    {
     "data": {
      "image/png": "[encoded data removed]",
      "text/plain": [
       "<matplotlib.figure.Figure at 0x11f3f97f0>"
      ]
     },
     "metadata": {},
     "output_type": "display_data"
    }
   ],
   "source": [
    "# set up plot\n",
    "fig, ax = plt.subplots(figsize=(17, 9)) # set size\n",
    "ax.margins(0.05) # Optional, just adds 5% padding to the autoscaling\n",
    "\n",
    "#iterate through groups to layer the plot\n",
    "#note that I use the cluster_name and cluster_color dicts with the 'name' lookup to return the appropriate color/label\n",
    "for name, group in groups:\n",
    "    ax.plot(group.x, group.y, marker='o', linestyle='', ms=12, \n",
    "            label=cluster_names[name], color=cluster_colors[name], \n",
    "            mec='none')\n",
    "    ax.set_aspect('auto')\n",
    "    ax.tick_params(\\\n",
    "        axis= 'x',          # changes apply to the x-axis\n",
    "        which='both',      # both major and minor ticks are affected\n",
    "        bottom='off',      # ticks along the bottom edge are off\n",
    "        top='off',         # ticks along the top edge are off\n",
    "        labelbottom='off')\n",
    "    ax.tick_params(\\\n",
    "        axis= 'y',         # changes apply to the y-axis\n",
    "        which='both',      # both major and minor ticks are affected\n",
    "        left='off',      # ticks along the bottom edge are off\n",
    "        top='off',         # ticks along the top edge are off\n",
    "        labelleft='off')\n",
    "    \n",
    "ax.legend(numpoints=1)  #show legend with only 1 point\n",
    "\n",
    "#add label in x,y position with the label as the film title\n",
    "# for i in range(len(dfpt2)):\n",
    "#     ax.text(dfpt2.ix[i]['x'], dfpt2.ix[i]['y'], dfpt2.ix[i]['title'], size=8)  \n",
    "\n",
    "    \n",
    "    \n",
    "plt.show() #show the plot\n",
    "\n",
    "#uncomment the below to save the plot if need be\n",
    "#plt.savefig('clusters_small_noaxes.png', dpi=200)"
   ]
  },
  {
   "cell_type": "code",
   "execution_count": null,
   "metadata": {
    "collapsed": true
   },
   "outputs": [],
   "source": [
    "# for tweet in results:\n",
    "#     data = {}\n",
    "#     data['tweet'] = tweet.text.encode('utf-8') \n",
    "#     data['datetime'] = tweet.created_at\n",
    "#     tweets.insert_one(data)"
   ]
  },
  {
   "cell_type": "code",
   "execution_count": 165,
   "metadata": {
    "collapsed": true
   },
   "outputs": [],
   "source": [
    "from pandas import DataFrame\n",
    "\n",
    "dff = DataFrame(list(db.stocks.find({})))"
   ]
  },
  {
   "cell_type": "code",
   "execution_count": 166,
   "metadata": {},
   "outputs": [
    {
     "data": {
      "text/html": [
       "<div>\n",
       "<table border=\"1\" class=\"dataframe\">\n",
       "  <thead>\n",
       "    <tr style=\"text-align: right;\">\n",
       "      <th></th>\n",
       "      <th>_id</th>\n",
       "      <th>created_at</th>\n",
       "      <th>id</th>\n",
       "      <th>text</th>\n",
       "    </tr>\n",
       "  </thead>\n",
       "  <tbody>\n",
       "    <tr>\n",
       "      <th>0</th>\n",
       "      <td>5935f1d8ea2a7c037b2ef58d</td>\n",
       "      <td>2015-08-05 16:03:24</td>\n",
       "      <td>628959498359603202</td>\n",
       "      <td>b'$SPY 210.95 sell print 1.4 mil http://t.co/vjUy0wNcZH'</td>\n",
       "    </tr>\n",
       "    <tr>\n",
       "      <th>1</th>\n",
       "      <td>5935f1d8ea2a7c037b2ef58e</td>\n",
       "      <td>2015-12-31 15:55:47</td>\n",
       "      <td>682590986015490048</td>\n",
       "      <td>b'The Stock Whisper Of The Day: $WTW $SPY https://t.co/O0AHqoXBr0'</td>\n",
       "    </tr>\n",
       "    <tr>\n",
       "      <th>2</th>\n",
       "      <td>5935f1d8ea2a7c037b2ef58f</td>\n",
       "      <td>2016-12-21 14:46:35</td>\n",
       "      <td>811583650479411200</td>\n",
       "      <td>b'The #Stock Whisper Of The Day:$FCX $IAU $MU $EWZ $SPY https://t.co/P0l9y02ts7'</td>\n",
       "    </tr>\n",
       "    <tr>\n",
       "      <th>3</th>\n",
       "      <td>5935f1d8ea2a7c037b2ef590</td>\n",
       "      <td>2016-11-10 14:41:59</td>\n",
       "      <td>796724592693878784</td>\n",
       "      <td>b'Commented on StockTwits: I follow the good money ;-) the smart mo... https://t.co/vU3ZuJP6q3'</td>\n",
       "    </tr>\n",
       "    <tr>\n",
       "      <th>4</th>\n",
       "      <td>5935f1d8ea2a7c037b2ef591</td>\n",
       "      <td>2015-06-26 12:19:37</td>\n",
       "      <td>614407664668311552</td>\n",
       "      <td>b\"Yesterday's #Whisper $STM approaching 8.60 target $$ http://t.co/eCQT03AzeT\"</td>\n",
       "    </tr>\n",
       "    <tr>\n",
       "      <th>5</th>\n",
       "      <td>5935f1d8ea2a7c037b2ef592</td>\n",
       "      <td>2016-11-14 14:32:16</td>\n",
       "      <td>798171698180689921</td>\n",
       "      <td>b\"Today's #HOT #Whisper $MT $USO $NUGT  https://t.co/MzA0T4BLkp\"</td>\n",
       "    </tr>\n",
       "    <tr>\n",
       "      <th>6</th>\n",
       "      <td>5935f1d8ea2a7c037b2ef593</td>\n",
       "      <td>2015-12-21 03:35:59</td>\n",
       "      <td>678780931822497792</td>\n",
       "      <td>b'@traderstack I also call out my swing trades in my live trading room'</td>\n",
       "    </tr>\n",
       "    <tr>\n",
       "      <th>7</th>\n",
       "      <td>5935f1d8ea2a7c037b2ef594</td>\n",
       "      <td>2015-08-24 14:41:53</td>\n",
       "      <td>635824354157293568</td>\n",
       "      <td>b'The #Stock Whisper Of The Day: $CSIQ http://t.co/y23AhrubzN'</td>\n",
       "    </tr>\n",
       "    <tr>\n",
       "      <th>8</th>\n",
       "      <td>5935f1d8ea2a7c037b2ef595</td>\n",
       "      <td>2016-03-27 18:36:47</td>\n",
       "      <td>714159248314224641</td>\n",
       "      <td>b'Don\\'t miss out FREE #HOT online webinar \"How to read the tape using old fashioned levels and dark pool data feed\"   https://t.co/X9CP8Eh2ev'</td>\n",
       "    </tr>\n",
       "    <tr>\n",
       "      <th>9</th>\n",
       "      <td>5935f1d8ea2a7c037b2ef596</td>\n",
       "      <td>2016-01-07 03:30:53</td>\n",
       "      <td>684940241753391104</td>\n",
       "      <td>b'Another volatile night $/ES_F down big already.  Sleeping in my STFR t-shirt tonight $SPY https://t.co/fwauLV2Ixr'</td>\n",
       "    </tr>\n",
       "    <tr>\n",
       "      <th>10</th>\n",
       "      <td>5935f1d8ea2a7c037b2ef597</td>\n",
       "      <td>2015-04-01 13:52:25</td>\n",
       "      <td>583265663885557760</td>\n",
       "      <td>b'$SPY coming down .....following the prints is the only way, mute your television'</td>\n",
       "    </tr>\n",
       "    <tr>\n",
       "      <th>11</th>\n",
       "      <td>5935f1d8ea2a7c037b2ef598</td>\n",
       "      <td>2015-04-24 20:07:08</td>\n",
       "      <td>591694883930251265</td>\n",
       "      <td>b'The Java pit trading room rocked $$CLF $MT $PBR $FB $SBUX $MSFT $DDD $CSX $EWZ $TRQ $HAL $FCX  Trader of the day was Lesley aka Glider Girl'</td>\n",
       "    </tr>\n",
       "    <tr>\n",
       "      <th>12</th>\n",
       "      <td>5935f1d8ea2a7c037b2ef599</td>\n",
       "      <td>2016-01-29 22:50:44</td>\n",
       "      <td>693204659721273344</td>\n",
       "      <td>b\"Today's Whispers rocked! $BAC $VOD $HSBC $UGAZ https://t.co/AMa4O2kD0f\"</td>\n",
       "    </tr>\n",
       "    <tr>\n",
       "      <th>13</th>\n",
       "      <td>5935f1d8ea2a7c037b2ef59a</td>\n",
       "      <td>2016-02-03 14:26:50</td>\n",
       "      <td>694889788382527488</td>\n",
       "      <td>b'The #Stock Whisper Of The Day: $GM $GDX $SPY https://t.co/IOLiLvuXxd'</td>\n",
       "    </tr>\n",
       "    <tr>\n",
       "      <th>14</th>\n",
       "      <td>5935f1d8ea2a7c037b2ef59b</td>\n",
       "      <td>2015-11-27 14:58:13</td>\n",
       "      <td>670255311786233856</td>\n",
       "      <td>b'The Stock Whisper Of The Day: $EEM $GDX $SPY https://t.co/Ng5HlN6MAh'</td>\n",
       "    </tr>\n",
       "    <tr>\n",
       "      <th>15</th>\n",
       "      <td>5935f1d8ea2a7c037b2ef59c</td>\n",
       "      <td>2016-03-07 16:34:35</td>\n",
       "      <td>706880734640758784</td>\n",
       "      <td>b\"Today's whispers rocked $RIO $USO $UWTI $GFI  https://t.co/zvBwkAg4rA\"</td>\n",
       "    </tr>\n",
       "    <tr>\n",
       "      <th>16</th>\n",
       "      <td>5935f1d8ea2a7c037b2ef59d</td>\n",
       "      <td>2015-07-22 14:31:54</td>\n",
       "      <td>623863042996965376</td>\n",
       "      <td>b'FRESH off the Printing press $SPY late dark pool sell prints $211.82 bearish below http://t.co/M5QsBFSFjR'</td>\n",
       "    </tr>\n",
       "    <tr>\n",
       "      <th>17</th>\n",
       "      <td>5935f1d8ea2a7c037b2ef59e</td>\n",
       "      <td>2017-03-27 10:59:38</td>\n",
       "      <td>846315773685612544</td>\n",
       "      <td>b'Dark Pool sold $50 mil $SPY $236.55 (biggest level since 2015) before any of this news, stop blaming and start trading around the Dark Pool'</td>\n",
       "    </tr>\n",
       "    <tr>\n",
       "      <th>18</th>\n",
       "      <td>5935f1d8ea2a7c037b2ef59f</td>\n",
       "      <td>2015-06-19 13:40:35</td>\n",
       "      <td>611891327182049280</td>\n",
       "      <td>b'1st $SPY print of the day 700K 211.29 http://t.co/daGB6jGZdU'</td>\n",
       "    </tr>\n",
       "    <tr>\n",
       "      <th>19</th>\n",
       "      <td>5935f1d8ea2a7c037b2ef5a0</td>\n",
       "      <td>2015-11-03 18:30:08</td>\n",
       "      <td>661611330575556608</td>\n",
       "      <td>b'$MT just hit my #Whisper target $6.09  https://t.co/s8L09fJvqh'</td>\n",
       "    </tr>\n",
       "    <tr>\n",
       "      <th>20</th>\n",
       "      <td>5935f1d8ea2a7c037b2ef5a1</td>\n",
       "      <td>2016-02-12 13:41:42</td>\n",
       "      <td>698139920808828932</td>\n",
       "      <td>b\"Today's #HOT #Whisper $USO $SPY $IAU $CHD https://t.co/axHatnEy0x\"</td>\n",
       "    </tr>\n",
       "    <tr>\n",
       "      <th>21</th>\n",
       "      <td>5935f1d8ea2a7c037b2ef5a2</td>\n",
       "      <td>2016-01-05 15:35:37</td>\n",
       "      <td>684397851372204032</td>\n",
       "      <td>b'Prints so far $IWM $110.52, 110.12 $SPY 201.39 Bearish below https://t.co/oOTnYR9Bhb'</td>\n",
       "    </tr>\n",
       "    <tr>\n",
       "      <th>22</th>\n",
       "      <td>5935f1d8ea2a7c037b2ef5a3</td>\n",
       "      <td>2016-10-28 13:25:12</td>\n",
       "      <td>791994224757579776</td>\n",
       "      <td>b\"Today's #HOT #Whisper $HPQ $GT $USO https://t.co/FHZWfjbo26\"</td>\n",
       "    </tr>\n",
       "    <tr>\n",
       "      <th>23</th>\n",
       "      <td>5935f1d8ea2a7c037b2ef5a4</td>\n",
       "      <td>2016-02-10 17:15:30</td>\n",
       "      <td>697468947193462784</td>\n",
       "      <td>b'The Fed upthrust $SPY https://t.co/FtAaqzeMVE'</td>\n",
       "    </tr>\n",
       "    <tr>\n",
       "      <th>24</th>\n",
       "      <td>5935f1d8ea2a7c037b2ef5a5</td>\n",
       "      <td>2017-06-01 10:44:07</td>\n",
       "      <td>870229467788193793</td>\n",
       "      <td>b'Register now for 2nite\\'s LIVE FREE Webinar \"To Swing or Not To Swing\" Learn how to trade around the dark pool https://t.co/GsznF6KDFh'</td>\n",
       "    </tr>\n",
       "    <tr>\n",
       "      <th>25</th>\n",
       "      <td>5935f1d8ea2a7c037b2ef5a6</td>\n",
       "      <td>2015-04-06 13:44:36</td>\n",
       "      <td>585075636093362177</td>\n",
       "      <td>b'Big print alert $HAL 2.5 mil shares @44.15 http://t.co/yhH0XMI6rU'</td>\n",
       "    </tr>\n",
       "    <tr>\n",
       "      <th>26</th>\n",
       "      <td>5935f1d8ea2a7c037b2ef5a7</td>\n",
       "      <td>2015-11-04 13:56:25</td>\n",
       "      <td>661904837630529536</td>\n",
       "      <td>b\"Today's #HOT #Whisper $SDRL $USO $UGAZ $FCX $MT $UWTI https://t.co/5ZBk35f5IE\"</td>\n",
       "    </tr>\n",
       "    <tr>\n",
       "      <th>27</th>\n",
       "      <td>5935f1d8ea2a7c037b2ef5a8</td>\n",
       "      <td>2017-04-16 22:53:51</td>\n",
       "      <td>853743269435645952</td>\n",
       "      <td>b'Cyber Monday Options Sale up to 50% off https://t.co/gL06ERGaa1'</td>\n",
       "    </tr>\n",
       "    <tr>\n",
       "      <th>28</th>\n",
       "      <td>5935f1d8ea2a7c037b2ef5a9</td>\n",
       "      <td>2016-05-17 14:36:03</td>\n",
       "      <td>732580443384516608</td>\n",
       "      <td>b'Late dark pool sell prints coming in on $SPY $206.85 bearish below no thinking https://t.co/FImmfMnbs0'</td>\n",
       "    </tr>\n",
       "    <tr>\n",
       "      <th>29</th>\n",
       "      <td>5935f1d8ea2a7c037b2ef5aa</td>\n",
       "      <td>2016-05-04 16:07:06</td>\n",
       "      <td>727892317928099840</td>\n",
       "      <td>b\"@JustSignals it's my job ;-) love my job!\"</td>\n",
       "    </tr>\n",
       "    <tr>\n",
       "      <th>...</th>\n",
       "      <td>...</td>\n",
       "      <td>...</td>\n",
       "      <td>...</td>\n",
       "      <td>...</td>\n",
       "    </tr>\n",
       "    <tr>\n",
       "      <th>3191</th>\n",
       "      <td>5935f1d8ea2a7c037b2f0204</td>\n",
       "      <td>2015-10-06 15:04:03</td>\n",
       "      <td>651412608340242432</td>\n",
       "      <td>b\"Today's #Whisper $USO just hit 2nd target 15.50 http://t.co/B7JCjRZBje\"</td>\n",
       "    </tr>\n",
       "    <tr>\n",
       "      <th>3192</th>\n",
       "      <td>5935f1d8ea2a7c037b2f0205</td>\n",
       "      <td>2016-09-29 10:43:41</td>\n",
       "      <td>781444331559350272</td>\n",
       "      <td>b'Sign up asap for our FREE webinar tonight \"How To Profit off the dark Pool\" Trading oil and gold https://t.co/TlL6vuDwz7'</td>\n",
       "    </tr>\n",
       "    <tr>\n",
       "      <th>3193</th>\n",
       "      <td>5935f1d8ea2a7c037b2f0206</td>\n",
       "      <td>2016-07-27 15:47:50</td>\n",
       "      <td>758328049125298176</td>\n",
       "      <td>b'Dark pool prints $IWM 120.85 bullish above, bearish below, no thinking https://t.co/9MqryptDnJ'</td>\n",
       "    </tr>\n",
       "    <tr>\n",
       "      <th>3194</th>\n",
       "      <td>5935f1d8ea2a7c037b2f0207</td>\n",
       "      <td>2015-05-14 21:29:53</td>\n",
       "      <td>598963468104957953</td>\n",
       "      <td>b'Big prints after the close on $GDX @ 20.82 Will be watching that level tomorrow http://t.co/F18iFBhpop'</td>\n",
       "    </tr>\n",
       "    <tr>\n",
       "      <th>3195</th>\n",
       "      <td>5935f1d8ea2a7c037b2f0208</td>\n",
       "      <td>2016-06-01 13:05:35</td>\n",
       "      <td>737993496980643840</td>\n",
       "      <td>b\"Today's #HOT #Whisper $EEM $SPY $BAC $KORS  https://t.co/qg5gPM95SF\"</td>\n",
       "    </tr>\n",
       "    <tr>\n",
       "      <th>3196</th>\n",
       "      <td>5935f1d8ea2a7c037b2f0209</td>\n",
       "      <td>2017-04-16 22:52:31</td>\n",
       "      <td>853742931374743552</td>\n",
       "      <td>b\"@CWMENTALITY Both sides on a trade can make money , you don't know where the other guy bought or shorted it. I like volume on my side\"</td>\n",
       "    </tr>\n",
       "    <tr>\n",
       "      <th>3197</th>\n",
       "      <td>5935f1d8ea2a7c037b2f020a</td>\n",
       "      <td>2016-11-22 16:55:51</td>\n",
       "      <td>801106935265296384</td>\n",
       "      <td>b'$VXX million print $28.43 Watch this level https://t.co/w4qQjVdoPg'</td>\n",
       "    </tr>\n",
       "    <tr>\n",
       "      <th>3198</th>\n",
       "      <td>5935f1d8ea2a7c037b2f020b</td>\n",
       "      <td>2016-12-17 01:59:12</td>\n",
       "      <td>809940981395128325</td>\n",
       "      <td>b\"@JustSignals  looks like rebalancing today, related to quad witching, but we're below lots of dk pool vol\"</td>\n",
       "    </tr>\n",
       "    <tr>\n",
       "      <th>3199</th>\n",
       "      <td>5935f1d8ea2a7c037b2f020c</td>\n",
       "      <td>2016-04-12 11:06:45</td>\n",
       "      <td>719844198690586625</td>\n",
       "      <td>b'My latest interview at Orlando Money Show March 4th, 2016 $GDX $NUGT $UUP $USDU https://t.co/fg2NiWuKrp'</td>\n",
       "    </tr>\n",
       "    <tr>\n",
       "      <th>3200</th>\n",
       "      <td>5935f1d8ea2a7c037b2f020d</td>\n",
       "      <td>2016-09-13 14:03:02</td>\n",
       "      <td>775696292798267392</td>\n",
       "      <td>b'DARK POOL late sell prints $SPY $216.43, bearish below https://t.co/mueb3xuiwj'</td>\n",
       "    </tr>\n",
       "    <tr>\n",
       "      <th>3201</th>\n",
       "      <td>5935f1d8ea2a7c037b2f020e</td>\n",
       "      <td>2015-12-24 23:26:03</td>\n",
       "      <td>680167584335958017</td>\n",
       "      <td>b'Commented on StockTwits: merry xmax Mr Peter, see ya next week it the pit! https://t.co/brWeqirnW6'</td>\n",
       "    </tr>\n",
       "    <tr>\n",
       "      <th>3202</th>\n",
       "      <td>5935f1d8ea2a7c037b2f020f</td>\n",
       "      <td>2015-12-07 21:19:10</td>\n",
       "      <td>673975059111763968</td>\n",
       "      <td>b'End of day prints $SPY $IWM $DIA https://t.co/XoIkCHZMLE'</td>\n",
       "    </tr>\n",
       "    <tr>\n",
       "      <th>3203</th>\n",
       "      <td>5935f1d8ea2a7c037b2f0210</td>\n",
       "      <td>2015-06-03 18:24:02</td>\n",
       "      <td>606164454632333312</td>\n",
       "      <td>b'Real time print $SPY 212.10 500K WOW! http://t.co/t0bwAgyfXE'</td>\n",
       "    </tr>\n",
       "    <tr>\n",
       "      <th>3204</th>\n",
       "      <td>5935f1d8ea2a7c037b2f0211</td>\n",
       "      <td>2016-04-10 13:11:14</td>\n",
       "      <td>719150748445966338</td>\n",
       "      <td>b\"@stockdigger it's been telling us to short the dollar and buy gold and bonds, listen to my whisper the day\"</td>\n",
       "    </tr>\n",
       "    <tr>\n",
       "      <th>3205</th>\n",
       "      <td>5935f1d8ea2a7c037b2f0212</td>\n",
       "      <td>2015-04-09 13:50:35</td>\n",
       "      <td>586164303499132928</td>\n",
       "      <td>b'Alessio just rocked the #Whisper $AA for +.22 on the short side in the pit http://t.co/Wrr93HBZhU'</td>\n",
       "    </tr>\n",
       "    <tr>\n",
       "      <th>3206</th>\n",
       "      <td>5935f1d8ea2a7c037b2f0213</td>\n",
       "      <td>2017-03-30 19:17:46</td>\n",
       "      <td>847528293255577604</td>\n",
       "      <td>b'Big dark pool prints on financials coming in end of day $BAC 23.95 $XLF 23.92 Huge levels to watch https://t.co/vlgE7iNHzK'</td>\n",
       "    </tr>\n",
       "    <tr>\n",
       "      <th>3207</th>\n",
       "      <td>5935f1d8ea2a7c037b2f0214</td>\n",
       "      <td>2016-11-21 17:58:24</td>\n",
       "      <td>800760286051520513</td>\n",
       "      <td>b'Commented on StockTwits: Scaling=happiness come join me in my liv... https://t.co/YkP0Z9Kmef'</td>\n",
       "    </tr>\n",
       "    <tr>\n",
       "      <th>3208</th>\n",
       "      <td>5935f1d8ea2a7c037b2f0215</td>\n",
       "      <td>2015-04-21 17:51:49</td>\n",
       "      <td>590573667404349441</td>\n",
       "      <td>b'Another 3 mil printed on $GE @ 26.68 bearish below http://t.co/DJisz6nWuW'</td>\n",
       "    </tr>\n",
       "    <tr>\n",
       "      <th>3209</th>\n",
       "      <td>5935f1d8ea2a7c037b2f0216</td>\n",
       "      <td>2016-10-07 13:59:49</td>\n",
       "      <td>784392792017661952</td>\n",
       "      <td>b'Commented on StockTwits: I do both day trading and swing trading.... https://t.co/Wd348GwzoH'</td>\n",
       "    </tr>\n",
       "    <tr>\n",
       "      <th>3210</th>\n",
       "      <td>5935f1d8ea2a7c037b2f0217</td>\n",
       "      <td>2016-12-12 17:10:33</td>\n",
       "      <td>808358391865372672</td>\n",
       "      <td>b\"500K dark pool on $TVIX premarket on Schwab,  check it out in today's #Whisper https://t.co/EYPTWuDRRT https://t.co/TNvPrlWE1z\"</td>\n",
       "    </tr>\n",
       "    <tr>\n",
       "      <th>3211</th>\n",
       "      <td>5935f1d8ea2a7c037b2f0218</td>\n",
       "      <td>2015-10-28 15:05:08</td>\n",
       "      <td>659385414650740736</td>\n",
       "      <td>b\"Today's #Whispers hit their targets $SLV $GDX $TWTR  https://t.co/7iAO7svQWp\"</td>\n",
       "    </tr>\n",
       "    <tr>\n",
       "      <th>3212</th>\n",
       "      <td>5935f1d8ea2a7c037b2f0219</td>\n",
       "      <td>2016-01-06 12:31:06</td>\n",
       "      <td>684713802009415680</td>\n",
       "      <td>b'Money is fleeing into T-bills $BIL , another 9 mil yesterday Safety dance https://t.co/vnrKYNQa3i'</td>\n",
       "    </tr>\n",
       "    <tr>\n",
       "      <th>3213</th>\n",
       "      <td>5935f1d8ea2a7c037b2f021a</td>\n",
       "      <td>2015-04-29 14:45:16</td>\n",
       "      <td>593425824927232001</td>\n",
       "      <td>b'1st late dark pool sell print from YESTERDAY @211.37 There will be more! http://t.co/iGLa0wJh5L'</td>\n",
       "    </tr>\n",
       "    <tr>\n",
       "      <th>3214</th>\n",
       "      <td>5935f1d8ea2a7c037b2f021b</td>\n",
       "      <td>2015-05-15 14:45:57</td>\n",
       "      <td>599224203615731713</td>\n",
       "      <td>b\"The Java pit is rocking today's #Whisper $EEM hitting 1st target right now  http://t.co/ywPBBjAMKp\"</td>\n",
       "    </tr>\n",
       "    <tr>\n",
       "      <th>3215</th>\n",
       "      <td>5935f1d8ea2a7c037b2f021c</td>\n",
       "      <td>2016-08-04 12:48:55</td>\n",
       "      <td>761182124221210624</td>\n",
       "      <td>b\"Today's #Whisper $USO $GDX https://t.co/yMPAKM63Ih\"</td>\n",
       "    </tr>\n",
       "    <tr>\n",
       "      <th>3216</th>\n",
       "      <td>5935f1d8ea2a7c037b2f021d</td>\n",
       "      <td>2016-05-06 13:46:47</td>\n",
       "      <td>728581779028885504</td>\n",
       "      <td>b'The Stock Whisper Of The Day: $GDX $SPY https://t.co/o4HxdAc7vA'</td>\n",
       "    </tr>\n",
       "    <tr>\n",
       "      <th>3217</th>\n",
       "      <td>5935f1d8ea2a7c037b2f021e</td>\n",
       "      <td>2016-04-21 20:11:16</td>\n",
       "      <td>723242719787790337</td>\n",
       "      <td>b'@JustSignals somebody knew something..... And we saw it :-)'</td>\n",
       "    </tr>\n",
       "    <tr>\n",
       "      <th>3218</th>\n",
       "      <td>5935f1d8ea2a7c037b2f021f</td>\n",
       "      <td>2015-05-20 14:36:49</td>\n",
       "      <td>601033844620267521</td>\n",
       "      <td>b\"Today's #Whisper $RSX starting to make a nice move to the downside  http://t.co/9iZ5SHklk2\"</td>\n",
       "    </tr>\n",
       "    <tr>\n",
       "      <th>3219</th>\n",
       "      <td>5935f1d8ea2a7c037b2f0220</td>\n",
       "      <td>2016-08-03 17:10:21</td>\n",
       "      <td>760885529424506880</td>\n",
       "      <td>b'Commented on StockTwits: $SPY level to watch right now $216.64, b... https://t.co/M2H4n35ofE'</td>\n",
       "    </tr>\n",
       "    <tr>\n",
       "      <th>3220</th>\n",
       "      <td>5935f1d8ea2a7c037b2f0221</td>\n",
       "      <td>2017-05-19 14:27:20</td>\n",
       "      <td>865574596514390016</td>\n",
       "      <td>b'HUGE Dark pool prints $SPY $237.39 over 6 million Bullish above, bearish below https://t.co/bUTLPNORhD'</td>\n",
       "    </tr>\n",
       "  </tbody>\n",
       "</table>\n",
       "<p>3221 rows × 4 columns</p>\n",
       "</div>"
      ],
      "text/plain": [
       "                           _id           created_at                  id  \\\n",
       "0     5935f1d8ea2a7c037b2ef58d  2015-08-05 16:03:24  628959498359603202   \n",
       "1     5935f1d8ea2a7c037b2ef58e  2015-12-31 15:55:47  682590986015490048   \n",
       "2     5935f1d8ea2a7c037b2ef58f  2016-12-21 14:46:35  811583650479411200   \n",
       "3     5935f1d8ea2a7c037b2ef590  2016-11-10 14:41:59  796724592693878784   \n",
       "4     5935f1d8ea2a7c037b2ef591  2015-06-26 12:19:37  614407664668311552   \n",
       "5     5935f1d8ea2a7c037b2ef592  2016-11-14 14:32:16  798171698180689921   \n",
       "6     5935f1d8ea2a7c037b2ef593  2015-12-21 03:35:59  678780931822497792   \n",
       "7     5935f1d8ea2a7c037b2ef594  2015-08-24 14:41:53  635824354157293568   \n",
       "8     5935f1d8ea2a7c037b2ef595  2016-03-27 18:36:47  714159248314224641   \n",
       "9     5935f1d8ea2a7c037b2ef596  2016-01-07 03:30:53  684940241753391104   \n",
       "10    5935f1d8ea2a7c037b2ef597  2015-04-01 13:52:25  583265663885557760   \n",
       "11    5935f1d8ea2a7c037b2ef598  2015-04-24 20:07:08  591694883930251265   \n",
       "12    5935f1d8ea2a7c037b2ef599  2016-01-29 22:50:44  693204659721273344   \n",
       "13    5935f1d8ea2a7c037b2ef59a  2016-02-03 14:26:50  694889788382527488   \n",
       "14    5935f1d8ea2a7c037b2ef59b  2015-11-27 14:58:13  670255311786233856   \n",
       "15    5935f1d8ea2a7c037b2ef59c  2016-03-07 16:34:35  706880734640758784   \n",
       "16    5935f1d8ea2a7c037b2ef59d  2015-07-22 14:31:54  623863042996965376   \n",
       "17    5935f1d8ea2a7c037b2ef59e  2017-03-27 10:59:38  846315773685612544   \n",
       "18    5935f1d8ea2a7c037b2ef59f  2015-06-19 13:40:35  611891327182049280   \n",
       "19    5935f1d8ea2a7c037b2ef5a0  2015-11-03 18:30:08  661611330575556608   \n",
       "20    5935f1d8ea2a7c037b2ef5a1  2016-02-12 13:41:42  698139920808828932   \n",
       "21    5935f1d8ea2a7c037b2ef5a2  2016-01-05 15:35:37  684397851372204032   \n",
       "22    5935f1d8ea2a7c037b2ef5a3  2016-10-28 13:25:12  791994224757579776   \n",
       "23    5935f1d8ea2a7c037b2ef5a4  2016-02-10 17:15:30  697468947193462784   \n",
       "24    5935f1d8ea2a7c037b2ef5a5  2017-06-01 10:44:07  870229467788193793   \n",
       "25    5935f1d8ea2a7c037b2ef5a6  2015-04-06 13:44:36  585075636093362177   \n",
       "26    5935f1d8ea2a7c037b2ef5a7  2015-11-04 13:56:25  661904837630529536   \n",
       "27    5935f1d8ea2a7c037b2ef5a8  2017-04-16 22:53:51  853743269435645952   \n",
       "28    5935f1d8ea2a7c037b2ef5a9  2016-05-17 14:36:03  732580443384516608   \n",
       "29    5935f1d8ea2a7c037b2ef5aa  2016-05-04 16:07:06  727892317928099840   \n",
       "...                        ...                  ...                 ...   \n",
       "3191  5935f1d8ea2a7c037b2f0204  2015-10-06 15:04:03  651412608340242432   \n",
       "3192  5935f1d8ea2a7c037b2f0205  2016-09-29 10:43:41  781444331559350272   \n",
       "3193  5935f1d8ea2a7c037b2f0206  2016-07-27 15:47:50  758328049125298176   \n",
       "3194  5935f1d8ea2a7c037b2f0207  2015-05-14 21:29:53  598963468104957953   \n",
       "3195  5935f1d8ea2a7c037b2f0208  2016-06-01 13:05:35  737993496980643840   \n",
       "3196  5935f1d8ea2a7c037b2f0209  2017-04-16 22:52:31  853742931374743552   \n",
       "3197  5935f1d8ea2a7c037b2f020a  2016-11-22 16:55:51  801106935265296384   \n",
       "3198  5935f1d8ea2a7c037b2f020b  2016-12-17 01:59:12  809940981395128325   \n",
       "3199  5935f1d8ea2a7c037b2f020c  2016-04-12 11:06:45  719844198690586625   \n",
       "3200  5935f1d8ea2a7c037b2f020d  2016-09-13 14:03:02  775696292798267392   \n",
       "3201  5935f1d8ea2a7c037b2f020e  2015-12-24 23:26:03  680167584335958017   \n",
       "3202  5935f1d8ea2a7c037b2f020f  2015-12-07 21:19:10  673975059111763968   \n",
       "3203  5935f1d8ea2a7c037b2f0210  2015-06-03 18:24:02  606164454632333312   \n",
       "3204  5935f1d8ea2a7c037b2f0211  2016-04-10 13:11:14  719150748445966338   \n",
       "3205  5935f1d8ea2a7c037b2f0212  2015-04-09 13:50:35  586164303499132928   \n",
       "3206  5935f1d8ea2a7c037b2f0213  2017-03-30 19:17:46  847528293255577604   \n",
       "3207  5935f1d8ea2a7c037b2f0214  2016-11-21 17:58:24  800760286051520513   \n",
       "3208  5935f1d8ea2a7c037b2f0215  2015-04-21 17:51:49  590573667404349441   \n",
       "3209  5935f1d8ea2a7c037b2f0216  2016-10-07 13:59:49  784392792017661952   \n",
       "3210  5935f1d8ea2a7c037b2f0217  2016-12-12 17:10:33  808358391865372672   \n",
       "3211  5935f1d8ea2a7c037b2f0218  2015-10-28 15:05:08  659385414650740736   \n",
       "3212  5935f1d8ea2a7c037b2f0219  2016-01-06 12:31:06  684713802009415680   \n",
       "3213  5935f1d8ea2a7c037b2f021a  2015-04-29 14:45:16  593425824927232001   \n",
       "3214  5935f1d8ea2a7c037b2f021b  2015-05-15 14:45:57  599224203615731713   \n",
       "3215  5935f1d8ea2a7c037b2f021c  2016-08-04 12:48:55  761182124221210624   \n",
       "3216  5935f1d8ea2a7c037b2f021d  2016-05-06 13:46:47  728581779028885504   \n",
       "3217  5935f1d8ea2a7c037b2f021e  2016-04-21 20:11:16  723242719787790337   \n",
       "3218  5935f1d8ea2a7c037b2f021f  2015-05-20 14:36:49  601033844620267521   \n",
       "3219  5935f1d8ea2a7c037b2f0220  2016-08-03 17:10:21  760885529424506880   \n",
       "3220  5935f1d8ea2a7c037b2f0221  2017-05-19 14:27:20  865574596514390016   \n",
       "\n",
       "                                                                                                                                                 text  \n",
       "0     b'$SPY 210.95 sell print 1.4 mil http://t.co/vjUy0wNcZH'                                                                                         \n",
       "1     b'The Stock Whisper Of The Day: $WTW $SPY https://t.co/O0AHqoXBr0'                                                                               \n",
       "2     b'The #Stock Whisper Of The Day:$FCX $IAU $MU $EWZ $SPY https://t.co/P0l9y02ts7'                                                                 \n",
       "3     b'Commented on StockTwits: I follow the good money ;-) the smart mo... https://t.co/vU3ZuJP6q3'                                                  \n",
       "4     b\"Yesterday's #Whisper $STM approaching 8.60 target $$ http://t.co/eCQT03AzeT\"                                                                   \n",
       "5     b\"Today's #HOT #Whisper $MT $USO $NUGT  https://t.co/MzA0T4BLkp\"                                                                                 \n",
       "6     b'@traderstack I also call out my swing trades in my live trading room'                                                                          \n",
       "7     b'The #Stock Whisper Of The Day: $CSIQ http://t.co/y23AhrubzN'                                                                                   \n",
       "8     b'Don\\'t miss out FREE #HOT online webinar \"How to read the tape using old fashioned levels and dark pool data feed\"   https://t.co/X9CP8Eh2ev'  \n",
       "9     b'Another volatile night $/ES_F down big already.  Sleeping in my STFR t-shirt tonight $SPY https://t.co/fwauLV2Ixr'                             \n",
       "10    b'$SPY coming down .....following the prints is the only way, mute your television'                                                              \n",
       "11    b'The Java pit trading room rocked $$CLF $MT $PBR $FB $SBUX $MSFT $DDD $CSX $EWZ $TRQ $HAL $FCX  Trader of the day was Lesley aka Glider Girl'   \n",
       "12    b\"Today's Whispers rocked! $BAC $VOD $HSBC $UGAZ https://t.co/AMa4O2kD0f\"                                                                        \n",
       "13    b'The #Stock Whisper Of The Day: $GM $GDX $SPY https://t.co/IOLiLvuXxd'                                                                          \n",
       "14    b'The Stock Whisper Of The Day: $EEM $GDX $SPY https://t.co/Ng5HlN6MAh'                                                                          \n",
       "15    b\"Today's whispers rocked $RIO $USO $UWTI $GFI  https://t.co/zvBwkAg4rA\"                                                                         \n",
       "16    b'FRESH off the Printing press $SPY late dark pool sell prints $211.82 bearish below http://t.co/M5QsBFSFjR'                                     \n",
       "17    b'Dark Pool sold $50 mil $SPY $236.55 (biggest level since 2015) before any of this news, stop blaming and start trading around the Dark Pool'   \n",
       "18    b'1st $SPY print of the day 700K 211.29 http://t.co/daGB6jGZdU'                                                                                  \n",
       "19    b'$MT just hit my #Whisper target $6.09  https://t.co/s8L09fJvqh'                                                                                \n",
       "20    b\"Today's #HOT #Whisper $USO $SPY $IAU $CHD https://t.co/axHatnEy0x\"                                                                             \n",
       "21    b'Prints so far $IWM $110.52, 110.12 $SPY 201.39 Bearish below https://t.co/oOTnYR9Bhb'                                                          \n",
       "22    b\"Today's #HOT #Whisper $HPQ $GT $USO https://t.co/FHZWfjbo26\"                                                                                   \n",
       "23    b'The Fed upthrust $SPY https://t.co/FtAaqzeMVE'                                                                                                 \n",
       "24    b'Register now for 2nite\\'s LIVE FREE Webinar \"To Swing or Not To Swing\" Learn how to trade around the dark pool https://t.co/GsznF6KDFh'        \n",
       "25    b'Big print alert $HAL 2.5 mil shares @44.15 http://t.co/yhH0XMI6rU'                                                                             \n",
       "26    b\"Today's #HOT #Whisper $SDRL $USO $UGAZ $FCX $MT $UWTI https://t.co/5ZBk35f5IE\"                                                                 \n",
       "27    b'Cyber Monday Options Sale up to 50% off https://t.co/gL06ERGaa1'                                                                               \n",
       "28    b'Late dark pool sell prints coming in on $SPY $206.85 bearish below no thinking https://t.co/FImmfMnbs0'                                        \n",
       "29    b\"@JustSignals it's my job ;-) love my job!\"                                                                                                     \n",
       "...                                            ...                                                                                                     \n",
       "3191  b\"Today's #Whisper $USO just hit 2nd target 15.50 http://t.co/B7JCjRZBje\"                                                                        \n",
       "3192  b'Sign up asap for our FREE webinar tonight \"How To Profit off the dark Pool\" Trading oil and gold https://t.co/TlL6vuDwz7'                      \n",
       "3193  b'Dark pool prints $IWM 120.85 bullish above, bearish below, no thinking https://t.co/9MqryptDnJ'                                                \n",
       "3194  b'Big prints after the close on $GDX @ 20.82 Will be watching that level tomorrow http://t.co/F18iFBhpop'                                        \n",
       "3195  b\"Today's #HOT #Whisper $EEM $SPY $BAC $KORS  https://t.co/qg5gPM95SF\"                                                                           \n",
       "3196  b\"@CWMENTALITY Both sides on a trade can make money , you don't know where the other guy bought or shorted it. I like volume on my side\"         \n",
       "3197  b'$VXX million print $28.43 Watch this level https://t.co/w4qQjVdoPg'                                                                            \n",
       "3198  b\"@JustSignals  looks like rebalancing today, related to quad witching, but we're below lots of dk pool vol\"                                     \n",
       "3199  b'My latest interview at Orlando Money Show March 4th, 2016 $GDX $NUGT $UUP $USDU https://t.co/fg2NiWuKrp'                                       \n",
       "3200  b'DARK POOL late sell prints $SPY $216.43, bearish below https://t.co/mueb3xuiwj'                                                                \n",
       "3201  b'Commented on StockTwits: merry xmax Mr Peter, see ya next week it the pit! https://t.co/brWeqirnW6'                                            \n",
       "3202  b'End of day prints $SPY $IWM $DIA https://t.co/XoIkCHZMLE'                                                                                      \n",
       "3203  b'Real time print $SPY 212.10 500K WOW! http://t.co/t0bwAgyfXE'                                                                                  \n",
       "3204  b\"@stockdigger it's been telling us to short the dollar and buy gold and bonds, listen to my whisper the day\"                                    \n",
       "3205  b'Alessio just rocked the #Whisper $AA for +.22 on the short side in the pit http://t.co/Wrr93HBZhU'                                             \n",
       "3206  b'Big dark pool prints on financials coming in end of day $BAC 23.95 $XLF 23.92 Huge levels to watch https://t.co/vlgE7iNHzK'                    \n",
       "3207  b'Commented on StockTwits: Scaling=happiness come join me in my liv... https://t.co/YkP0Z9Kmef'                                                  \n",
       "3208  b'Another 3 mil printed on $GE @ 26.68 bearish below http://t.co/DJisz6nWuW'                                                                     \n",
       "3209  b'Commented on StockTwits: I do both day trading and swing trading.... https://t.co/Wd348GwzoH'                                                  \n",
       "3210  b\"500K dark pool on $TVIX premarket on Schwab,  check it out in today's #Whisper https://t.co/EYPTWuDRRT https://t.co/TNvPrlWE1z\"                \n",
       "3211  b\"Today's #Whispers hit their targets $SLV $GDX $TWTR  https://t.co/7iAO7svQWp\"                                                                  \n",
       "3212  b'Money is fleeing into T-bills $BIL , another 9 mil yesterday Safety dance https://t.co/vnrKYNQa3i'                                             \n",
       "3213  b'1st late dark pool sell print from YESTERDAY @211.37 There will be more! http://t.co/iGLa0wJh5L'                                               \n",
       "3214  b\"The Java pit is rocking today's #Whisper $EEM hitting 1st target right now  http://t.co/ywPBBjAMKp\"                                            \n",
       "3215  b\"Today's #Whisper $USO $GDX https://t.co/yMPAKM63Ih\"                                                                                            \n",
       "3216  b'The Stock Whisper Of The Day: $GDX $SPY https://t.co/o4HxdAc7vA'                                                                               \n",
       "3217  b'@JustSignals somebody knew something..... And we saw it :-)'                                                                                   \n",
       "3218  b\"Today's #Whisper $RSX starting to make a nice move to the downside  http://t.co/9iZ5SHklk2\"                                                    \n",
       "3219  b'Commented on StockTwits: $SPY level to watch right now $216.64, b... https://t.co/M2H4n35ofE'                                                  \n",
       "3220  b'HUGE Dark pool prints $SPY $237.39 over 6 million Bullish above, bearish below https://t.co/bUTLPNORhD'                                        \n",
       "\n",
       "[3221 rows x 4 columns]"
      ]
     },
     "execution_count": 166,
     "metadata": {},
     "output_type": "execute_result"
    }
   ],
   "source": [
    "dff"
   ]
  },
  {
   "cell_type": "code",
   "execution_count": null,
   "metadata": {
    "collapsed": true
   },
   "outputs": [],
   "source": []
  }
 ],
 "metadata": {
  "anaconda-cloud": {},
  "kernelspec": {
   "display_name": "Python [default]",
   "language": "python",
   "name": "python3"
  },
  "language_info": {
   "codemirror_mode": {
    "name": "ipython",
    "version": 3
   },
   "file_extension": ".py",
   "mimetype": "text/x-python",
   "name": "python",
   "nbconvert_exporter": "python",
   "pygments_lexer": "ipython3",
   "version": "3.5.3"
  }
 },
 "nbformat": 4,
 "nbformat_minor": 2
}
