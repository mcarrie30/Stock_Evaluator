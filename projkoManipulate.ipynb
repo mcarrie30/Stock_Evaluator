{
 "cells": [
  {
   "cell_type": "code",
   "execution_count": 24,
   "metadata": {
    "collapsed": true
   },
   "outputs": [],
   "source": [
    "import pandas as pd\n",
    "import numpy as np\n",
    "import json\n",
    "from sklearn.pipeline import Pipeline\n",
    "from sklearn.feature_extraction.text import TfidfVectorizer\n",
    "from sklearn.feature_extraction.text import TfidfTransformer\n",
    "from sklearn.naive_bayes import MultinomialNB\n",
    "from nltk.corpus import stopwords\n",
    "from sklearn.cluster import KMeans, MiniBatchKMeans\n",
    "from collections import defaultdict\n",
    "from sklearn.cluster import KMeans\n",
    "from sklearn import metrics\n",
    "import nltk\n",
    "import gensim\n",
    "import os\n",
    "import string\n",
    "import re\n",
    "import os\n",
    "from nltk.corpus import stopwords, wordnet\n",
    "from nltk.tokenize import word_tokenize\n",
    "from nltk.stem.wordnet import WordNetLemmatizer\n",
    "from sklearn.cluster import DBSCAN\n",
    "from sklearn.externals import joblib\n",
    "import csv\n",
    "import tweepy\n",
    "import cnfg\n",
    "\n",
    "\n",
    "pd.set_option('display.max_colwidth', -1)\n",
    "# pd.set_option('display.max_colwidth', 50)"
   ]
  },
  {
   "cell_type": "code",
   "execution_count": 2,
   "metadata": {
    "collapsed": true
   },
   "outputs": [],
   "source": [
    "from pandas import DataFrame\n",
    "import json\n",
    "from pymongo import MongoClient\n",
    "\n",
    "\n",
    "client = MongoClient(port=12345)\n",
    "db = client.stocks\n",
    "\n",
    "\n",
    "df = DataFrame(list(db.stocks.find({})))"
   ]
  },
  {
   "cell_type": "code",
   "execution_count": 3,
   "metadata": {
    "collapsed": true
   },
   "outputs": [],
   "source": [
    "df['user'] = 'stock_whisperer'"
   ]
  },
  {
   "cell_type": "code",
   "execution_count": 4,
   "metadata": {},
   "outputs": [],
   "source": [
    "list1 = []\n",
    "for i in range(len(df['text'])):\n",
    "    list1.append(df['text'].str.split(' http')[i][0])\n",
    "    \n",
    "se = pd.Series(list1)\n",
    "se = se.str.replace('b\"', \"b'\")\n",
    "se = se.str.replace('$', \"XX'\")"
   ]
  },
  {
   "cell_type": "code",
   "execution_count": 5,
   "metadata": {},
   "outputs": [],
   "source": [
    "list2 = []\n",
    "for i in range(len(df['text'])):\n",
    "    list2.append(se.str.split(\"b'\")[i][1])"
   ]
  },
  {
   "cell_type": "code",
   "execution_count": 6,
   "metadata": {
    "collapsed": true
   },
   "outputs": [],
   "source": [
    "se2 = pd.Series(list2)\n",
    "df['cleanedtext'] = se2.values"
   ]
  },
  {
   "cell_type": "code",
   "execution_count": 7,
   "metadata": {
    "collapsed": true
   },
   "outputs": [],
   "source": [
    "## If text contains stock of fortune 500"
   ]
  },
  {
   "cell_type": "code",
   "execution_count": 59,
   "metadata": {
    "scrolled": true
   },
   "outputs": [],
   "source": [
    "sandp100 = ['AAPL','ABBV','ABT','ACN','AGN','AIG','ALL','AMGN','AMZN','AXP','BA','BAC',\n",
    "            'BIIB','BK','BLK','BMY','BRK.B','C','CAT','CELG','CL','CMCSA','COF','COP',\n",
    "            'COST','CSCO','CVS','CVX','DD','DHR','DIS','DOW','DUK','EMR','EXC','F','FB',\n",
    "            'FDX','FOX','FOXA','GD','GE','GILD','GM','GOOG','GOOGL','GS','HAL','HD','HON',\n",
    "            'IBM','INTC','JNJ','JPM','KHC','KMI','KO','LLY','LMT','LOW','MA','MCD','MDLZ',\n",
    "            'MDT','MET','MMM','MO','MON','MRK','MS','MSFT','NEE','NKE','ORCL','OXY','PCLN',\n",
    "            'PEP','PFE','PG','PM','PYPL','QCOM','RTN','SBUX','SLB','SO','SPG','T','TGT',\n",
    "            'TWX','TXN','UNH','UNP','UPS','USB','UTX','V','VZ','WBA','WFC','WMT','XOM']\n",
    "\n",
    "sandp100lower = [element.lower() for element in sandp100]"
   ]
  },
  {
   "cell_type": "code",
   "execution_count": 454,
   "metadata": {},
   "outputs": [],
   "source": [
    "# df22 = df[df['cleanedtext'].str.contains('$AAPL|ABBV|ABT|ACN|AGN|AIG|ALL|AMGN|AMZN|AXP|BA|BAC|BIIB|BK|BLK|BMY|BRK.B|C|CAT|CELG|CL|CMCSA|COF|COP|COST|CSCO|CVS|CVX|DD|DHR|DIS|DOW|DUK|EMR|EXC|F|FB|FDX|FOX|FOXA|GD|GE|GILD|GM|GOOG|GOOGL|GS|HAL|HD|HON|IBM|INTC|JNJ|JPM|KHC|KMI|KO|LLY|LMT|LOW|MA|MCD|MDLZ|MDT|MET|MMM|MO|MON|MRK|MS|MSFT|NEE|NKE|ORCL|OXY|PCLN|PEP|PFE|PG|PM|PYPL|QCOM|RTN|SBUX|SLB|SO|SPG|T|TGT|TWX|TXN|UNH|UNP|UPS|USB|UTX|V|VZ|WBA|WFC|WMT|XOM', na=False, case=True)]\n",
    "# df22 = df[df['cleanedtext'].str.contains(\"XX'AAPL|XX'ABBV|XX'ABT|XX'ACN|XX'AGN|XX'AIG|XX'ALL|XX'AMGN|XX'AMZN|XX'AXP|XX'BA|XX'BAC|XX'BIIB|XX'BK|XX'BLK|XX'BMY|XX'BRK.B|XX'C|XX'CAT|XX'CELG|XX'CL|XX'CMCSA|XX'COF|XX'COP|XX'COST|XX'CSCO|XX'CVS|XX'CVX|XX'DD|XX'DHR|XX'DIS|XX'DOW|XX'DUK|XX'EMR|XX'EXC|XX'F|XX'FB|XX'FDX|XX'FOX|XX'FOXA|XX'GD|XX'GE|XX'GILD|XX'GM|XX'GOOG|XX'GOOGL|XX'GS|XX'HAL|XX'HD|XX'HON|XX'IBM|XX'INTC|XX'JNJ|XX'JPM|XX'KHC|XX'KMI|XX'KO|XX'LLY|XX'LMT|XX'LOW|XX'MA|XX'MCD|XX'MDLZ|XX'MDT|XX'MET|XX'MMM|XX'MO|XX'MON|XX'MRK|XX'MS|XX'MSFT|XX'NEE|XX'NKE|XX'ORCL|XX'OXY|XX'PCLN|XX'PEP|XX'PFE|XX'PG|XX'PM|XX'PYPL|XX'QCOM|XX'RTN|XX'SBUX|XX'SLB|XX'SO|XX'SPG|XX'T|XX'TGT|XX'TWX|XX'TXN|XX'UNH|XX'UNP|XX'UPS|XX'USB|XX'UTX|XX'V|XX'VZ|XX'WBA|XX'WFC|XX'WMT|XX'XOM\", na=False, case=True)]\n",
    "\n",
    "df22 = df[df['cleanedtext'].str.contains(\"Whisper\",na=False, case=False)]\n",
    "df22 = df22[df22['cleanedtext'].str.contains('yester|from|Wisconsin|email', case=False)==False]                                  "
   ]
  },
  {
   "cell_type": "code",
   "execution_count": 361,
   "metadata": {
    "collapsed": true
   },
   "outputs": [],
   "source": [
    "corpus = df22['cleanedtext']"
   ]
  },
  {
   "cell_type": "code",
   "execution_count": 362,
   "metadata": {},
   "outputs": [
    {
     "name": "stdout",
     "output_type": "stream",
     "text": [
      "there are 559 items in vocab_frame\n"
     ]
    }
   ],
   "source": [
    "from nltk.stem.snowball import SnowballStemmer\n",
    "stemmer = SnowballStemmer(\"english\")\n",
    "\n",
    "def tokenize_and_stem(text):\n",
    "    # first tokenize by sentence, then by word to ensure that punctuation is caught as it's own token\n",
    "    tokens = [word for sent in nltk.sent_tokenize(text) for word in nltk.word_tokenize(sent)]\n",
    "    filtered_tokens = []\n",
    "    # filter out any tokens not containing letters (e.g., numeric tokens, raw punctuation)\n",
    "    for token in tokens:\n",
    "        if re.search('[a-zA-Z]', token):\n",
    "            filtered_tokens.append(token)\n",
    "    stems = [stemmer.stem(t) for t in filtered_tokens]\n",
    "    return stems\n",
    "\n",
    "def tokenize_only(text):\n",
    "    # first tokenize by sentence, then by word to ensure that punctuation is caught as it's own token\n",
    "    tokens = [word.lower() for sent in nltk.sent_tokenize(text) for word in nltk.word_tokenize(sent)]\n",
    "    filtered_tokens = []\n",
    "    # filter out any tokens not containing letters (e.g., numeric tokens, raw punctuation)\n",
    "    for token in tokens:\n",
    "        if re.search('[a-zA-Z]', token):\n",
    "            filtered_tokens.append(token)\n",
    "    return filtered_tokens\n",
    "\n",
    "totalvocab_stemmed = []\n",
    "totalvocab_tokenized = []\n",
    "for i in corpus:\n",
    "    allwords_stemmed = tokenize_and_stem(i) #for each item in 'synopses', tokenize/stem\n",
    "    totalvocab_stemmed.extend(allwords_stemmed) #extend the 'totalvocab_stemmed' list\n",
    "    \n",
    "    allwords_tokenized = tokenize_only(i)\n",
    "    totalvocab_tokenized.extend(allwords_tokenized)\n",
    "    \n",
    "vocab_frame = pd.DataFrame({'words': totalvocab_tokenized}, index = totalvocab_stemmed)\n",
    "print ('there are ' + str(vocab_frame.shape[0]) + ' items in vocab_frame')"
   ]
  },
  {
   "cell_type": "code",
   "execution_count": 363,
   "metadata": {
    "collapsed": true
   },
   "outputs": [],
   "source": [
    "stop = stopwords.words('english')\n",
    "stoplistwords = ['gdx', 'today','whisperer', 'whisper', 'uso', 'fcx', 'aapl',\n",
    "                 'ung', 'stock', 'day', 'aa', 'bac', 'mt','eem', 'xx','dark', 'pools','pool']\n",
    "stop.extend(stoplistwords)\n",
    "stop.extend(sandp100)\n",
    "stop.extend(sandp100lower)\n"
   ]
  },
  {
   "cell_type": "code",
   "execution_count": 364,
   "metadata": {
    "collapsed": true
   },
   "outputs": [],
   "source": [
    "remove_nums = lambda x: re.sub(r\"\"\"\\w*\\d\\w*\"\"\", ' ', x.lower())\n",
    "\n",
    "tf = TfidfVectorizer(min_df=0.001, max_features=200000,\n",
    "                     stop_words=stop, preprocessor=remove_nums,\n",
    "                                 use_idf=True)\n",
    "\n",
    "X2 = tf.fit_transform(corpus)\n",
    "\n",
    "# bagofwords2 = pd.DataFrame(X2,\n",
    "#              columns=tf.get_feature_names())"
   ]
  },
  {
   "cell_type": "code",
   "execution_count": 365,
   "metadata": {
    "collapsed": true
   },
   "outputs": [],
   "source": [
    "terms = tf.get_feature_names()\n",
    "from sklearn.metrics.pairwise import cosine_similarity\n",
    "dist = 1 - cosine_similarity(X2)"
   ]
  },
  {
   "cell_type": "code",
   "execution_count": 366,
   "metadata": {},
   "outputs": [
    {
     "data": {
      "text/plain": [
       "116"
      ]
     },
     "execution_count": 366,
     "metadata": {},
     "output_type": "execute_result"
    }
   ],
   "source": [
    "len(terms)"
   ]
  },
  {
   "cell_type": "code",
   "execution_count": 367,
   "metadata": {},
   "outputs": [
    {
     "name": "stdout",
     "output_type": "stream",
     "text": [
      "CPU times: user 89.4 ms, sys: 3.13 ms, total: 92.5 ms\n",
      "Wall time: 142 ms\n",
      "Silhouette Coefficient: 0.081\n"
     ]
    }
   ],
   "source": [
    "num_clusters = 4\n",
    "km = KMeans(n_clusters=num_clusters)\n",
    "%time km.fit(X2)\n",
    "clusters = km.labels_.tolist()\n",
    "\n",
    "kmlabels = km.labels_\n",
    "\n",
    "# Number of clusters in labels, ignoring noise if present.\n",
    "n_clusters_ = len(set(kmlabels)) - (1 if -1 in kmlabels else 0)\n",
    "print(\"Silhouette Coefficient: %0.3f\"\n",
    "      % metrics.silhouette_score(X2, kmlabels))"
   ]
  },
  {
   "cell_type": "code",
   "execution_count": 368,
   "metadata": {
    "scrolled": true
   },
   "outputs": [
    {
     "name": "stderr",
     "output_type": "stream",
     "text": [
      "/Users/michaelcarrie/anaconda/lib/python3.5/site-packages/ipykernel/__main__.py:1: SettingWithCopyWarning: \n",
      "A value is trying to be set on a copy of a slice from a DataFrame.\n",
      "Try using .loc[row_indexer,col_indexer] = value instead\n",
      "\n",
      "See the caveats in the documentation: http://pandas.pydata.org/pandas-docs/stable/indexing.html#indexing-view-versus-copy\n",
      "  if __name__ == '__main__':\n",
      "/Users/michaelcarrie/anaconda/lib/python3.5/site-packages/ipykernel/__main__.py:3: SettingWithCopyWarning: \n",
      "A value is trying to be set on a copy of a slice from a DataFrame.\n",
      "Try using .loc[row_indexer,col_indexer] = value instead\n",
      "\n",
      "See the caveats in the documentation: http://pandas.pydata.org/pandas-docs/stable/indexing.html#indexing-view-versus-copy\n",
      "  app.launch_new_instance()\n"
     ]
    }
   ],
   "source": [
    "df22['clusters'] = clusters\n",
    "df22.set_index('clusters', inplace=True)\n",
    "df22['clusters2'] = clusters"
   ]
  },
  {
   "cell_type": "code",
   "execution_count": 369,
   "metadata": {},
   "outputs": [
    {
     "name": "stdout",
     "output_type": "stream",
     "text": [
      "Top terms per cluster:\n",
      "\n",
      "Cluster 0 words: b'print', b'mil',\n",
      "\n",
      "Cluster 0 titles: 1st Print of the day on XX'SPY 100K @ 208, 1st Print of the day on XX'SPY 1.7 mil 210.18, Commented on StockTwits: Dark pool print of the day 15 mil XX'VXX  XX'17.11 Contango vs backwardation 2morrow\\xe2\\x80\\xa6, 1st Print of the day on XX'SPY 211.89 500K , ther will be more, stay tuned!, Today's #HOT #Whisper of the day XX'AA XX'NOK XX'GSK XX'SPY XX'UVXY , Commented on StockTwits: yes, middle of the day not a good time to enter, just did a quick +.17 on XX'DOW off the p..., Late Dark pool sell print of the day on the XX'SPY XX'197.70 millions and millions, bearish below, 1st XX'SPY print of the day XX'209.98 800K, 1st XX'SPY print of the day 700K 211.29,\n",
      "\n",
      "Cluster 1 words: b'print', b'million', b'big', b'bearish',\n",
      "\n",
      "Cluster 1 titles: 1st print of the day on XX'IWM 500K 128.66, 1st print of the day on XX'IWM 500K 121, bullish above, bearish below, BIG print alert XX'XOMA 1 million shares @4.07 , the low of the day is 4.08 Hmmm, Big sell print on XX'FTR ,@ 5.15 out of #whisper of the day, 1st print of the day on XX'IWM XX'125.11 195K, 1st big Print of the day on XX'IWM 128 million shares Bearish below, 1st Big print of the day on XX'SPY million shares @210.65, Here is the print of the day 46 million XX'FXN XX'13.94 Watch this one tomorrow, BIG end of the day print on XX'GDX 16 million @ 13.89 Definitely worth watching 2morrowXX'XX', Today's Late Dark pool sell print of the day XX'210.57 million shares, there will be more! Bearish below,\n",
      "\n",
      "Cluster 2 words: b'bullish', b'bearish',\n",
      "\n",
      "Cluster 2 titles: 1st dark pool prints of the day XX'SPY 193.31, bullish above, bearish below, no thinking, 1st prints of the day on XX'IWM XX'123.19 , bullish above, bearish below, no thinkingXX'XX', I'll be sharing with you how I achieved a 93% whisper of the day success rate in my free online webinar, sign up now, Note the low of the day on the XX'SPY XX'206.80, that's where all those late dark pool buy prints were, coincidence, no\", @JasonYahner Follow my whisper of the day videos for that next week', Late dark pool sell prints XX'DIA 183.88 250K each coincidentally at the high of the day, smart money sells at the top, 1st real print of the day XX'IWM  500K 114.64, bullish above, bearish below no thinking!, 1st XX'SPY print of the day 690K @212.50 Bullish above, bearish below, no thinkingXX'XX', We're back to the 2pm rally , end of the day dumping pattern :-)\", End of the day prints XX'SPY dark pool late sell prints XX'197.69 level to watch tomorrow, bearish below, Sign up now for my FREE online webinar \"Traders Bootcamp\" Learn my 10 rules to finding the whisper of the day, 1st dark pool print of the day XX'SPY 300K 203.20 300K, use this level as a marker today, bullish above, bearish below, I'll be sharing my secrets to finding the whisper of the day in my online webinar coming up, register now, Commented on StockTwits: No, only bullish above 5,87, note that was the high of the day today.  It's all about pr...,\n",
      "\n",
      "Cluster 3 words: b'trader', b'pit', b'java', b'room',\n",
      "\n",
      "Cluster 3 titles: The Java pit trading room rocked XX'VLTC XX'HOG XX'GE XX'AVP XX'NUGT XX'SPY XX'HTZ XX'CMG  XX'XX'XX'XX'XX'XX'XX' Trader of the day was the Cowboy', The Java pit trading room rocked XX'XX'CLF XX'MT XX'PBR XX'FB XX'SBUX XX'MSFT XX'DDD XX'CSX XX'EWZ XX'TRQ XX'HAL XX'FCX  Trader of the day was Lesley aka Glider Girl', The Java pit trading room rocked XX'RIO XX'PBR XX'GM XX'STO XX'S XX'CLF XX'VLTC XX'MT XX'ERIC XX'ARRS  XX'CNQ XX'FCX  Trader of the day is Doug aka Rocky',\n",
      "\n"
     ]
    }
   ],
   "source": [
    "###KMEANS\n",
    "\n",
    "print(\"Top terms per cluster:\")\n",
    "print()\n",
    "#sort cluster centers by proximity to centroid\n",
    "order_centroids = km.cluster_centers_.argsort()[:, ::-1] \n",
    "\n",
    "for i in range(num_clusters):\n",
    "    print(\"Cluster %d words:\" % i, end='')\n",
    "    \n",
    "    temp_list = []\n",
    "    for ind in order_centroids[i, :6]: #replace 6 with n words per cluster\n",
    "        try:\n",
    "            temp_list.append(terms[ind])\n",
    "            print(' %s' % vocab_frame.ix[terms[ind].split(' ')].values.tolist()[0][0].encode('utf-8', 'ignore'), end=',')\n",
    "        except:\n",
    "            pass\n",
    "    #the line below is for creating labels for the graph using the first threw words\n",
    "    #cluster_names[i] = ', '.join(temp_list[:3])\n",
    "    \n",
    "    print() #add whitespace\n",
    "    print() #add whitespace\n",
    "    \n",
    "    print(\"Cluster %d titles:\" % i, end='')\n",
    "    try:\n",
    "        for title in list(df22.ix[i]['cleanedtext'].values)[:30]:\n",
    "            try:\n",
    "                print(' %s,' % title, end='')\n",
    "            except:\n",
    "                pass\n",
    "    except AttributeError:\n",
    "        print(df22.ix[i]['cleanedtext'])\n",
    "    \n",
    "    print() #add whitespace\n",
    "    print() #add whitespace"
   ]
  },
  {
   "cell_type": "code",
   "execution_count": 370,
   "metadata": {},
   "outputs": [
    {
     "name": "stdout",
     "output_type": "stream",
     "text": [
      "\n",
      "\n"
     ]
    }
   ],
   "source": [
    "import os  # for os.path.basename\n",
    "\n",
    "import matplotlib.pyplot as plt\n",
    "import matplotlib as mpl\n",
    "\n",
    "from sklearn.manifold import MDS\n",
    "\n",
    "MDS()\n",
    "\n",
    "# convert two components as we're plotting points in a two-dimensional plane\n",
    "# \"precomputed\" because we provide a distance matrix\n",
    "# Random State is set seed in R\n",
    "mds = MDS(n_components=2, dissimilarity=\"precomputed\", random_state=1)\n",
    "\n",
    "pos = mds.fit_transform(dist)  # shape (n_components, n_samples)\n",
    "\n",
    "xs, ys = pos[:, 0], pos[:, 1]\n",
    "print()\n",
    "print()"
   ]
  },
  {
   "cell_type": "code",
   "execution_count": 371,
   "metadata": {
    "collapsed": true
   },
   "outputs": [],
   "source": [
    "%matplotlib inline \n",
    "cluster_colors = {0: '#1b9e77', 1: '#d95f02',2: '#7570b3',\n",
    "                  3: '#e7298a', 4: '#66a61e', 5: '#25a61e', 6: '#93a61e', 7: '#349a62'}\n",
    "\n",
    "cluster_names = {0: 'random 3 topics', \n",
    "                 1: 'topic, blah, blah',          \n",
    "                 2: 'Father, New York, brothers', \n",
    "                 3: 'random, blah, love',\n",
    "                 4: 'what, blah, captain',\n",
    "                 5: 'Blah, blah blah',\n",
    "                 6: 'This is the 7th',\n",
    "                7: 'This is the 8th'}"
   ]
  },
  {
   "cell_type": "code",
   "execution_count": 372,
   "metadata": {},
   "outputs": [],
   "source": [
    "dfpt2 = pd.DataFrame(dict(x=xs, y=ys, label=clusters, title=df22.cleanedtext))\n",
    "groups = dfpt2.groupby('label')"
   ]
  },
  {
   "cell_type": "code",
   "execution_count": 427,
   "metadata": {},
   "outputs": [
    {
     "data": {
      "image/png": "[encoded data removed]",
      "text/plain": [
       "<matplotlib.figure.Figure at 0x114f08cf8>"
      ]
     },
     "metadata": {},
     "output_type": "display_data"
    }
   ],
   "source": [
    "# set up plot\n",
    "fig, ax = plt.subplots(figsize=(17, 9)) # set size\n",
    "ax.margins(0.05) # Optional, just adds 5% padding to the autoscaling\n",
    "\n",
    "#iterate through groups to layer the plot\n",
    "#note that I use the cluster_name and cluster_color dicts with the 'name' lookup to return the appropriate color/label\n",
    "for name, group in groups:\n",
    "    ax.plot(group.x, group.y, marker='o', linestyle='', ms=12, \n",
    "            label=cluster_names[name], color=cluster_colors[name], \n",
    "            mec='none')\n",
    "    ax.set_aspect('auto')\n",
    "    ax.tick_params(\\\n",
    "        axis= 'x',          # changes apply to the x-axis\n",
    "        which='both',      # both major and minor ticks are affected\n",
    "        bottom='off',      # ticks along the bottom edge are off\n",
    "        top='off',         # ticks along the top edge are off\n",
    "        labelbottom='off')\n",
    "    ax.tick_params(\\\n",
    "        axis= 'y',         # changes apply to the y-axis\n",
    "        which='both',      # both major and minor ticks are affected\n",
    "        left='off',      # ticks along the bottom edge are off\n",
    "        top='off',         # ticks along the top edge are off\n",
    "        labelleft='off')\n",
    "    \n",
    "ax.legend(numpoints=1)  #show legend with only 1 point\n",
    "\n",
    "#add label in x,y position with the label as the film title\n",
    "# for i in range(len(dfpt2)):\n",
    "#     ax.text(dfpt2.ix[i]['x'], dfpt2.ix[i]['y'], dfpt2.ix[i]['title'], size=8)  \n",
    "\n",
    "    \n",
    "    \n",
    "plt.show() #show the plot\n",
    "\n",
    "#uncomment the below to save the plot if need be\n",
    "#plt.savefig('clusters_small_noaxes.png', dpi=200)"
   ]
  },
  {
   "cell_type": "code",
   "execution_count": 374,
   "metadata": {},
   "outputs": [],
   "source": [
    "import quandl\n",
    "mydata = quandl.get(\"WIKI/AAPL\", start_date=\"2001-12-31\", end_date=\"2005-12-31\")"
   ]
  },
  {
   "cell_type": "code",
   "execution_count": 375,
   "metadata": {},
   "outputs": [
    {
     "data": {
      "text/html": [
       "<div>\n",
       "<table border=\"1\" class=\"dataframe\">\n",
       "  <thead>\n",
       "    <tr style=\"text-align: right;\">\n",
       "      <th></th>\n",
       "      <th>Open</th>\n",
       "      <th>High</th>\n",
       "      <th>Low</th>\n",
       "      <th>Close</th>\n",
       "      <th>Volume</th>\n",
       "      <th>Ex-Dividend</th>\n",
       "      <th>Split Ratio</th>\n",
       "      <th>Adj. Open</th>\n",
       "      <th>Adj. High</th>\n",
       "      <th>Adj. Low</th>\n",
       "      <th>Adj. Close</th>\n",
       "      <th>Adj. Volume</th>\n",
       "    </tr>\n",
       "    <tr>\n",
       "      <th>Date</th>\n",
       "      <th></th>\n",
       "      <th></th>\n",
       "      <th></th>\n",
       "      <th></th>\n",
       "      <th></th>\n",
       "      <th></th>\n",
       "      <th></th>\n",
       "      <th></th>\n",
       "      <th></th>\n",
       "      <th></th>\n",
       "      <th></th>\n",
       "      <th></th>\n",
       "    </tr>\n",
       "  </thead>\n",
       "  <tbody>\n",
       "    <tr>\n",
       "      <th>2005-12-23</th>\n",
       "      <td>74.17</td>\n",
       "      <td>74.26</td>\n",
       "      <td>73.30</td>\n",
       "      <td>73.35</td>\n",
       "      <td>8209200.0</td>\n",
       "      <td>0.0</td>\n",
       "      <td>1.0</td>\n",
       "      <td>9.570554</td>\n",
       "      <td>9.582167</td>\n",
       "      <td>9.458293</td>\n",
       "      <td>9.464745</td>\n",
       "      <td>57464400.0</td>\n",
       "    </tr>\n",
       "    <tr>\n",
       "      <th>2005-12-27</th>\n",
       "      <td>74.00</td>\n",
       "      <td>75.18</td>\n",
       "      <td>73.95</td>\n",
       "      <td>74.23</td>\n",
       "      <td>21092500.0</td>\n",
       "      <td>0.0</td>\n",
       "      <td>1.0</td>\n",
       "      <td>9.548618</td>\n",
       "      <td>9.700880</td>\n",
       "      <td>9.542166</td>\n",
       "      <td>9.578296</td>\n",
       "      <td>147647500.0</td>\n",
       "    </tr>\n",
       "    <tr>\n",
       "      <th>2005-12-28</th>\n",
       "      <td>74.44</td>\n",
       "      <td>74.76</td>\n",
       "      <td>73.32</td>\n",
       "      <td>73.57</td>\n",
       "      <td>14218400.0</td>\n",
       "      <td>0.0</td>\n",
       "      <td>1.0</td>\n",
       "      <td>9.605393</td>\n",
       "      <td>9.646685</td>\n",
       "      <td>9.460874</td>\n",
       "      <td>9.493133</td>\n",
       "      <td>99528800.0</td>\n",
       "    </tr>\n",
       "    <tr>\n",
       "      <th>2005-12-29</th>\n",
       "      <td>73.78</td>\n",
       "      <td>73.82</td>\n",
       "      <td>71.42</td>\n",
       "      <td>71.45</td>\n",
       "      <td>17500900.0</td>\n",
       "      <td>0.0</td>\n",
       "      <td>1.0</td>\n",
       "      <td>9.520230</td>\n",
       "      <td>9.525391</td>\n",
       "      <td>9.215707</td>\n",
       "      <td>9.219578</td>\n",
       "      <td>122506300.0</td>\n",
       "    </tr>\n",
       "    <tr>\n",
       "      <th>2005-12-30</th>\n",
       "      <td>70.91</td>\n",
       "      <td>72.43</td>\n",
       "      <td>70.34</td>\n",
       "      <td>71.89</td>\n",
       "      <td>22295100.0</td>\n",
       "      <td>0.0</td>\n",
       "      <td>1.0</td>\n",
       "      <td>9.149899</td>\n",
       "      <td>9.346032</td>\n",
       "      <td>9.076348</td>\n",
       "      <td>9.276353</td>\n",
       "      <td>156065700.0</td>\n",
       "    </tr>\n",
       "  </tbody>\n",
       "</table>\n",
       "</div>"
      ],
      "text/plain": [
       "             Open   High    Low  Close      Volume  Ex-Dividend  Split Ratio  \\\n",
       "Date                                                                           \n",
       "2005-12-23  74.17  74.26  73.30  73.35  8209200.0   0.0          1.0           \n",
       "2005-12-27  74.00  75.18  73.95  74.23  21092500.0  0.0          1.0           \n",
       "2005-12-28  74.44  74.76  73.32  73.57  14218400.0  0.0          1.0           \n",
       "2005-12-29  73.78  73.82  71.42  71.45  17500900.0  0.0          1.0           \n",
       "2005-12-30  70.91  72.43  70.34  71.89  22295100.0  0.0          1.0           \n",
       "\n",
       "            Adj. Open  Adj. High  Adj. Low  Adj. Close  Adj. Volume  \n",
       "Date                                                                 \n",
       "2005-12-23  9.570554   9.582167   9.458293  9.464745    57464400.0   \n",
       "2005-12-27  9.548618   9.700880   9.542166  9.578296    147647500.0  \n",
       "2005-12-28  9.605393   9.646685   9.460874  9.493133    99528800.0   \n",
       "2005-12-29  9.520230   9.525391   9.215707  9.219578    122506300.0  \n",
       "2005-12-30  9.149899   9.346032   9.076348  9.276353    156065700.0  "
      ]
     },
     "execution_count": 375,
     "metadata": {},
     "output_type": "execute_result"
    }
   ],
   "source": [
    "mydata.tail()"
   ]
  },
  {
   "cell_type": "code",
   "execution_count": 376,
   "metadata": {},
   "outputs": [
    {
     "data": {
      "text/html": [
       "<div>\n",
       "<table border=\"1\" class=\"dataframe\">\n",
       "  <thead>\n",
       "    <tr style=\"text-align: right;\">\n",
       "      <th></th>\n",
       "      <th>_id</th>\n",
       "      <th>created_at</th>\n",
       "      <th>id</th>\n",
       "      <th>text</th>\n",
       "      <th>user</th>\n",
       "      <th>cleanedtext</th>\n",
       "      <th>clusters2</th>\n",
       "    </tr>\n",
       "    <tr>\n",
       "      <th>clusters</th>\n",
       "      <th></th>\n",
       "      <th></th>\n",
       "      <th></th>\n",
       "      <th></th>\n",
       "      <th></th>\n",
       "      <th></th>\n",
       "      <th></th>\n",
       "    </tr>\n",
       "  </thead>\n",
       "  <tbody>\n",
       "    <tr>\n",
       "      <th>0</th>\n",
       "      <td>5936b6abea2a7c07db002c1c</td>\n",
       "      <td>2015-07-02 12:04:22</td>\n",
       "      <td>616578155977912320</td>\n",
       "      <td>b'1st Print of the day on $SPY 100K @ 208 http://t.co/oObvHyVe3J'</td>\n",
       "      <td>stock_whisperer</td>\n",
       "      <td>1st Print of the day on XX'SPY 100K @ 208</td>\n",
       "      <td>0</td>\n",
       "    </tr>\n",
       "  </tbody>\n",
       "</table>\n",
       "</div>"
      ],
      "text/plain": [
       "                               _id           created_at                  id  \\\n",
       "clusters                                                                      \n",
       "0         5936b6abea2a7c07db002c1c  2015-07-02 12:04:22  616578155977912320   \n",
       "\n",
       "                                                                       text  \\\n",
       "clusters                                                                      \n",
       "0         b'1st Print of the day on $SPY 100K @ 208 http://t.co/oObvHyVe3J'   \n",
       "\n",
       "                     user                                cleanedtext  \\\n",
       "clusters                                                               \n",
       "0         stock_whisperer  1st Print of the day on XX'SPY 100K @ 208   \n",
       "\n",
       "          clusters2  \n",
       "clusters             \n",
       "0         0          "
      ]
     },
     "execution_count": 376,
     "metadata": {},
     "output_type": "execute_result"
    }
   ],
   "source": [
    "df22.head(1)"
   ]
  },
  {
   "cell_type": "code",
   "execution_count": 379,
   "metadata": {},
   "outputs": [
    {
     "name": "stderr",
     "output_type": "stream",
     "text": [
      "/Users/michaelcarrie/anaconda/lib/python3.5/site-packages/ipykernel/__main__.py:2: SettingWithCopyWarning: \n",
      "A value is trying to be set on a copy of a slice from a DataFrame.\n",
      "Try using .loc[row_indexer,col_indexer] = value instead\n",
      "\n",
      "See the caveats in the documentation: http://pandas.pydata.org/pandas-docs/stable/indexing.html#indexing-view-versus-copy\n",
      "  from ipykernel import kernelapp as app\n"
     ]
    }
   ],
   "source": [
    "import datetime as dt\n",
    "df22['date'] = df22['created_at'].apply(lambda x: \n",
    "                                    dt.datetime.strptime(x,'%Y-%m-%d %H:%M:%S').date())"
   ]
  },
  {
   "cell_type": "code",
   "execution_count": 395,
   "metadata": {
    "scrolled": true
   },
   "outputs": [
    {
     "data": {
      "text/plain": [
       "<pandas.core.strings.StringMethods at 0x114779ba8>"
      ]
     },
     "execution_count": 395,
     "metadata": {},
     "output_type": "execute_result"
    }
   ],
   "source": [
    "df22['date'][0].str"
   ]
  },
  {
   "cell_type": "code",
   "execution_count": 420,
   "metadata": {},
   "outputs": [],
   "source": [
    "df33 = df22.reset_index()"
   ]
  },
  {
   "cell_type": "code",
   "execution_count": 404,
   "metadata": {},
   "outputs": [
    {
     "data": {
      "text/plain": [
       "datetime.date(2015, 7, 2)"
      ]
     },
     "execution_count": 404,
     "metadata": {},
     "output_type": "execute_result"
    }
   ],
   "source": [
    "# df33['date'][0]"
   ]
  },
  {
   "cell_type": "code",
   "execution_count": 417,
   "metadata": {},
   "outputs": [
    {
     "data": {
      "text/plain": [
       "datetime.date(2015, 7, 12)"
      ]
     },
     "execution_count": 417,
     "metadata": {},
     "output_type": "execute_result"
    }
   ],
   "source": [
    "# df33['date'][0] + dt.timedelta(days=10)"
   ]
  },
  {
   "cell_type": "code",
   "execution_count": 419,
   "metadata": {},
   "outputs": [
    {
     "data": {
      "text/html": [
       "<div>\n",
       "<table border=\"1\" class=\"dataframe\">\n",
       "  <thead>\n",
       "    <tr style=\"text-align: right;\">\n",
       "      <th></th>\n",
       "      <th>Open</th>\n",
       "      <th>High</th>\n",
       "      <th>Low</th>\n",
       "      <th>Close</th>\n",
       "      <th>Volume</th>\n",
       "      <th>Ex-Dividend</th>\n",
       "      <th>Split Ratio</th>\n",
       "      <th>Adj. Open</th>\n",
       "      <th>Adj. High</th>\n",
       "      <th>Adj. Low</th>\n",
       "      <th>Adj. Close</th>\n",
       "      <th>Adj. Volume</th>\n",
       "    </tr>\n",
       "    <tr>\n",
       "      <th>Date</th>\n",
       "      <th></th>\n",
       "      <th></th>\n",
       "      <th></th>\n",
       "      <th></th>\n",
       "      <th></th>\n",
       "      <th></th>\n",
       "      <th></th>\n",
       "      <th></th>\n",
       "      <th></th>\n",
       "      <th></th>\n",
       "      <th></th>\n",
       "      <th></th>\n",
       "    </tr>\n",
       "  </thead>\n",
       "  <tbody>\n",
       "    <tr>\n",
       "      <th>2015-07-02</th>\n",
       "      <td>126.43</td>\n",
       "      <td>126.69</td>\n",
       "      <td>125.77</td>\n",
       "      <td>126.44</td>\n",
       "      <td>27210952.0</td>\n",
       "      <td>0.0</td>\n",
       "      <td>1.0</td>\n",
       "      <td>121.571538</td>\n",
       "      <td>121.821547</td>\n",
       "      <td>120.936901</td>\n",
       "      <td>121.581154</td>\n",
       "      <td>27210952.0</td>\n",
       "    </tr>\n",
       "    <tr>\n",
       "      <th>2015-07-06</th>\n",
       "      <td>124.94</td>\n",
       "      <td>126.23</td>\n",
       "      <td>124.85</td>\n",
       "      <td>126.00</td>\n",
       "      <td>28060431.0</td>\n",
       "      <td>0.0</td>\n",
       "      <td>1.0</td>\n",
       "      <td>120.138796</td>\n",
       "      <td>121.379224</td>\n",
       "      <td>120.052255</td>\n",
       "      <td>121.158062</td>\n",
       "      <td>28060431.0</td>\n",
       "    </tr>\n",
       "    <tr>\n",
       "      <th>2015-07-07</th>\n",
       "      <td>125.89</td>\n",
       "      <td>126.15</td>\n",
       "      <td>123.77</td>\n",
       "      <td>125.69</td>\n",
       "      <td>46946811.0</td>\n",
       "      <td>0.0</td>\n",
       "      <td>1.0</td>\n",
       "      <td>121.052290</td>\n",
       "      <td>121.302298</td>\n",
       "      <td>119.013757</td>\n",
       "      <td>120.859975</td>\n",
       "      <td>46946811.0</td>\n",
       "    </tr>\n",
       "  </tbody>\n",
       "</table>\n",
       "</div>"
      ],
      "text/plain": [
       "              Open    High     Low   Close      Volume  Ex-Dividend  \\\n",
       "Date                                                                  \n",
       "2015-07-02  126.43  126.69  125.77  126.44  27210952.0  0.0           \n",
       "2015-07-06  124.94  126.23  124.85  126.00  28060431.0  0.0           \n",
       "2015-07-07  125.89  126.15  123.77  125.69  46946811.0  0.0           \n",
       "\n",
       "            Split Ratio   Adj. Open   Adj. High    Adj. Low  Adj. Close  \\\n",
       "Date                                                                      \n",
       "2015-07-02  1.0          121.571538  121.821547  120.936901  121.581154   \n",
       "2015-07-06  1.0          120.138796  121.379224  120.052255  121.158062   \n",
       "2015-07-07  1.0          121.052290  121.302298  119.013757  120.859975   \n",
       "\n",
       "            Adj. Volume  \n",
       "Date                     \n",
       "2015-07-02  27210952.0   \n",
       "2015-07-06  28060431.0   \n",
       "2015-07-07  46946811.0   "
      ]
     },
     "execution_count": 419,
     "metadata": {},
     "output_type": "execute_result"
    }
   ],
   "source": [
    "quandl.get(\"WIKI/AAPL\", start_date=df33['date'][0], end_date=df33['date'][0] + dt.timedelta(days=5))"
   ]
  },
  {
   "cell_type": "code",
   "execution_count": null,
   "metadata": {
    "collapsed": true
   },
   "outputs": [],
   "source": []
  }
 ],
 "metadata": {
  "anaconda-cloud": {},
  "kernelspec": {
   "display_name": "Python [default]",
   "language": "python",
   "name": "python3"
  },
  "language_info": {
   "codemirror_mode": {
    "name": "ipython",
    "version": 3
   },
   "file_extension": ".py",
   "mimetype": "text/x-python",
   "name": "python",
   "nbconvert_exporter": "python",
   "pygments_lexer": "ipython3",
   "version": "3.5.3"
  }
 },
 "nbformat": 4,
 "nbformat_minor": 2
}
