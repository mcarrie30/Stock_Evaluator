{
 "cells": [
  {
   "cell_type": "code",
   "execution_count": 1,
   "metadata": {
    "collapsed": true
   },
   "outputs": [],
   "source": [
    "import pandas as pd\n",
    "import numpy as np\n",
    "import json\n",
    "from sklearn.pipeline import Pipeline\n",
    "from sklearn.feature_extraction.text import TfidfVectorizer\n",
    "from sklearn.feature_extraction.text import TfidfTransformer\n",
    "from sklearn.naive_bayes import MultinomialNB\n",
    "from nltk.corpus import stopwords\n",
    "from sklearn.cluster import KMeans, MiniBatchKMeans\n",
    "from collections import defaultdict\n",
    "from sklearn.cluster import KMeans\n",
    "from sklearn import metrics\n",
    "import nltk\n",
    "import gensim\n",
    "import os\n",
    "import string\n",
    "import re\n",
    "import os\n",
    "from nltk.corpus import stopwords, wordnet\n",
    "from nltk.tokenize import word_tokenize\n",
    "from nltk.stem.wordnet import WordNetLemmatizer\n",
    "from sklearn.cluster import DBSCAN\n",
    "from sklearn.externals import joblib\n",
    "import csv\n",
    "import tweepy\n",
    "import cnfg\n",
    "import datetime\n",
    "import quandl\n",
    "import matplotlib.pyplot as plt\n",
    "quandl.ApiConfig.api_key = '*****' \n",
    "\n",
    "\n",
    "pd.set_option('display.max_colwidth', -1)\n",
    "# pd.set_option('display.max_colwidth', 50)\n",
    "pd.set_option('display.max_columns', None)"
   ]
  },
  {
   "cell_type": "code",
   "execution_count": 2,
   "metadata": {
    "collapsed": true
   },
   "outputs": [],
   "source": [
    "from pandas import DataFrame\n",
    "import json\n",
    "from pymongo import MongoClient\n",
    "\n",
    "\n",
    "client = MongoClient(port=12345)\n",
    "db = client.stocks\n",
    "\n",
    "\n",
    "df = DataFrame(list(db.stocks.find({})))"
   ]
  },
  {
   "cell_type": "code",
   "execution_count": 3,
   "metadata": {
    "collapsed": true
   },
   "outputs": [],
   "source": [
    "df['user'] = 'stock_whisperer'\n",
    "\n",
    "list1 = []\n",
    "for i in range(len(df['text'])):\n",
    "    list1.append(df['text'].str.split(' http')[i][0])\n",
    "    \n",
    "se = pd.Series(list1)\n",
    "se = se.str.replace('b\"', \"b'\")\n",
    "se = se.str.replace('$', \"XX'\")\n",
    "\n",
    "list2 = []\n",
    "for i in range(len(df['text'])):\n",
    "    list2.append(se.str.split(\"b'\")[i][1])\n",
    "    \n",
    "se2 = pd.Series(list2)\n",
    "df['cleanedtext'] = se2.values"
   ]
  },
  {
   "cell_type": "code",
   "execution_count": 4,
   "metadata": {
    "collapsed": true
   },
   "outputs": [],
   "source": [
    "sandp100 = ['AAPL','ABBV','ABT','ACN','AGN','AIG','ALL','AMGN','AMZN','AXP','BA','BAC',\n",
    "            'BIIB','BK','BLK','BMY','BRK.B','C','CAT','CELG','CL','CMCSA','COF','COP',\n",
    "            'COST','CSCO','CVS','CVX','DD','DHR','DIS','DOW','DUK','EMR','EXC','F','FB',\n",
    "            'FDX','FOX','FOXA','GD','GE','GILD','GM','GOOG','GOOGL','GS','HAL','HD','HON',\n",
    "            'IBM','INTC','JNJ','JPM','KHC','KMI','KO','LLY','LMT','LOW','MA','MCD','MDLZ',\n",
    "            'MDT','MET','MMM','MO','MON','MRK','MS','MSFT','NEE','NKE','ORCL','OXY','PCLN',\n",
    "            'PEP','PFE','PG','PM','PYPL','QCOM','RTN','SBUX','SLB','SO','SPG','T','TGT',\n",
    "            'TWX','TXN','UNH','UNP','UPS','USB','UTX','V','VZ','WBA','WFC','WMT','XOM']\n",
    "\n",
    "sandp100find = [\"XX'AAPL\",\"XX'ABBV\",\"XX'ABT\",\"XX'ACN\",\"XX'AGN\",\"XX'AIG\",\"XX'ALL\",\"XX'AMGN\",\n",
    "                \"XX'AMZN\",\"XX'AXP\",\"XX'BA\",\"XX'BAC\",\"XX'BIIB\",\"XX'BK\",\"XX'BLK\",\"XX'BMY\",\n",
    "                \"XX'BRK.B\",\"XX'C\",\"XX'CAT\",\"XX'CELG\",\"XX'CL\",\"XX'CMCSA\",\"XX'COF\",\"XX'COP\",\n",
    "                \"XX'COST\",\"XX'CSCO\",\"XX'CVS\",\"XX'CVX\",\"XX'DD\",\"XX'DHR\",\"XX'DIS\",\"XX'DOW\",\n",
    "                \"XX'DUK\",\"XX'EMR\",\"XX'EXC\",\"XX'F\",\"XX'FB\",\"XX'FDX\",\"XX'FOX\",\"XX'FOXA\",\"XX'GD\",\n",
    "                \"XX'GE\",\"XX'GILD\",\"XX'GM\",\"XX'GOOG\",\"XX'GOOGL\",\"XX'GS\",\"XX'HAL\",\"XX'HD\",\"XX'HON\",\n",
    "                \"XX'IBM\",\"XX'INTC\",\"XX'JNJ\",\"XX'JPM\",\"XX'KHC\",\"XX'KMI\",\"XX'KO\",\"XX'LLY\",\"XX'LMT\",\n",
    "                \"XX'LOW\",\"XX'MA\",\"XX'MCD\",\"XX'MDLZ\",\"XX'MDT\",\"XX'MET\",\"XX'MMM\",\"XX'MO\",\"XX'MON\",\n",
    "                \"XX'MRK\",\"XX'MS\",\"XX'MSFT\",\"XX'NEE\",\"XX'NKE\",\"XX'ORCL\",\"XX'OXY\",\"XX'PCLN\",\"XX'PEP\",\n",
    "                \"XX'PFE\",\"XX'PG\",\"XX'PM\",\"XX'PYPL\",\"XX'QCOM\",\"XX'RTN\",\"XX'SBUX\",\"XX'SLB\",\"XX'SO\",\n",
    "                \"XX'SPG\",\"XX'T\",\"XX'TGT\",\"XX'TWX\",\"XX'TXN\",\"XX'UNH\",\"XX'UNP\",\"XX'UPS\",\"XX'USB\",\n",
    "                \"XX'UTX\",\"XX'V\",\"XX'VZ\",\"XX'WBA\",\"XX'WFC\",\"XX'WMT\",\"XX'XOM\"]\n",
    "\n",
    "sandp100lower = [element.lower() for element in sandp100]"
   ]
  },
  {
   "cell_type": "code",
   "execution_count": 5,
   "metadata": {
    "collapsed": true
   },
   "outputs": [],
   "source": [
    "df2 = df[df['cleanedtext'].str.contains(\"Whisper\",na=False, case=False)]\n",
    "df2 = df2[df2['cleanedtext'].str.contains('yester|from|Wisconsin|email|rocking', case=False)==False]\n",
    "df2 = df2[df2['cleanedtext'].str.contains(\"XX'AAPL|XX'ABBV|XX'ABT|XX'ACN|XX'AGN|XX'AIG|XX'ALL|XX'AMGN|XX'AMZN|XX'AXP|XX'BA|XX'BAC|XX'BIIB|XX'BK|XX'BLK|XX'BMY|XX'BRK.B|XX'C|XX'CAT|XX'CELG|XX'CL|XX'CMCSA|XX'COF|XX'COP|XX'COST|XX'CSCO|XX'CVS|XX'CVX|XX'DD|XX'DHR|XX'DIS|XX'DOW|XX'DUK|XX'EMR|XX'EXC|XX'F|XX'FB|XX'FDX|XX'FOX|XX'FOXA|XX'GD|XX'GE|XX'GILD|XX'GM|XX'GOOG|XX'GOOGL|XX'GS|XX'HAL|XX'HD|XX'HON|XX'IBM|XX'INTC|XX'JNJ|XX'JPM|XX'KHC|XX'KMI|XX'KO|XX'LLY|XX'LMT|XX'LOW|XX'MA|XX'MCD|XX'MDLZ|XX'MDT|XX'MET|XX'MMM|XX'MO|XX'MON|XX'MRK|XX'MS|XX'MSFT|XX'NEE|XX'NKE|XX'ORCL|XX'OXY|XX'PCLN|XX'PEP|XX'PFE|XX'PG|XX'PM|XX'PYPL|XX'QCOM|XX'RTN|XX'SBUX|XX'SLB|XX'SO|XX'SPG|XX'T|XX'TGT|XX'TWX|XX'TXN|XX'UNH|XX'UNP|XX'UPS|XX'USB|XX'UTX|XX'V|XX'VZ|XX'WBA|XX'WFC|XX'WMT|XX'XOM\", na=False, case=True)]\n"
   ]
  },
  {
   "cell_type": "code",
   "execution_count": 6,
   "metadata": {
    "collapsed": true
   },
   "outputs": [],
   "source": [
    "import datetime as dt\n",
    "df2['date'] = df2['created_at'].apply(lambda x: \n",
    "                                    dt.datetime.strptime(x,'%Y-%m-%d %H:%M:%S').date())"
   ]
  },
  {
   "cell_type": "code",
   "execution_count": 7,
   "metadata": {},
   "outputs": [
    {
     "name": "stderr",
     "output_type": "stream",
     "text": [
      "/Users/michaelcarrie/anaconda/lib/python3.5/site-packages/pandas/core/reshape/merge.py:551: UserWarning: merging between different levels can give an unintended result (1 levels on the left, 2 on the right)\n",
      "  warnings.warn(msg, UserWarning)\n"
     ]
    }
   ],
   "source": [
    "df2 = df2.sort_values(by='date')\n",
    "df3 = df2.cleanedtext.str.extractall(r\"\"\"(XX'[A-Z]+)\"\"\")\n",
    "df3 = df3.unstack()\n",
    "df4 = df2.join(df3)\n",
    "df5 = df4.reset_index()\n",
    "\n",
    "for i in range(8, df5.shape[1]):\n",
    "    df5.iloc[:,i] = df5.iloc[:,i].str.replace(\"XX'\", '')"
   ]
  },
  {
   "cell_type": "code",
   "execution_count": 8,
   "metadata": {
    "collapsed": true
   },
   "outputs": [],
   "source": [
    "stock_quan = pd.read_csv('WIKI_PRICES_1ef64a24111c5bc7e6a0a66f6e37080e.csv')\n",
    "quanstocklist = list(stock_quan.ticker.unique())\n",
    "quanstocklist.remove('AA')\n",
    "quanstocklist.remove('ANF')\n",
    "quanstocklist.remove('AMD')\n",
    "quanstocklist.remove('FOSL')\n",
    "quanstocklist.remove('TASR')"
   ]
  },
  {
   "cell_type": "code",
   "execution_count": 9,
   "metadata": {
    "collapsed": true
   },
   "outputs": [],
   "source": [
    "import copy\n",
    "df6 = copy.copy(df5.iloc[:,:])\n",
    "df7 = copy.copy(df5.iloc[:,:])\n",
    "df8 = copy.copy(df5.iloc[:,:])\n",
    "df9 = copy.copy(df5.iloc[:,:])"
   ]
  },
  {
   "cell_type": "code",
   "execution_count": 10,
   "metadata": {
    "collapsed": true
   },
   "outputs": [],
   "source": [
    "def link_to_api(X):\n",
    "    count = 0\n",
    "    enum_list = []\n",
    "    first_list = []\n",
    "    for a, b in zip(df5.iloc[:,7], df5.iloc[:,X]):\n",
    "        if not b in quanstocklist:\n",
    "    #     if b == 'SPY' or b == 'USO' or b == 'GDX' or b == 'AA' or b =='PBR' or b=='ALU' or b == 'STM' or b=='TSL' or b=='EEM' or b == 'XLF' or b=='GSK' or b=='ING' or b=='GLD' or b=='SFUN' or b=='BABA' or b=='GFI' or b=='ARMH' or b=='XX' or b=='MT' or b=='BCS' or b=='TLT' or b=='CSIQ' or b=='GSX' or b=='NUGT' or b=='WFT' or b=='SLV' or b=='UGAZ' or b=='SDRL' or b=='JNK' or b=='TBT' or b=='ASX':\n",
    "            enum_list.append(np.nan)\n",
    "            first_list.append(np.nan)\n",
    "            count += 1\n",
    "        else:\n",
    "            date_data = a\n",
    "            stock_name = b\n",
    "            new_date = a + dt.timedelta(days=30)\n",
    "            my_data = quandl.get(dataset =(\"WIKI/%s\"% stock_name), start_date=(\"%s\"% date_data), end_date=(\"%s\"% new_date))\n",
    "            total_sum = my_data.iloc[:,3].sum()\n",
    "            first_list.append(my_data.iloc[0,3]/total_sum)\n",
    "            enum_list.append((my_data.iloc[-1,3] - my_data.iloc[0,3])/my_data.iloc[0,3])\n",
    "            count += 1\n",
    "#             print(first_list)\n",
    "    #     print(count)\n",
    "    #     print(enum_list)\n",
    "    first_list = list(map(float, first_list))\n",
    "    enum_list = list(map(float, enum_list))\n",
    "    final_list = [z*x for z,x in zip(first_list,enum_list)]\n",
    "    return final_list\n",
    "\n",
    "\n",
    "    \n",
    "se = pd.Series(link_to_api(8))\n",
    "df5['return_one'] = se.values\n",
    "df5['return_one'] = pd.to_numeric(df5['return_one'], errors='coerce')"
   ]
  },
  {
   "cell_type": "code",
   "execution_count": 11,
   "metadata": {
    "collapsed": true
   },
   "outputs": [],
   "source": [
    "se = pd.Series(link_to_api(9))\n",
    "df6['return_one'] = se.values\n",
    "df6['return_one'] = pd.to_numeric(df6['return_one'], errors='coerce')\n",
    "\n",
    "se = pd.Series(link_to_api(10))\n",
    "df7['return_one'] = se.values\n",
    "df7['return_one'] = pd.to_numeric(df7['return_one'], errors='coerce')\n",
    "\n",
    "se = pd.Series(link_to_api(11))\n",
    "df8['return_one'] = se.values\n",
    "df8['return_one'] = pd.to_numeric(df8['return_one'], errors='coerce')\n",
    "\n",
    "se = pd.Series(link_to_api(12))\n",
    "df9['return_one'] = se.values\n",
    "df9['return_one'] = pd.to_numeric(df9['return_one'], errors='coerce')"
   ]
  },
  {
   "cell_type": "code",
   "execution_count": 12,
   "metadata": {},
   "outputs": [
    {
     "name": "stdout",
     "output_type": "stream",
     "text": [
      "0.519161500969\n",
      "0.353223982367\n",
      "0.00856323565547\n",
      "-0.614858440858\n",
      "0.168537182278\n"
     ]
    }
   ],
   "source": [
    "#SHARPE VALUE\n",
    "print((df5['return_one'].mean())/(df5['return_one'].std()) * np.sqrt(12))\n",
    "print((df6['return_one'].mean())/(df6['return_one'].std()) * np.sqrt(12))\n",
    "print((df7['return_one'].mean())/(df7['return_one'].std()) * np.sqrt(12))\n",
    "print((df8['return_one'].mean())/(df8['return_one'].std()) * np.sqrt(12))\n",
    "print((df9['return_one'].mean())/(df9['return_one'].std()) * np.sqrt(12))"
   ]
  },
  {
   "cell_type": "markdown",
   "metadata": {},
   "source": [
    "**SECOND USER**"
   ]
  },
  {
   "cell_type": "code",
   "execution_count": 13,
   "metadata": {
    "collapsed": true
   },
   "outputs": [],
   "source": [
    "dfstockstotrade = DataFrame(list(db.stockstotrade.find({})))"
   ]
  },
  {
   "cell_type": "code",
   "execution_count": 14,
   "metadata": {
    "collapsed": true
   },
   "outputs": [],
   "source": [
    "dfstockstotrade['user'] = 'stockstotrade'"
   ]
  },
  {
   "cell_type": "code",
   "execution_count": 15,
   "metadata": {
    "collapsed": true
   },
   "outputs": [],
   "source": [
    "list1 = []\n",
    "for i in range(len(dfstockstotrade['text'])):\n",
    "    list1.append(dfstockstotrade['text'].str.split(' http')[i][0])\n",
    "    \n",
    "se = pd.Series(list1)\n",
    "se = se.str.replace('b\"', \"b'\")\n",
    "se = se.str.replace('$', \"XX'\")\n",
    "\n",
    "list2 = []\n",
    "for i in range(len(dfstockstotrade['text'])):\n",
    "    list2.append(se.str.split(\"b'\")[i][1])\n",
    "    \n",
    "    \n",
    "se2 = pd.Series(list2)\n",
    "dfstockstotrade['cleanedtext'] = se2.values"
   ]
  },
  {
   "cell_type": "code",
   "execution_count": 16,
   "metadata": {
    "collapsed": true
   },
   "outputs": [],
   "source": [
    "dfstockstotrade = dfstockstotrade[dfstockstotrade['cleanedtext'].str.contains('RT|@', case=False)==False]\n",
    "dfstockstotrade = dfstockstotrade[dfstockstotrade['cleanedtext'].str.contains(\"XX'AAPL|XX'ABBV|XX'ABT|XX'ACN|XX'AGN|XX'AIG|XX'ALL|XX'AMGN|XX'AMZN|XX'AXP|XX'BA|XX'BAC|XX'BIIB|XX'BK|XX'BLK|XX'BMY|XX'BRK.B|XX'C|XX'CAT|XX'CELG|XX'CL|XX'CMCSA|XX'COF|XX'COP|XX'COST|XX'CSCO|XX'CVS|XX'CVX|XX'DD|XX'DHR|XX'DIS|XX'DOW|XX'DUK|XX'EMR|XX'EXC|XX'F|XX'FB|XX'FDX|XX'FOX|XX'FOXA|XX'GD|XX'GE|XX'GILD|XX'GM|XX'GOOG|XX'GOOGL|XX'GS|XX'HAL|XX'HD|XX'HON|XX'IBM|XX'INTC|XX'JNJ|XX'JPM|XX'KHC|XX'KMI|XX'KO|XX'LLY|XX'LMT|XX'LOW|XX'MA|XX'MCD|XX'MDLZ|XX'MDT|XX'MET|XX'MMM|XX'MO|XX'MON|XX'MRK|XX'MS|XX'MSFT|XX'NEE|XX'NKE|XX'ORCL|XX'OXY|XX'PCLN|XX'PEP|XX'PFE|XX'PG|XX'PM|XX'PYPL|XX'QCOM|XX'RTN|XX'SBUX|XX'SLB|XX'SO|XX'SPG|XX'T|XX'TGT|XX'TWX|XX'TXN|XX'UNH|XX'UNP|XX'UPS|XX'USB|XX'UTX|XX'V|XX'VZ|XX'WBA|XX'WFC|XX'WMT|XX'XOM\", na=False, case=True)]\n",
    "\n"
   ]
  },
  {
   "cell_type": "code",
   "execution_count": 17,
   "metadata": {
    "collapsed": true
   },
   "outputs": [],
   "source": [
    "import datetime as dt\n",
    "dfstockstotrade['date'] = dfstockstotrade['created_at'].apply(lambda x: \n",
    "                                    dt.datetime.strptime(x,'%Y-%m-%d %H:%M:%S').date())"
   ]
  },
  {
   "cell_type": "code",
   "execution_count": 18,
   "metadata": {},
   "outputs": [
    {
     "name": "stderr",
     "output_type": "stream",
     "text": [
      "/Users/michaelcarrie/anaconda/lib/python3.5/site-packages/pandas/core/reshape/merge.py:551: UserWarning: merging between different levels can give an unintended result (1 levels on the left, 2 on the right)\n",
      "  warnings.warn(msg, UserWarning)\n"
     ]
    }
   ],
   "source": [
    "dfstockstotrade = dfstockstotrade.sort_values(by='date')\n",
    "dfstockstotradeextract = dfstockstotrade.cleanedtext.str.extractall(r\"\"\"(XX'[A-Z]+)\"\"\")\n",
    "dfstockstotradeextract = dfstockstotradeextract.unstack()\n",
    "dfstockstotrade = dfstockstotrade.join(dfstockstotradeextract)\n",
    "dfstockstotrade = dfstockstotrade.reset_index()"
   ]
  },
  {
   "cell_type": "code",
   "execution_count": 19,
   "metadata": {
    "collapsed": true
   },
   "outputs": [],
   "source": [
    "for i in range(8, dfstockstotrade.shape[1]):\n",
    "    dfstockstotrade.iloc[:,i] = dfstockstotrade.iloc[:,i].str.replace(\"XX'\", '')"
   ]
  },
  {
   "cell_type": "code",
   "execution_count": 20,
   "metadata": {
    "collapsed": true
   },
   "outputs": [],
   "source": [
    "dfstockstotradept2 = copy.copy(dfstockstotrade.iloc[:,:])\n",
    "dfstockstotradept3 = copy.copy(dfstockstotrade.iloc[:,:])\n",
    "dfstockstotradept4 = copy.copy(dfstockstotrade.iloc[:,:])\n",
    "dfstockstotradept5 = copy.copy(dfstockstotrade.iloc[:,:])\n",
    "\n",
    "dfstockstotrade = dfstockstotrade[(dfstockstotrade['date']>datetime.date(2010,9,12)) & (dfstockstotrade['date']<datetime.date(2017,5,1))]\n",
    "dfstockstotradept2 = dfstockstotradept2[(dfstockstotradept2['date']>datetime.date(2010,9,12)) & (dfstockstotradept2['date']<datetime.date(2017,5,1))]\n",
    "dfstockstotradept3 = dfstockstotradept3[(dfstockstotradept3['date']>datetime.date(2010,9,12)) & (dfstockstotradept3['date']<datetime.date(2017,5,1))]\n",
    "dfstockstotradept4 = dfstockstotradept4[(dfstockstotradept4['date']>datetime.date(2010,9,12)) & (dfstockstotradept4['date']<datetime.date(2017,5,1))]\n",
    "dfstockstotradept5 = dfstockstotradept5[(dfstockstotradept5['date']>datetime.date(2010,9,12)) & (dfstockstotradept5['date']<datetime.date(2017,5,1))]\n"
   ]
  },
  {
   "cell_type": "code",
   "execution_count": 21,
   "metadata": {
    "collapsed": true
   },
   "outputs": [],
   "source": [
    "def link_to_api(X):\n",
    "    count = 0\n",
    "    enum_list = []\n",
    "    first_list = []\n",
    "    for a, b in zip(dfstockstotrade.iloc[:,7], dfstockstotrade.iloc[:,X]):\n",
    "        if not b in quanstocklist:\n",
    "    #     if b == 'SPY' or b == 'USO' or b == 'GDX' or b == 'AA' or b =='PBR' or b=='ALU' or b == 'STM' or b=='TSL' or b=='EEM' or b == 'XLF' or b=='GSK' or b=='ING' or b=='GLD' or b=='SFUN' or b=='BABA' or b=='GFI' or b=='ARMH' or b=='XX' or b=='MT' or b=='BCS' or b=='TLT' or b=='CSIQ' or b=='GSX' or b=='NUGT' or b=='WFT' or b=='SLV' or b=='UGAZ' or b=='SDRL' or b=='JNK' or b=='TBT' or b=='ASX':\n",
    "            enum_list.append(np.nan)\n",
    "            first_list.append(np.nan)\n",
    "            count += 1\n",
    "        else:\n",
    "            date_data = a\n",
    "            stock_name = b\n",
    "            new_date = a + dt.timedelta(days=30)\n",
    "            my_data = quandl.get(dataset =(\"WIKI/%s\"% stock_name), start_date=(\"%s\"% date_data), end_date=(\"%s\"% new_date))\n",
    "            total_sum = my_data.iloc[:,3].sum()\n",
    "            first_list.append(my_data.iloc[0,3]/total_sum)\n",
    "            enum_list.append((my_data.iloc[-1,3] - my_data.iloc[0,3])/my_data.iloc[0,3])\n",
    "            count += 1\n",
    "#             print(first_list)\n",
    "#         print(count)\n",
    "    #     print(enum_list)\n",
    "    first_list = list(map(float, first_list))\n",
    "    enum_list = list(map(float, enum_list))\n",
    "    final_list = [z*x for z,x in zip(first_list,enum_list)]\n",
    "    return final_list\n",
    "\n",
    "\n",
    "    \n",
    "se = pd.Series(link_to_api(8))\n",
    "dfstockstotrade['return_one'] = se.values\n",
    "dfstockstotrade['return_one'] = pd.to_numeric(dfstockstotrade['return_one'], errors='coerce')"
   ]
  },
  {
   "cell_type": "code",
   "execution_count": 22,
   "metadata": {
    "collapsed": true
   },
   "outputs": [],
   "source": [
    "se = pd.Series(link_to_api(9))\n",
    "dfstockstotradept2['return_one'] = se.values\n",
    "dfstockstotradept2['return_one'] = pd.to_numeric(dfstockstotradept2['return_one'], errors='coerce')\n",
    "\n",
    "# se = pd.Series(link_to_api(10))\n",
    "# dfstockstotradept3['return_one'] = se.values\n",
    "# dfstockstotradept3['return_one'] = pd.to_numeric(dfstockstotradept3['return_one'], errors='coerce')\n",
    "\n",
    "se = pd.Series(link_to_api(11))\n",
    "dfstockstotradept4['return_one'] = se.values\n",
    "dfstockstotradept4['return_one'] = pd.to_numeric(dfstockstotradept4['return_one'], errors='coerce')\n",
    "\n",
    "se = pd.Series(link_to_api(12))\n",
    "dfstockstotradept5['return_one'] = se.values\n",
    "dfstockstotradept5['return_one'] = pd.to_numeric(dfstockstotradept5['return_one'], errors='coerce')"
   ]
  },
  {
   "cell_type": "code",
   "execution_count": 23,
   "metadata": {},
   "outputs": [
    {
     "name": "stdout",
     "output_type": "stream",
     "text": [
      "0.00841591290565\n",
      "-0.573781320856\n",
      "-0.574791095905\n",
      "-1.42960714661\n"
     ]
    }
   ],
   "source": [
    "#SHARPE VALUE\n",
    "print((dfstockstotrade['return_one'].mean())/(dfstockstotrade['return_one'].std()) * np.sqrt(12))\n",
    "print((dfstockstotradept2['return_one'].mean())/(dfstockstotradept2['return_one'].std()) * np.sqrt(12))\n",
    "# print((dfstockstotradept3['return_one'].mean())/(dfstockstotradept3['return_one'].std()) * np.sqrt(12))\n",
    "print((dfstockstotradept4['return_one'].mean())/(dfstockstotradept4['return_one'].std()) * np.sqrt(12))\n",
    "print((dfstockstotradept5['return_one'].mean())/(dfstockstotradept5['return_one'].std()) * np.sqrt(12))\n"
   ]
  },
  {
   "cell_type": "markdown",
   "metadata": {},
   "source": [
    "**THIRD USER**"
   ]
  },
  {
   "cell_type": "code",
   "execution_count": 24,
   "metadata": {
    "collapsed": true
   },
   "outputs": [],
   "source": [
    "candidbanter = DataFrame(list(db.candidbanter.find({})))\n",
    "candidbanter['user'] = 'candidbanter'"
   ]
  },
  {
   "cell_type": "code",
   "execution_count": 25,
   "metadata": {
    "collapsed": true
   },
   "outputs": [],
   "source": [
    "list1 = []\n",
    "for i in range(len(candidbanter['text'])):\n",
    "    list1.append(candidbanter['text'].str.split(' http')[i][0])\n",
    "    \n",
    "se = pd.Series(list1)\n",
    "se = se.str.replace('b\"', \"b'\")\n",
    "se = se.str.replace('$', \"XX'\")\n",
    "\n",
    "list2 = []\n",
    "for i in range(len(candidbanter['text'])):\n",
    "    list2.append(se.str.split(\"b'\")[i][1])\n",
    "    \n",
    "    \n",
    "se2 = pd.Series(list2)\n",
    "candidbanter['cleanedtext'] = se2.values"
   ]
  },
  {
   "cell_type": "code",
   "execution_count": 26,
   "metadata": {
    "collapsed": true
   },
   "outputs": [],
   "source": [
    "candidbanter = candidbanter[candidbanter['cleanedtext'].str.contains('RT|@', case=False)==False]\n",
    "candidbanter = candidbanter[candidbanter['cleanedtext'].str.contains(\"XX'AAPL|XX'ABBV|XX'ABT|XX'ACN|XX'AGN|XX'AIG|XX'ALL|XX'AMGN|XX'AMZN|XX'AXP|XX'BA|XX'BAC|XX'BIIB|XX'BK|XX'BLK|XX'BMY|XX'BRK.B|XX'C|XX'CAT|XX'CELG|XX'CL|XX'CMCSA|XX'COF|XX'COP|XX'COST|XX'CSCO|XX'CVS|XX'CVX|XX'DD|XX'DHR|XX'DIS|XX'DOW|XX'DUK|XX'EMR|XX'EXC|XX'F|XX'FB|XX'FDX|XX'FOX|XX'FOXA|XX'GD|XX'GE|XX'GILD|XX'GM|XX'GOOG|XX'GOOGL|XX'GS|XX'HAL|XX'HD|XX'HON|XX'IBM|XX'INTC|XX'JNJ|XX'JPM|XX'KHC|XX'KMI|XX'KO|XX'LLY|XX'LMT|XX'LOW|XX'MA|XX'MCD|XX'MDLZ|XX'MDT|XX'MET|XX'MMM|XX'MO|XX'MON|XX'MRK|XX'MS|XX'MSFT|XX'NEE|XX'NKE|XX'ORCL|XX'OXY|XX'PCLN|XX'PEP|XX'PFE|XX'PG|XX'PM|XX'PYPL|XX'QCOM|XX'RTN|XX'SBUX|XX'SLB|XX'SO|XX'SPG|XX'T|XX'TGT|XX'TWX|XX'TXN|XX'UNH|XX'UNP|XX'UPS|XX'USB|XX'UTX|XX'V|XX'VZ|XX'WBA|XX'WFC|XX'WMT|XX'XOM\", na=False, case=True)]\n",
    "\n",
    "\n"
   ]
  },
  {
   "cell_type": "code",
   "execution_count": 27,
   "metadata": {
    "collapsed": true
   },
   "outputs": [],
   "source": [
    "candidbanter['date'] = candidbanter['created_at'].apply(lambda x: \n",
    "                                    dt.datetime.strptime(x,'%Y-%m-%d %H:%M:%S').date())"
   ]
  },
  {
   "cell_type": "code",
   "execution_count": 28,
   "metadata": {},
   "outputs": [
    {
     "name": "stderr",
     "output_type": "stream",
     "text": [
      "/Users/michaelcarrie/anaconda/lib/python3.5/site-packages/pandas/core/reshape/merge.py:551: UserWarning: merging between different levels can give an unintended result (1 levels on the left, 2 on the right)\n",
      "  warnings.warn(msg, UserWarning)\n"
     ]
    }
   ],
   "source": [
    "candidbanter = candidbanter.sort_values(by='date')\n",
    "candidbanterextract = candidbanter.cleanedtext.str.extractall(r\"\"\"(XX'[A-Z]+)\"\"\")\n",
    "candidbanterextract = candidbanterextract.unstack()\n",
    "candidbanter = candidbanter.join(candidbanterextract)\n",
    "candidbanter = candidbanter.reset_index()"
   ]
  },
  {
   "cell_type": "code",
   "execution_count": 29,
   "metadata": {
    "collapsed": true
   },
   "outputs": [],
   "source": [
    "for i in range(8, candidbanter.shape[1]):\n",
    "    candidbanter.iloc[:,i] = candidbanter.iloc[:,i].str.replace(\"XX'\", '')"
   ]
  },
  {
   "cell_type": "code",
   "execution_count": 30,
   "metadata": {
    "collapsed": true
   },
   "outputs": [],
   "source": [
    "candidbanter = candidbanter[(candidbanter['date']>datetime.date(2014,9,12)) & (candidbanter['date']<datetime.date(2017,5,1))]"
   ]
  },
  {
   "cell_type": "code",
   "execution_count": 31,
   "metadata": {
    "collapsed": true
   },
   "outputs": [],
   "source": [
    "from vaderSentiment.vaderSentiment import SentimentIntensityAnalyzer\n",
    "analyser = SentimentIntensityAnalyzer()\n",
    "\n",
    "def print_sentiment_scores(sentence):\n",
    "    snt = (analyser.polarity_scores(sentence)['compound'])\n",
    "    return snt"
   ]
  },
  {
   "cell_type": "code",
   "execution_count": 32,
   "metadata": {
    "collapsed": true
   },
   "outputs": [],
   "source": [
    "listcandid = []\n",
    "for i in candidbanter.cleanedtext:\n",
    "    listcandid.append(print_sentiment_scores(i))\n",
    "\n",
    "se3 = pd.Series(listcandid)\n",
    "candidbanter['compound'] = se3.values"
   ]
  },
  {
   "cell_type": "code",
   "execution_count": 33,
   "metadata": {
    "collapsed": true
   },
   "outputs": [],
   "source": [
    "candidbanter = candidbanter[candidbanter['compound'] > 0.25]\n",
    "candidbanter.drop(['compound'], axis=1, inplace=True)"
   ]
  },
  {
   "cell_type": "code",
   "execution_count": 34,
   "metadata": {
    "collapsed": true
   },
   "outputs": [],
   "source": [
    "candidbanter2 = copy.copy(candidbanter.iloc[:,:])\n",
    "candidbanter3 = copy.copy(candidbanter.iloc[:,:])\n",
    "candidbanter4 = copy.copy(candidbanter.iloc[:,:])\n",
    "candidbanter5 = copy.copy(candidbanter.iloc[:,:])"
   ]
  },
  {
   "cell_type": "code",
   "execution_count": 35,
   "metadata": {
    "collapsed": true
   },
   "outputs": [],
   "source": [
    "def link_to_api(X):\n",
    "    count = 0\n",
    "    enum_list = []\n",
    "    first_list = []\n",
    "    for a, b in zip(candidbanter.iloc[:,7], candidbanter.iloc[:,X]):\n",
    "        if not b in quanstocklist:\n",
    "    #     if b == 'SPY' or b == 'USO' or b == 'GDX' or b == 'AA' or b =='PBR' or b=='ALU' or b == 'STM' or b=='TSL' or b=='EEM' or b == 'XLF' or b=='GSK' or b=='ING' or b=='GLD' or b=='SFUN' or b=='BABA' or b=='GFI' or b=='ARMH' or b=='XX' or b=='MT' or b=='BCS' or b=='TLT' or b=='CSIQ' or b=='GSX' or b=='NUGT' or b=='WFT' or b=='SLV' or b=='UGAZ' or b=='SDRL' or b=='JNK' or b=='TBT' or b=='ASX':\n",
    "            enum_list.append(np.nan)\n",
    "            first_list.append(np.nan)\n",
    "            count += 1\n",
    "        else:\n",
    "            date_data = a\n",
    "            stock_name = b\n",
    "            new_date = a + dt.timedelta(days=30)\n",
    "            my_data = quandl.get(dataset =(\"WIKI/%s\"% stock_name), start_date=(\"%s\"% date_data), end_date=(\"%s\"% new_date))\n",
    "            total_sum = my_data.iloc[:,3].sum()\n",
    "            first_list.append(my_data.iloc[0,3]/total_sum)\n",
    "            enum_list.append((my_data.iloc[-1,3] - my_data.iloc[0,3])/my_data.iloc[0,3])\n",
    "            count += 1\n",
    "#             print(first_list)\n",
    "#         print(count)\n",
    "    #     print(enum_list)\n",
    "    first_list = list(map(float, first_list))\n",
    "    enum_list = list(map(float, enum_list))\n",
    "    final_list = [z*x for z,x in zip(first_list,enum_list)]\n",
    "    return final_list\n",
    "\n",
    "\n",
    "    \n",
    "se = pd.Series(link_to_api(8))\n",
    "candidbanter['return_one'] = se.values\n",
    "candidbanter['return_one'] = pd.to_numeric(candidbanter['return_one'], errors='coerce')"
   ]
  },
  {
   "cell_type": "code",
   "execution_count": 36,
   "metadata": {
    "collapsed": true
   },
   "outputs": [],
   "source": [
    "\n",
    "se = pd.Series(link_to_api(9))\n",
    "candidbanter2['return_one'] = se.values\n",
    "candidbanter2['return_one'] = pd.to_numeric(candidbanter2['return_one'], errors='coerce')\n",
    "\n",
    "se = pd.Series(link_to_api(10))\n",
    "candidbanter3['return_one'] = se.values\n",
    "candidbanter3['return_one'] = pd.to_numeric(candidbanter3['return_one'], errors='coerce')\n",
    "\n",
    "se = pd.Series(link_to_api(11))\n",
    "candidbanter4['return_one'] = se.values\n",
    "candidbanter4['return_one'] = pd.to_numeric(candidbanter4['return_one'], errors='coerce')\n",
    "\n",
    "se = pd.Series(link_to_api(12))\n",
    "candidbanter5['return_one'] = se.values\n",
    "candidbanter5['return_one'] = pd.to_numeric(candidbanter5['return_one'], errors='coerce')\n"
   ]
  },
  {
   "cell_type": "code",
   "execution_count": 37,
   "metadata": {},
   "outputs": [
    {
     "name": "stdout",
     "output_type": "stream",
     "text": [
      "-0.257046378977\n",
      "0.628783987627\n",
      "0.354326374678\n",
      "0.265346394321\n",
      "-0.954620853708\n"
     ]
    }
   ],
   "source": [
    "#SHARPE VALUE\n",
    "print((candidbanter['return_one'].mean())/(candidbanter['return_one'].std()) * np.sqrt(12))\n",
    "print((candidbanter2['return_one'].mean())/(candidbanter2['return_one'].std()) * np.sqrt(12))\n",
    "print((candidbanter3['return_one'].mean())/(candidbanter3['return_one'].std()) * np.sqrt(12))\n",
    "print((candidbanter4['return_one'].mean())/(candidbanter4['return_one'].std()) * np.sqrt(12))\n",
    "print((candidbanter5['return_one'].mean())/(candidbanter5['return_one'].std()) * np.sqrt(12))"
   ]
  },
  {
   "cell_type": "markdown",
   "metadata": {},
   "source": [
    "**FOURTH USER**"
   ]
  },
  {
   "cell_type": "code",
   "execution_count": 38,
   "metadata": {
    "collapsed": true
   },
   "outputs": [],
   "source": [
    "triggeroftheday = DataFrame(list(db.triggeroftheday.find({})))\n",
    "triggeroftheday['user'] = 'triggeroftheday'"
   ]
  },
  {
   "cell_type": "code",
   "execution_count": 39,
   "metadata": {
    "collapsed": true
   },
   "outputs": [],
   "source": [
    "list1 = []\n",
    "for i in range(len(triggeroftheday['text'])):\n",
    "    list1.append(triggeroftheday['text'].str.split(' http')[i][0])\n",
    "    \n",
    "se = pd.Series(list1)\n",
    "se = se.str.replace('b\"', \"b'\")\n",
    "se = se.str.replace('$', \"XX'\")\n",
    "\n",
    "list2 = []\n",
    "for i in range(len(triggeroftheday['text'])):\n",
    "    list2.append(se.str.split(\"b'\")[i][1])\n",
    "    \n",
    "    \n",
    "se2 = pd.Series(list2)\n",
    "triggeroftheday['cleanedtext'] = se2.values"
   ]
  },
  {
   "cell_type": "code",
   "execution_count": 40,
   "metadata": {
    "collapsed": true
   },
   "outputs": [],
   "source": [
    "triggeroftheday = triggeroftheday[triggeroftheday['cleanedtext'].str.contains('RT|@|closed|yesterday', case=False)==False]\n",
    "triggeroftheday = triggeroftheday[triggeroftheday['cleanedtext'].str.contains(\"XX'AAPL|XX'ABBV|XX'ABT|XX'ACN|XX'AGN|XX'AIG|XX'ALL|XX'AMGN|XX'AMZN|XX'AXP|XX'BA|XX'BAC|XX'BIIB|XX'BK|XX'BLK|XX'BMY|XX'BRK.B|XX'C|XX'CAT|XX'CELG|XX'CL|XX'CMCSA|XX'COF|XX'COP|XX'COST|XX'CSCO|XX'CVS|XX'CVX|XX'DD|XX'DHR|XX'DIS|XX'DOW|XX'DUK|XX'EMR|XX'EXC|XX'F|XX'FB|XX'FDX|XX'FOX|XX'FOXA|XX'GD|XX'GE|XX'GILD|XX'GM|XX'GOOG|XX'GOOGL|XX'GS|XX'HAL|XX'HD|XX'HON|XX'IBM|XX'INTC|XX'JNJ|XX'JPM|XX'KHC|XX'KMI|XX'KO|XX'LLY|XX'LMT|XX'LOW|XX'MA|XX'MCD|XX'MDLZ|XX'MDT|XX'MET|XX'MMM|XX'MO|XX'MON|XX'MRK|XX'MS|XX'MSFT|XX'NEE|XX'NKE|XX'ORCL|XX'OXY|XX'PCLN|XX'PEP|XX'PFE|XX'PG|XX'PM|XX'PYPL|XX'QCOM|XX'RTN|XX'SBUX|XX'SLB|XX'SO|XX'SPG|XX'T|XX'TGT|XX'TWX|XX'TXN|XX'UNH|XX'UNP|XX'UPS|XX'USB|XX'UTX|XX'V|XX'VZ|XX'WBA|XX'WFC|XX'WMT|XX'XOM\", na=False, case=True)]\n",
    "\n",
    "\n"
   ]
  },
  {
   "cell_type": "code",
   "execution_count": 41,
   "metadata": {
    "collapsed": true
   },
   "outputs": [],
   "source": [
    "triggeroftheday['date'] = triggeroftheday['created_at'].apply(lambda x: \n",
    "                                    dt.datetime.strptime(x,'%Y-%m-%d %H:%M:%S').date())"
   ]
  },
  {
   "cell_type": "code",
   "execution_count": 42,
   "metadata": {},
   "outputs": [
    {
     "name": "stderr",
     "output_type": "stream",
     "text": [
      "/Users/michaelcarrie/anaconda/lib/python3.5/site-packages/pandas/core/reshape/merge.py:551: UserWarning: merging between different levels can give an unintended result (1 levels on the left, 2 on the right)\n",
      "  warnings.warn(msg, UserWarning)\n"
     ]
    }
   ],
   "source": [
    "triggeroftheday = triggeroftheday.sort_values(by='date')\n",
    "triggerofthedayextract = triggeroftheday.cleanedtext.str.extractall(r\"\"\"(XX'[A-Z]+)\"\"\")\n",
    "triggerofthedayextract = triggerofthedayextract.unstack()\n",
    "triggeroftheday = triggeroftheday.join(triggerofthedayextract)\n",
    "triggeroftheday = triggeroftheday.reset_index()"
   ]
  },
  {
   "cell_type": "code",
   "execution_count": 43,
   "metadata": {
    "collapsed": true
   },
   "outputs": [],
   "source": [
    "for i in range(8, triggeroftheday.shape[1]):\n",
    "    triggeroftheday.iloc[:,i] = triggeroftheday.iloc[:,i].str.replace(\"XX'\", '')"
   ]
  },
  {
   "cell_type": "code",
   "execution_count": 44,
   "metadata": {
    "collapsed": true
   },
   "outputs": [],
   "source": [
    "triggeroftheday = triggeroftheday[(triggeroftheday['date']>datetime.date(2010,9,12)) & (triggeroftheday['date']<datetime.date(2017,5,1))]"
   ]
  },
  {
   "cell_type": "code",
   "execution_count": 45,
   "metadata": {
    "collapsed": true
   },
   "outputs": [],
   "source": [
    "def link_to_api(X):\n",
    "    count = 0\n",
    "    enum_list = []\n",
    "    first_list = []\n",
    "    for a, b in zip(triggeroftheday.iloc[:,7], triggeroftheday.iloc[:,X]):\n",
    "        if not b in quanstocklist:\n",
    "    #     if b == 'SPY' or b == 'USO' or b == 'GDX' or b == 'AA' or b =='PBR' or b=='ALU' or b == 'STM' or b=='TSL' or b=='EEM' or b == 'XLF' or b=='GSK' or b=='ING' or b=='GLD' or b=='SFUN' or b=='BABA' or b=='GFI' or b=='ARMH' or b=='XX' or b=='MT' or b=='BCS' or b=='TLT' or b=='CSIQ' or b=='GSX' or b=='NUGT' or b=='WFT' or b=='SLV' or b=='UGAZ' or b=='SDRL' or b=='JNK' or b=='TBT' or b=='ASX':\n",
    "            enum_list.append(np.nan)\n",
    "            first_list.append(np.nan)\n",
    "            count += 1\n",
    "        else:\n",
    "            date_data = a\n",
    "            stock_name = b\n",
    "            new_date = a + dt.timedelta(days=30)\n",
    "            my_data = quandl.get(dataset =(\"WIKI/%s\"% stock_name), start_date=(\"%s\"% date_data), end_date=(\"%s\"% new_date))\n",
    "            total_sum = my_data.iloc[:,3].sum()\n",
    "            first_list.append(my_data.iloc[0,3]/total_sum)\n",
    "            enum_list.append((my_data.iloc[-1,3] - my_data.iloc[0,3])/my_data.iloc[0,3])\n",
    "            count += 1\n",
    "#             print(first_list)\n",
    "#         print(count)\n",
    "    #     print(enum_list)\n",
    "    first_list = list(map(float, first_list))\n",
    "    enum_list = list(map(float, enum_list))\n",
    "    final_list = [z*x for z,x in zip(first_list,enum_list)]\n",
    "    return final_list\n",
    "\n",
    "\n",
    "    \n",
    "se = pd.Series(link_to_api(8))\n",
    "triggeroftheday['return_one'] = se.values\n",
    "triggeroftheday['return_one'] = pd.to_numeric(triggeroftheday['return_one'], errors='coerce')"
   ]
  },
  {
   "cell_type": "code",
   "execution_count": 46,
   "metadata": {},
   "outputs": [
    {
     "data": {
      "text/plain": [
       "0.8064324632318659"
      ]
     },
     "execution_count": 46,
     "metadata": {},
     "output_type": "execute_result"
    }
   ],
   "source": [
    "#SHARPE VALUE\n",
    "(triggeroftheday['return_one'].mean())/(triggeroftheday['return_one'].std()) * np.sqrt(12)"
   ]
  },
  {
   "cell_type": "markdown",
   "metadata": {
    "collapsed": true
   },
   "source": [
    "**ICAHN**"
   ]
  },
  {
   "cell_type": "code",
   "execution_count": 47,
   "metadata": {
    "collapsed": true
   },
   "outputs": [],
   "source": [
    "icahn = DataFrame(list(db.icahn.find({})))\n",
    "icahn['user'] = 'icahn'"
   ]
  },
  {
   "cell_type": "code",
   "execution_count": 48,
   "metadata": {
    "collapsed": true
   },
   "outputs": [],
   "source": [
    "list1 = []\n",
    "for i in range(len(icahn['text'])):\n",
    "    list1.append(icahn['text'].str.split(' http')[i][0])\n",
    "    \n",
    "se = pd.Series(list1)\n",
    "se = se.str.replace('b\"', \"b'\")\n",
    "se = se.str.replace('$', \"XX'\")\n",
    "\n",
    "list2 = []\n",
    "for i in range(len(icahn['text'])):\n",
    "    list2.append(se.str.split(\"b'\")[i][1])\n",
    "    \n",
    "    \n",
    "se2 = pd.Series(list2)\n",
    "icahn['cleanedtext'] = se2.values"
   ]
  },
  {
   "cell_type": "code",
   "execution_count": 49,
   "metadata": {
    "collapsed": true
   },
   "outputs": [],
   "source": [
    "icahn = icahn[icahn['cleanedtext'].str.contains('RT|@|closed|yesterday', case=False)==False]\n",
    "icahn = icahn[icahn['cleanedtext'].str.contains(\"XX'AAPL|XX'ABBV|XX'ABT|XX'ACN|XX'AGN|XX'AIG|XX'ALL|XX'AMGN|XX'AMZN|XX'AXP|XX'BA|XX'BAC|XX'BIIB|XX'BK|XX'BLK|XX'BMY|XX'BRK.B|XX'C|XX'CAT|XX'CELG|XX'CL|XX'CMCSA|XX'COF|XX'COP|XX'COST|XX'CSCO|XX'CVS|XX'CVX|XX'DD|XX'DHR|XX'DIS|XX'DOW|XX'DUK|XX'EMR|XX'EXC|XX'F|XX'FB|XX'FDX|XX'FOX|XX'FOXA|XX'GD|XX'GE|XX'GILD|XX'GM|XX'GOOG|XX'GOOGL|XX'GS|XX'HAL|XX'HD|XX'HON|XX'IBM|XX'INTC|XX'JNJ|XX'JPM|XX'KHC|XX'KMI|XX'KO|XX'LLY|XX'LMT|XX'LOW|XX'MA|XX'MCD|XX'MDLZ|XX'MDT|XX'MET|XX'MMM|XX'MO|XX'MON|XX'MRK|XX'MS|XX'MSFT|XX'NEE|XX'NKE|XX'ORCL|XX'OXY|XX'PCLN|XX'PEP|XX'PFE|XX'PG|XX'PM|XX'PYPL|XX'QCOM|XX'RTN|XX'SBUX|XX'SLB|XX'SO|XX'SPG|XX'T|XX'TGT|XX'TWX|XX'TXN|XX'UNH|XX'UNP|XX'UPS|XX'USB|XX'UTX|XX'V|XX'VZ|XX'WBA|XX'WFC|XX'WMT|XX'XOM\", na=False, case=True)]\n",
    "\n",
    "\n"
   ]
  },
  {
   "cell_type": "code",
   "execution_count": 50,
   "metadata": {
    "collapsed": true
   },
   "outputs": [],
   "source": [
    "icahn['date'] = icahn['created_at'].apply(lambda x: \n",
    "                                    dt.datetime.strptime(x,'%Y-%m-%d %H:%M:%S').date())"
   ]
  },
  {
   "cell_type": "code",
   "execution_count": 51,
   "metadata": {},
   "outputs": [
    {
     "name": "stderr",
     "output_type": "stream",
     "text": [
      "/Users/michaelcarrie/anaconda/lib/python3.5/site-packages/pandas/core/reshape/merge.py:551: UserWarning: merging between different levels can give an unintended result (1 levels on the left, 2 on the right)\n",
      "  warnings.warn(msg, UserWarning)\n"
     ]
    }
   ],
   "source": [
    "icahn = icahn.sort_values(by='date')\n",
    "icahnextract = icahn.cleanedtext.str.extractall(r\"\"\"(XX'[A-Z]+)\"\"\")\n",
    "icahnextract = icahnextract.unstack()\n",
    "icahn = icahn.join(icahnextract)\n",
    "icahn = icahn.reset_index()"
   ]
  },
  {
   "cell_type": "code",
   "execution_count": 52,
   "metadata": {
    "collapsed": true
   },
   "outputs": [],
   "source": [
    "for i in range(8, icahn.shape[1]):\n",
    "    icahn.iloc[:,i] = icahn.iloc[:,i].str.replace(\"XX'\", '')"
   ]
  },
  {
   "cell_type": "code",
   "execution_count": 53,
   "metadata": {
    "collapsed": true
   },
   "outputs": [],
   "source": [
    "icahn = icahn[(icahn['date']>datetime.date(2010,9,12)) & (icahn['date']<datetime.date(2017,5,1))]"
   ]
  },
  {
   "cell_type": "code",
   "execution_count": 54,
   "metadata": {
    "collapsed": true
   },
   "outputs": [],
   "source": [
    "from vaderSentiment.vaderSentiment import SentimentIntensityAnalyzer\n",
    "analyser = SentimentIntensityAnalyzer()\n",
    "\n",
    "def print_sentiment_scores(sentence):\n",
    "    snt = (analyser.polarity_scores(sentence)['compound'])\n",
    "    return snt"
   ]
  },
  {
   "cell_type": "code",
   "execution_count": 55,
   "metadata": {
    "collapsed": true
   },
   "outputs": [],
   "source": [
    "listicahn = []\n",
    "for i in icahn.cleanedtext:\n",
    "    listicahn.append(print_sentiment_scores(i))\n",
    "\n",
    "se3 = pd.Series(listicahn)\n",
    "icahn['compound'] = se3.values"
   ]
  },
  {
   "cell_type": "code",
   "execution_count": 56,
   "metadata": {
    "collapsed": true
   },
   "outputs": [],
   "source": [
    "icahn = icahn[icahn['compound'] > 0.0]\n",
    "icahn.drop(['compound'], axis=1, inplace=True)"
   ]
  },
  {
   "cell_type": "code",
   "execution_count": 57,
   "metadata": {
    "collapsed": true
   },
   "outputs": [],
   "source": [
    "def link_to_api(X):\n",
    "    count = 0\n",
    "    enum_list = []\n",
    "    first_list = []\n",
    "    for a, b in zip(icahn.iloc[:,7], icahn.iloc[:,X]):\n",
    "        if not b in quanstocklist:\n",
    "    #     if b == 'SPY' or b == 'USO' or b == 'GDX' or b == 'AA' or b =='PBR' or b=='ALU' or b == 'STM' or b=='TSL' or b=='EEM' or b == 'XLF' or b=='GSK' or b=='ING' or b=='GLD' or b=='SFUN' or b=='BABA' or b=='GFI' or b=='ARMH' or b=='XX' or b=='MT' or b=='BCS' or b=='TLT' or b=='CSIQ' or b=='GSX' or b=='NUGT' or b=='WFT' or b=='SLV' or b=='UGAZ' or b=='SDRL' or b=='JNK' or b=='TBT' or b=='ASX':\n",
    "            enum_list.append(np.nan)\n",
    "            first_list.append(np.nan)\n",
    "            count += 1\n",
    "        else:\n",
    "            date_data = a\n",
    "            stock_name = b\n",
    "            new_date = a + dt.timedelta(days=1)\n",
    "            my_data = quandl.get(dataset =(\"WIKI/%s\"% stock_name), start_date=(\"%s\"% date_data), end_date=(\"%s\"% new_date))\n",
    "            total_sum = my_data.iloc[:,3].sum()\n",
    "            first_list.append(my_data.iloc[0,3]/total_sum)\n",
    "            enum_list.append((my_data.iloc[-1,3] - my_data.iloc[0,3])/my_data.iloc[0,3])\n",
    "            count += 1\n",
    "#             print(first_list)\n",
    "#         print(count)\n",
    "    #     print(enum_list)\n",
    "    first_list = list(map(float, first_list))\n",
    "    enum_list = list(map(float, enum_list))\n",
    "    final_list = [z*x for z,x in zip(first_list,enum_list)]\n",
    "    return final_list\n",
    "\n",
    "\n",
    "    \n",
    "se = pd.Series(link_to_api(8))\n",
    "icahn['return_one'] = se.values\n",
    "icahn['return_one'] = pd.to_numeric(icahn['return_one'], errors='coerce')"
   ]
  },
  {
   "cell_type": "code",
   "execution_count": 58,
   "metadata": {},
   "outputs": [
    {
     "data": {
      "text/plain": [
       "2.0825901114473022"
      ]
     },
     "execution_count": 58,
     "metadata": {},
     "output_type": "execute_result"
    }
   ],
   "source": [
    "#SHARPE VALUE\n",
    "(icahn['return_one'].mean() - .00109)/(icahn['return_one'].std()) * np.sqrt(252)"
   ]
  },
  {
   "cell_type": "markdown",
   "metadata": {
    "collapsed": true
   },
   "source": [
    "**Peter Warren**"
   ]
  },
  {
   "cell_type": "code",
   "execution_count": 100,
   "metadata": {
    "collapsed": true
   },
   "outputs": [],
   "source": [
    "peterw = DataFrame(list(db.peterw.find({})))\n",
    "peterw['user'] = 'peterw'"
   ]
  },
  {
   "cell_type": "code",
   "execution_count": 102,
   "metadata": {
    "collapsed": true
   },
   "outputs": [],
   "source": [
    "list1 = []\n",
    "for i in range(len(peterw['text'])):\n",
    "    list1.append(peterw['text'].str.split(' http')[i][0])\n",
    "    \n",
    "se = pd.Series(list1)\n",
    "se = se.str.replace('b\"', \"b'\")\n",
    "se = se.str.replace('$', \"XX'\")\n",
    "\n",
    "list2 = []\n",
    "for i in range(len(peterw['text'])):\n",
    "    list2.append(se.str.split(\"b'\")[i][1])\n",
    "    \n",
    "    \n",
    "se2 = pd.Series(list2)\n",
    "peterw['cleanedtext'] = se2.values"
   ]
  },
  {
   "cell_type": "code",
   "execution_count": 103,
   "metadata": {},
   "outputs": [
    {
     "name": "stderr",
     "output_type": "stream",
     "text": [
      "/Users/michaelcarrie/anaconda/lib/python3.5/site-packages/pandas/core/reshape/merge.py:551: UserWarning: merging between different levels can give an unintended result (1 levels on the left, 2 on the right)\n",
      "  warnings.warn(msg, UserWarning)\n"
     ]
    }
   ],
   "source": [
    "peterw = peterw[peterw['cleanedtext'].str.contains('RT|@|closed|yesterday', case=False)==False]\n",
    "peterw = peterw[peterw['cleanedtext'].str.contains(\"XX'AAPL|XX'ABBV|XX'ABT|XX'ACN|XX'AGN|XX'AIG|XX'ALL|XX'AMGN|XX'AMZN|XX'AXP|XX'BA|XX'BAC|XX'BIIB|XX'BK|XX'BLK|XX'BMY|XX'BRK.B|XX'C|XX'CAT|XX'CELG|XX'CL|XX'CMCSA|XX'COF|XX'COP|XX'COST|XX'CSCO|XX'CVS|XX'CVX|XX'DD|XX'DHR|XX'DIS|XX'DOW|XX'DUK|XX'EMR|XX'EXC|XX'F|XX'FB|XX'FDX|XX'FOX|XX'FOXA|XX'GD|XX'GE|XX'GILD|XX'GM|XX'GOOG|XX'GOOGL|XX'GS|XX'HAL|XX'HD|XX'HON|XX'IBM|XX'INTC|XX'JNJ|XX'JPM|XX'KHC|XX'KMI|XX'KO|XX'LLY|XX'LMT|XX'LOW|XX'MA|XX'MCD|XX'MDLZ|XX'MDT|XX'MET|XX'MMM|XX'MO|XX'MON|XX'MRK|XX'MS|XX'MSFT|XX'NEE|XX'NKE|XX'ORCL|XX'OXY|XX'PCLN|XX'PEP|XX'PFE|XX'PG|XX'PM|XX'PYPL|XX'QCOM|XX'RTN|XX'SBUX|XX'SLB|XX'SO|XX'SPG|XX'T|XX'TGT|XX'TWX|XX'TXN|XX'UNH|XX'UNP|XX'UPS|XX'USB|XX'UTX|XX'V|XX'VZ|XX'WBA|XX'WFC|XX'WMT|XX'XOM\", na=False, case=True)]\n",
    "\n",
    "\n",
    "peterw['date'] = peterw['created_at'].apply(lambda x: \n",
    "                                    dt.datetime.strptime(x,'%Y-%m-%d %H:%M:%S').date())\n",
    "\n",
    "peterw = peterw.sort_values(by='date')\n",
    "peterwextract = peterw.cleanedtext.str.extractall(r\"\"\"(XX'[A-Z]+)\"\"\")\n",
    "peterwextract = peterwextract.unstack()\n",
    "peterw = peterw.join(peterwextract)\n",
    "peterw = peterw.reset_index()\n",
    "\n",
    "\n",
    "for i in range(8, peterw.shape[1]):\n",
    "    peterw.iloc[:,i] = peterw.iloc[:,i].str.replace(\"XX'\", '')"
   ]
  },
  {
   "cell_type": "code",
   "execution_count": 104,
   "metadata": {
    "collapsed": true
   },
   "outputs": [],
   "source": [
    "peterw = peterw[(peterw['date']>datetime.date(2010,9,12)) & (peterw['date']<datetime.date(2017,5,1))]"
   ]
  },
  {
   "cell_type": "code",
   "execution_count": 105,
   "metadata": {
    "collapsed": true
   },
   "outputs": [],
   "source": [
    "from vaderSentiment.vaderSentiment import SentimentIntensityAnalyzer\n",
    "analyser = SentimentIntensityAnalyzer()\n",
    "\n",
    "def print_sentiment_scores(sentence):\n",
    "    snt = (analyser.polarity_scores(sentence)['compound'])\n",
    "    return snt\n",
    "\n",
    "\n",
    "listpeterw = []\n",
    "for i in peterw.cleanedtext:\n",
    "    listpeterw.append(print_sentiment_scores(i))\n",
    "\n",
    "se3 = pd.Series(listpeterw)\n",
    "peterw['compound'] = se3.values\n",
    "\n",
    "\n",
    "peterw = peterw[peterw['compound'] > 0.1]\n",
    "peterw.drop(['compound'], axis=1, inplace=True)"
   ]
  },
  {
   "cell_type": "code",
   "execution_count": 106,
   "metadata": {
    "collapsed": true
   },
   "outputs": [],
   "source": [
    "peterw = peterw[peterw.iloc[:,8] != 'UA']"
   ]
  },
  {
   "cell_type": "code",
   "execution_count": 107,
   "metadata": {
    "collapsed": true
   },
   "outputs": [],
   "source": [
    "def link_to_api(X):\n",
    "    count = 0\n",
    "    enum_list = []\n",
    "    first_list = []\n",
    "    for a, b in zip(peterw.iloc[:,7], peterw.iloc[:,X]):\n",
    "        if not b in quanstocklist:\n",
    "    #     if b == 'SPY' or b == 'USO' or b == 'GDX' or b == 'AA' or b =='PBR' or b=='ALU' or b == 'STM' or b=='TSL' or b=='EEM' or b == 'XLF' or b=='GSK' or b=='ING' or b=='GLD' or b=='SFUN' or b=='BABA' or b=='GFI' or b=='ARMH' or b=='XX' or b=='MT' or b=='BCS' or b=='TLT' or b=='CSIQ' or b=='GSX' or b=='NUGT' or b=='WFT' or b=='SLV' or b=='UGAZ' or b=='SDRL' or b=='JNK' or b=='TBT' or b=='ASX':\n",
    "            enum_list.append(np.nan)\n",
    "            first_list.append(np.nan)\n",
    "            count += 1\n",
    "        else:\n",
    "            date_data = a\n",
    "            stock_name = b\n",
    "            new_date = a + dt.timedelta(days=1)\n",
    "            my_data = quandl.get(dataset =(\"WIKI/%s\"% stock_name), start_date=(\"%s\"% date_data), end_date=(\"%s\"% new_date))\n",
    "            total_sum = my_data.iloc[:,3].sum()\n",
    "            first_list.append(my_data.iloc[0,3]/total_sum)\n",
    "            enum_list.append((my_data.iloc[-1,3] - my_data.iloc[0,3])/my_data.iloc[0,3])\n",
    "            count += 1\n",
    "#             print(first_list)\n",
    "#         print(count)\n",
    "    #     print(enum_list)\n",
    "    first_list = list(map(float, first_list))\n",
    "    enum_list = list(map(float, enum_list))\n",
    "    final_list = [z*x for z,x in zip(first_list,enum_list)]\n",
    "    return final_list\n",
    "\n",
    "\n",
    "    \n",
    "se = pd.Series(link_to_api(8))\n",
    "peterw['return_one'] = se.values\n",
    "peterw['return_one'] = pd.to_numeric(peterw['return_one'], errors='coerce')"
   ]
  },
  {
   "cell_type": "code",
   "execution_count": 108,
   "metadata": {},
   "outputs": [
    {
     "data": {
      "text/plain": [
       "1.3961502195272659"
      ]
     },
     "execution_count": 108,
     "metadata": {},
     "output_type": "execute_result"
    }
   ],
   "source": [
    "#SHARPE VALUE\n",
    "(peterw['return_one'].mean() - .00109)/(peterw['return_one'].std()) * np.sqrt(252)"
   ]
  },
  {
   "cell_type": "markdown",
   "metadata": {},
   "source": [
    "**BERGEN CAPITAL**"
   ]
  },
  {
   "cell_type": "code",
   "execution_count": 77,
   "metadata": {
    "collapsed": true
   },
   "outputs": [],
   "source": [
    "bergencapital = DataFrame(list(db.bergencapital.find({})))\n",
    "bergencapital['user'] = 'bergencapital'"
   ]
  },
  {
   "cell_type": "code",
   "execution_count": 78,
   "metadata": {
    "collapsed": true
   },
   "outputs": [],
   "source": [
    "list1 = []\n",
    "for i in range(len(bergencapital['text'])):\n",
    "    list1.append(bergencapital['text'].str.split(' http')[i][0])\n",
    "    \n",
    "se = pd.Series(list1)\n",
    "se = se.str.replace('b\"', \"b'\")\n",
    "se = se.str.replace('$', \"XX'\")\n",
    "\n",
    "list2 = []\n",
    "for i in range(len(bergencapital['text'])):\n",
    "    list2.append(se.str.split(\"b'\")[i][1])\n",
    "    \n",
    "    \n",
    "se2 = pd.Series(list2)\n",
    "bergencapital['cleanedtext'] = se2.values"
   ]
  },
  {
   "cell_type": "code",
   "execution_count": 79,
   "metadata": {},
   "outputs": [
    {
     "name": "stderr",
     "output_type": "stream",
     "text": [
      "/Users/michaelcarrie/anaconda/lib/python3.5/site-packages/pandas/core/reshape/merge.py:551: UserWarning: merging between different levels can give an unintended result (1 levels on the left, 2 on the right)\n",
      "  warnings.warn(msg, UserWarning)\n"
     ]
    }
   ],
   "source": [
    "bergencapital = bergencapital[bergencapital['cleanedtext'].str.contains('RT|@|closed|yesterday', case=False)==False]\n",
    "bergencapital = bergencapital[bergencapital['cleanedtext'].str.contains(\"XX'AAPL|XX'ABBV|XX'ABT|XX'ACN|XX'AGN|XX'AIG|XX'ALL|XX'AMGN|XX'AMZN|XX'AXP|XX'BA|XX'BAC|XX'BIIB|XX'BK|XX'BLK|XX'BMY|XX'BRK.B|XX'C|XX'CAT|XX'CELG|XX'CL|XX'CMCSA|XX'COF|XX'COP|XX'COST|XX'CSCO|XX'CVS|XX'CVX|XX'DD|XX'DHR|XX'DIS|XX'DOW|XX'DUK|XX'EMR|XX'EXC|XX'F|XX'FB|XX'FDX|XX'FOX|XX'FOXA|XX'GD|XX'GE|XX'GILD|XX'GM|XX'GOOG|XX'GOOGL|XX'GS|XX'HAL|XX'HD|XX'HON|XX'IBM|XX'INTC|XX'JNJ|XX'JPM|XX'KHC|XX'KMI|XX'KO|XX'LLY|XX'LMT|XX'LOW|XX'MA|XX'MCD|XX'MDLZ|XX'MDT|XX'MET|XX'MMM|XX'MO|XX'MON|XX'MRK|XX'MS|XX'MSFT|XX'NEE|XX'NKE|XX'ORCL|XX'OXY|XX'PCLN|XX'PEP|XX'PFE|XX'PG|XX'PM|XX'PYPL|XX'QCOM|XX'RTN|XX'SBUX|XX'SLB|XX'SO|XX'SPG|XX'T|XX'TGT|XX'TWX|XX'TXN|XX'UNH|XX'UNP|XX'UPS|XX'USB|XX'UTX|XX'V|XX'VZ|XX'WBA|XX'WFC|XX'WMT|XX'XOM\", na=False, case=True)]\n",
    "\n",
    "\n",
    "bergencapital['date'] = bergencapital['created_at'].apply(lambda x: \n",
    "                                    dt.datetime.strptime(x,'%Y-%m-%d %H:%M:%S').date())\n",
    "\n",
    "bergencapital = bergencapital.sort_values(by='date')\n",
    "bergencapitalextract = bergencapital.cleanedtext.str.extractall(r\"\"\"(XX'[A-Z]+)\"\"\")\n",
    "bergencapitalextract = bergencapitalextract.unstack()\n",
    "bergencapital = bergencapital.join(bergencapitalextract)\n",
    "bergencapital = bergencapital.reset_index()\n",
    "\n",
    "\n",
    "for i in range(8, bergencapital.shape[1]):\n",
    "    bergencapital.iloc[:,i] = bergencapital.iloc[:,i].str.replace(\"XX'\", '')"
   ]
  },
  {
   "cell_type": "code",
   "execution_count": 80,
   "metadata": {
    "collapsed": true
   },
   "outputs": [],
   "source": [
    "bergencapital = bergencapital[(bergencapital['date']>datetime.date(2010,9,12)) & (bergencapital['date']<datetime.date(2017,5,1))]"
   ]
  },
  {
   "cell_type": "code",
   "execution_count": 81,
   "metadata": {
    "collapsed": true
   },
   "outputs": [],
   "source": [
    "from vaderSentiment.vaderSentiment import SentimentIntensityAnalyzer\n",
    "analyser = SentimentIntensityAnalyzer()\n",
    "\n",
    "def print_sentiment_scores(sentence):\n",
    "    snt = (analyser.polarity_scores(sentence)['compound'])\n",
    "    return snt\n",
    "\n",
    "\n",
    "listbergencapital = []\n",
    "for i in bergencapital.cleanedtext:\n",
    "    listbergencapital.append(print_sentiment_scores(i))\n",
    "\n",
    "se3 = pd.Series(listbergencapital)\n",
    "bergencapital['compound'] = se3.values\n",
    "\n",
    "\n",
    "bergencapital = bergencapital[bergencapital['compound'] > 0.2]\n",
    "bergencapital.drop(['compound'], axis=1, inplace=True)"
   ]
  },
  {
   "cell_type": "code",
   "execution_count": 82,
   "metadata": {
    "collapsed": true
   },
   "outputs": [],
   "source": [
    "def link_to_api(X):\n",
    "    count = 0\n",
    "    enum_list = []\n",
    "    first_list = []\n",
    "    for a, b in zip(bergencapital.iloc[:,7], bergencapital.iloc[:,X]):\n",
    "        if not b in quanstocklist:\n",
    "    #     if b == 'SPY' or b == 'USO' or b == 'GDX' or b == 'AA' or b =='PBR' or b=='ALU' or b == 'STM' or b=='TSL' or b=='EEM' or b == 'XLF' or b=='GSK' or b=='ING' or b=='GLD' or b=='SFUN' or b=='BABA' or b=='GFI' or b=='ARMH' or b=='XX' or b=='MT' or b=='BCS' or b=='TLT' or b=='CSIQ' or b=='GSX' or b=='NUGT' or b=='WFT' or b=='SLV' or b=='UGAZ' or b=='SDRL' or b=='JNK' or b=='TBT' or b=='ASX':\n",
    "            enum_list.append(np.nan)\n",
    "            first_list.append(np.nan)\n",
    "            count += 1\n",
    "        else:\n",
    "            date_data = a\n",
    "            stock_name = b\n",
    "            new_date = a + dt.timedelta(days=1)\n",
    "            my_data = quandl.get(dataset =(\"WIKI/%s\"% stock_name), start_date=(\"%s\"% date_data), end_date=(\"%s\"% new_date))\n",
    "            total_sum = my_data.iloc[:,3].sum()\n",
    "            first_list.append(my_data.iloc[0,3]/total_sum)\n",
    "            enum_list.append((my_data.iloc[-1,3] - my_data.iloc[0,3])/my_data.iloc[0,3])\n",
    "            count += 1\n",
    "#             print(first_list)\n",
    "#         print(count)\n",
    "    #     print(enum_list)\n",
    "    first_list = list(map(float, first_list))\n",
    "    enum_list = list(map(float, enum_list))\n",
    "    final_list = [z*x for z,x in zip(first_list,enum_list)]\n",
    "    return final_list\n",
    "\n",
    "\n",
    "    \n",
    "se = pd.Series(link_to_api(8))\n",
    "bergencapital['return_one'] = se.values\n",
    "bergencapital['return_one'] = pd.to_numeric(bergencapital['return_one'], errors='coerce')"
   ]
  },
  {
   "cell_type": "code",
   "execution_count": 450,
   "metadata": {},
   "outputs": [
    {
     "data": {
      "text/plain": [
       "0.9988352976772682"
      ]
     },
     "execution_count": 450,
     "metadata": {},
     "output_type": "execute_result"
    }
   ],
   "source": [
    "#SHARPE VALUE\n",
    "(bergencapital['return_one'].mean() - .00109)/(bergencapital['return_one'].std()) * np.sqrt(252)"
   ]
  },
  {
   "cell_type": "markdown",
   "metadata": {},
   "source": [
    "**MERGING**"
   ]
  },
  {
   "cell_type": "code",
   "execution_count": 352,
   "metadata": {
    "collapsed": true
   },
   "outputs": [],
   "source": [
    "finviz = pd.read_csv('finviz.csv')"
   ]
  },
  {
   "cell_type": "code",
   "execution_count": 353,
   "metadata": {
    "collapsed": true
   },
   "outputs": [],
   "source": [
    "finviz = finviz.iloc[:,[1,3,4,5]]\n",
    "df10 = df5.iloc[:,[5,8,17]]\n",
    "df62 = df6.iloc[:,[5,8,17]]\n",
    "df72 = df7.iloc[:,[5,8,17]]\n",
    "df82 = df8.iloc[:,[5,8,17]]\n",
    "df92 = df9.iloc[:,[5,8,17]]\n",
    "\n",
    "dfstockstotrade10 = dfstockstotrade.iloc[:,[5,8,21]]\n",
    "dfstockstotradept22= dfstockstotradept2.iloc[:,[5,8,21]]\n",
    "# dfstockstotradept23= dfstockstotradept3.iloc[:,[5,8,21]]\n",
    "dfstockstotradept24= dfstockstotradept4.iloc[:,[5,8,21]]\n",
    "dfstockstotradept25= dfstockstotradept5.iloc[:,[5,8,21]]\n",
    "\n",
    "\n",
    "\n",
    "candidbanter10 = candidbanter.iloc[:,[5,8,17]]\n",
    "candidbanter22 = candidbanter2.iloc[:,[5,8,17]]\n",
    "candidbanter32 = candidbanter3.iloc[:,[5,8,17]]\n",
    "candidbanter42 = candidbanter4.iloc[:,[5,8,17]]\n",
    "candidbanter52 = candidbanter5.iloc[:,[5,8,17]]\n",
    "\n",
    "peterw10 = peterw.iloc[:,[5,8,14]]\n",
    "\n",
    "bergencapital10 = bergencapital.iloc[:,[5,8,14]]\n",
    "\n",
    "icahn10 = icahn.iloc[:,[5,8,10]]\n",
    "\n",
    "\n",
    "triggeroftheday10 = triggeroftheday.iloc[:,[5,8,9]]\n"
   ]
  },
  {
   "cell_type": "code",
   "execution_count": 354,
   "metadata": {
    "collapsed": true
   },
   "outputs": [],
   "source": [
    "newdf = df10.append(dfstockstotrade10)\n",
    "newdf = newdf.append(df62)\n",
    "newdf = newdf.append(df72)\n",
    "newdf = newdf.append(df82)\n",
    "newdf = newdf.append(df92)\n",
    "newdf = newdf.append(dfstockstotradept22)\n",
    "# newdf = newdf.append(dfstockstotradept23)\n",
    "newdf = newdf.append(dfstockstotradept24)\n",
    "newdf = newdf.append(dfstockstotradept25)\n",
    "\n",
    "\n",
    "newdf = newdf.append(candidbanter10)\n",
    "newdf = newdf.append(candidbanter22)\n",
    "newdf = newdf.append(candidbanter32)\n",
    "newdf = newdf.append(candidbanter42)\n",
    "newdf = newdf.append(candidbanter52)\n",
    "\n",
    "newdf = newdf.append(triggeroftheday10)\n",
    "\n",
    "\n",
    "newdf = newdf.append(icahn10)\n",
    "\n",
    "\n",
    "newdf=newdf.append(peterw10)\n",
    "\n",
    "newdf = newdf.append(bergencapital10)\n",
    "\n",
    "\n",
    "\n",
    "column_names = ['user', 'Ticker', 'return_one']\n",
    "newdf.columns = column_names"
   ]
  },
  {
   "cell_type": "code",
   "execution_count": 355,
   "metadata": {
    "collapsed": true
   },
   "outputs": [],
   "source": [
    "newdf = newdf.merge(finviz, on='Ticker', how='left')"
   ]
  },
  {
   "cell_type": "code",
   "execution_count": 356,
   "metadata": {
    "collapsed": true
   },
   "outputs": [],
   "source": [
    "# newdf.drop(['Ticker'], axis=1, inplace=True)"
   ]
  },
  {
   "cell_type": "markdown",
   "metadata": {},
   "source": [
    "**Manipulate for ML**"
   ]
  },
  {
   "cell_type": "code",
   "execution_count": 357,
   "metadata": {
    "collapsed": true
   },
   "outputs": [],
   "source": [
    "import patsy\n",
    "from sklearn.preprocessing import LabelEncoder\n",
    "encoder = LabelEncoder()"
   ]
  },
  {
   "cell_type": "code",
   "execution_count": 358,
   "metadata": {
    "collapsed": true
   },
   "outputs": [],
   "source": [
    "def onehotencode(column_name):\n",
    "    global newdf\n",
    "    st = patsy.dmatrix(column_name,\n",
    "                     data=newdf,\n",
    "                     return_type='dataframe')\n",
    "    newdf.drop([column_name], axis=1, inplace=True)\n",
    "    newdf = newdf.join(st)\n",
    "    newdf.drop(['Intercept'], axis=1, inplace=True)\n",
    "    return newdf\n",
    "\n",
    "newdf = onehotencode('Sector')\n",
    "newdf = onehotencode('Industry')\n",
    "newdf = onehotencode('Country')\n",
    "newdf = onehotencode('Ticker')\n",
    "newdf = onehotencode('user')"
   ]
  },
  {
   "cell_type": "code",
   "execution_count": 359,
   "metadata": {
    "collapsed": true
   },
   "outputs": [],
   "source": [
    "newdf = newdf.dropna()"
   ]
  },
  {
   "cell_type": "code",
   "execution_count": 360,
   "metadata": {
    "collapsed": true
   },
   "outputs": [],
   "source": [
    "newdf.columns = newdf.columns.map(lambda x: x.replace('[', '_'))\n",
    "newdf.columns = newdf.columns.map(lambda x: x.replace(']', ''))\n",
    "newdf.columns = newdf.columns.map(lambda x: x.replace('.', ''))"
   ]
  },
  {
   "cell_type": "markdown",
   "metadata": {},
   "source": [
    "**Train/Test/Split**"
   ]
  },
  {
   "cell_type": "code",
   "execution_count": 361,
   "metadata": {
    "collapsed": true
   },
   "outputs": [],
   "source": [
    "Y_target= newdf.iloc[:,0]\n",
    "newdf.drop(['return_one'], axis=1, inplace=True)\n",
    "X_data = newdf"
   ]
  },
  {
   "cell_type": "code",
   "execution_count": 362,
   "metadata": {
    "collapsed": true
   },
   "outputs": [],
   "source": [
    "from sklearn.model_selection import train_test_split\n",
    "from sklearn.metrics import accuracy_score\n",
    "\n",
    "\n",
    "# The train-test split\n",
    "X_train, X_test, y_train, y_test = train_test_split(X_data, Y_target, \n",
    "                                                    test_size=.4, random_state=42)"
   ]
  },
  {
   "cell_type": "markdown",
   "metadata": {},
   "source": [
    "**KMeans**"
   ]
  },
  {
   "cell_type": "code",
   "execution_count": 447,
   "metadata": {},
   "outputs": [
    {
     "data": {
      "text/plain": [
       "-872.52238266996142"
      ]
     },
     "execution_count": 447,
     "metadata": {},
     "output_type": "execute_result"
    }
   ],
   "source": [
    "km = KMeans(n_clusters=10)\n",
    "km.fit(X_train)\n",
    "y_pred = km.predict(X_test)\n",
    "km.score(X_test)"
   ]
  },
  {
   "cell_type": "markdown",
   "metadata": {},
   "source": [
    "**XGBoost Regressor**"
   ]
  },
  {
   "cell_type": "code",
   "execution_count": 431,
   "metadata": {
    "collapsed": true
   },
   "outputs": [],
   "source": [
    "import xgboost\n",
    "from xgboost import XGBRegressor\n",
    "from xgboost import plot_tree"
   ]
  },
  {
   "cell_type": "code",
   "execution_count": 377,
   "metadata": {
    "collapsed": true
   },
   "outputs": [],
   "source": [
    "model = xgboost.XGBRegressor(objective = \"reg:linear\")\n",
    "model.fit(X_train, y_train)\n",
    "y_pred = model.predict(X_data)"
   ]
  },
  {
   "cell_type": "code",
   "execution_count": 378,
   "metadata": {
    "collapsed": true
   },
   "outputs": [],
   "source": [
    "ypred2 = model.predict(X_test)\n"
   ]
  },
  {
   "cell_type": "code",
   "execution_count": 379,
   "metadata": {},
   "outputs": [
    {
     "data": {
      "text/plain": [
       "<matplotlib.axes._subplots.AxesSubplot at 0x115766b38>"
      ]
     },
     "execution_count": 379,
     "metadata": {},
     "output_type": "execute_result"
    },
    {
     "data": {
      "image/png": "[encoded data removed]",
      "text/plain": [
       "<matplotlib.figure.Figure at 0x115766ef0>"
      ]
     },
     "metadata": {},
     "output_type": "display_data"
    }
   ],
   "source": [
    "plt.style.use('fivethirtyeight')\n",
    "xgboost.plot_importance(model, height = 0.4)"
   ]
  },
  {
   "cell_type": "code",
   "execution_count": 395,
   "metadata": {},
   "outputs": [
    {
     "name": "stdout",
     "output_type": "stream",
     "text": [
      "MSE 0.00819168156614\n",
      "Test: 0.0622825375415\n"
     ]
    }
   ],
   "source": [
    "from sklearn import linear_model, datasets, metrics\n",
    "print ('MSE', np.sqrt(metrics.mean_squared_error(y_test, ypred2)))\n",
    "print('Test:', model.score(X_test, y_test))\n"
   ]
  },
  {
   "cell_type": "code",
   "execution_count": 384,
   "metadata": {
    "collapsed": true
   },
   "outputs": [],
   "source": [
    "newdff = pd.DataFrame()"
   ]
  },
  {
   "cell_type": "code",
   "execution_count": 385,
   "metadata": {
    "collapsed": true
   },
   "outputs": [],
   "source": [
    "newdff['score'] = y_pred"
   ]
  },
  {
   "cell_type": "code",
   "execution_count": 386,
   "metadata": {
    "collapsed": true
   },
   "outputs": [],
   "source": [
    "newdff['og'] = Y_target"
   ]
  },
  {
   "cell_type": "markdown",
   "metadata": {},
   "source": [
    "**Linear Regression**"
   ]
  },
  {
   "cell_type": "code",
   "execution_count": 373,
   "metadata": {},
   "outputs": [
    {
     "name": "stdout",
     "output_type": "stream",
     "text": [
      "Test: -8.7427468674e+24\n",
      "MSE: 25012725212.1\n"
     ]
    }
   ],
   "source": [
    "from sklearn.linear_model import LinearRegression\n",
    "\n",
    "reg = LinearRegression()\n",
    "\n",
    "X_train, X_test, y_train, y_test = train_test_split(X_data, Y_target, test_size=0.3)\n",
    "reg.fit(X_train, y_train)\n",
    "print('Test:', reg.score(X_test, y_test))\n",
    "y_pred = reg.predict(X_test)\n",
    "print ('MSE:', np.sqrt(metrics.mean_squared_error(y_test, y_pred)))"
   ]
  },
  {
   "cell_type": "markdown",
   "metadata": {},
   "source": [
    "**Polynomial Linear Regression**"
   ]
  },
  {
   "cell_type": "code",
   "execution_count": 401,
   "metadata": {},
   "outputs": [
    {
     "name": "stdout",
     "output_type": "stream",
     "text": [
      "MSE: 30431547748.9\n",
      "-1.2941182522e+25\n"
     ]
    }
   ],
   "source": [
    "from sklearn.preprocessing import PolynomialFeatures\n",
    "\n",
    "degree = 1\n",
    "pf = PolynomialFeatures(degree=degree)\n",
    "X_train_pf = pf.fit_transform(X_train)\n",
    "X_test_pf = pf.transform(X_test)\n",
    "\n",
    "lr = LinearRegression()\n",
    "lr = lr.fit(X_train_pf, y_train)\n",
    "\n",
    "y_pred = lr.predict(X_test_pf)\n",
    "print('MSE:', np.sqrt(metrics.mean_squared_error(y_test, y_pred)))\n",
    "print('Score', lr.score(X_test_pf, y_test))\n"
   ]
  },
  {
   "cell_type": "markdown",
   "metadata": {},
   "source": [
    "**Ridge Regression**"
   ]
  },
  {
   "cell_type": "code",
   "execution_count": 428,
   "metadata": {},
   "outputs": [
    {
     "name": "stdout",
     "output_type": "stream",
     "text": [
      "0.0603147549969\n",
      "MSE: 0.00820027210696\n"
     ]
    }
   ],
   "source": [
    "from sklearn.linear_model import RidgeCV\n",
    "rcv = RidgeCV(cv=5)\n",
    "rcv.fit(X_train, y_train)\n",
    "print(rcv.score(X_test, y_test))\n",
    "y_pred = rcv.predict(X_test)\n",
    "print('MSE:', np.sqrt(metrics.mean_squared_error(y_test, y_pred)))"
   ]
  },
  {
   "cell_type": "markdown",
   "metadata": {},
   "source": [
    "**RANDOM FOREST REGRESSOR**"
   ]
  },
  {
   "cell_type": "code",
   "execution_count": 412,
   "metadata": {
    "collapsed": true
   },
   "outputs": [],
   "source": [
    "from sklearn.ensemble import RandomForestRegressor"
   ]
  },
  {
   "cell_type": "code",
   "execution_count": 429,
   "metadata": {},
   "outputs": [
    {
     "name": "stdout",
     "output_type": "stream",
     "text": [
      "0.00450204661356\n",
      "MSE: 0.00844028760618\n"
     ]
    }
   ],
   "source": [
    "rfr = RandomForestRegressor(max_depth=100)\n",
    "rfr.fit(X_train, y_train)\n",
    "print(rfr.score(X_test, y_test))\n",
    "y_pred = rfr.predict(X_test)\n",
    "print('MSE:', np.sqrt(metrics.mean_squared_error(y_test, y_pred)))\n"
   ]
  },
  {
   "cell_type": "markdown",
   "metadata": {},
   "source": [
    "**SVC**"
   ]
  },
  {
   "cell_type": "code",
   "execution_count": 452,
   "metadata": {
    "collapsed": true
   },
   "outputs": [],
   "source": [
    "from sklearn.svm import LinearSVC"
   ]
  },
  {
   "cell_type": "code",
   "execution_count": 3,
   "metadata": {},
   "outputs": [],
   "source": [
    "svc = LinearSVC()\n",
    "svc.fit(X_train, y_train)\n",
    "print(svc.score(X_test, y_test))\n",
    "y_pred = svc.predict(X_test)\n",
    "print('MSE:', np.sqrt(metrics.mean_squared_error(y_test, y_pred)))"
   ]
  },
  {
   "cell_type": "code",
   "execution_count": null,
   "metadata": {
    "collapsed": true
   },
   "outputs": [],
   "source": []
  }
 ],
 "metadata": {
  "anaconda-cloud": {},
  "kernelspec": {
   "display_name": "Python [default]",
   "language": "python",
   "name": "python3"
  },
  "language_info": {
   "codemirror_mode": {
    "name": "ipython",
    "version": 3
   },
   "file_extension": ".py",
   "mimetype": "text/x-python",
   "name": "python",
   "nbconvert_exporter": "python",
   "pygments_lexer": "ipython3",
   "version": "3.5.3"
  }
 },
 "nbformat": 4,
 "nbformat_minor": 2
}
