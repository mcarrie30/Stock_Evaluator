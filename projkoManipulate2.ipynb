{
 "cells": [
  {
   "cell_type": "code",
   "execution_count": 4,
   "metadata": {
    "collapsed": true
   },
   "outputs": [],
   "source": [
    "import pandas as pd\n",
    "import numpy as np\n",
    "import json\n",
    "from sklearn.pipeline import Pipeline\n",
    "from sklearn.feature_extraction.text import TfidfVectorizer\n",
    "from sklearn.feature_extraction.text import TfidfTransformer\n",
    "from sklearn.naive_bayes import MultinomialNB\n",
    "from nltk.corpus import stopwords\n",
    "from sklearn.cluster import KMeans, MiniBatchKMeans\n",
    "from collections import defaultdict\n",
    "from sklearn.cluster import KMeans\n",
    "from sklearn import metrics\n",
    "import nltk\n",
    "import gensim\n",
    "import os\n",
    "import string\n",
    "import re\n",
    "import os\n",
    "from nltk.corpus import stopwords, wordnet\n",
    "from nltk.tokenize import word_tokenize\n",
    "from nltk.stem.wordnet import WordNetLemmatizer\n",
    "from sklearn.cluster import DBSCAN\n",
    "from sklearn.externals import joblib\n",
    "import csv\n",
    "import tweepy\n",
    "import cnfg\n",
    "import datetime\n",
    "import quandl\n",
    "quandl.ApiConfig.api_key = '*********' \n",
    "\n",
    "\n",
    "pd.set_option('display.max_colwidth', -1)\n",
    "# pd.set_option('display.max_colwidth', 50)\n",
    "pd.set_option('display.max_columns', None)"
   ]
  },
  {
   "cell_type": "code",
   "execution_count": 5,
   "metadata": {
    "collapsed": true
   },
   "outputs": [],
   "source": [
    "from pandas import DataFrame\n",
    "import json\n",
    "from pymongo import MongoClient\n",
    "\n",
    "\n",
    "client = MongoClient(port=12345)\n",
    "db = client.stocks\n",
    "\n",
    "\n",
    "df = DataFrame(list(db.stocks.find({})))"
   ]
  },
  {
   "cell_type": "code",
   "execution_count": 6,
   "metadata": {
    "collapsed": true
   },
   "outputs": [],
   "source": [
    "df['user'] = 'stock_whisperer'"
   ]
  },
  {
   "cell_type": "code",
   "execution_count": 7,
   "metadata": {
    "collapsed": true
   },
   "outputs": [],
   "source": [
    "list1 = []\n",
    "for i in range(len(df['text'])):\n",
    "    list1.append(df['text'].str.split(' http')[i][0])\n",
    "    \n",
    "se = pd.Series(list1)\n",
    "se = se.str.replace('b\"', \"b'\")\n",
    "se = se.str.replace('$', \"XX'\")"
   ]
  },
  {
   "cell_type": "code",
   "execution_count": 8,
   "metadata": {
    "collapsed": true
   },
   "outputs": [],
   "source": [
    "list2 = []\n",
    "for i in range(len(df['text'])):\n",
    "    list2.append(se.str.split(\"b'\")[i][1])"
   ]
  },
  {
   "cell_type": "code",
   "execution_count": 9,
   "metadata": {
    "collapsed": true
   },
   "outputs": [],
   "source": [
    "se2 = pd.Series(list2)\n",
    "df['cleanedtext'] = se2.values"
   ]
  },
  {
   "cell_type": "code",
   "execution_count": 10,
   "metadata": {
    "collapsed": true
   },
   "outputs": [],
   "source": [
    "sandp100 = ['AAPL','ABBV','ABT','ACN','AGN','AIG','ALL','AMGN','AMZN','AXP','BA','BAC',\n",
    "            'BIIB','BK','BLK','BMY','BRK.B','C','CAT','CELG','CL','CMCSA','COF','COP',\n",
    "            'COST','CSCO','CVS','CVX','DD','DHR','DIS','DOW','DUK','EMR','EXC','F','FB',\n",
    "            'FDX','FOX','FOXA','GD','GE','GILD','GM','GOOG','GOOGL','GS','HAL','HD','HON',\n",
    "            'IBM','INTC','JNJ','JPM','KHC','KMI','KO','LLY','LMT','LOW','MA','MCD','MDLZ',\n",
    "            'MDT','MET','MMM','MO','MON','MRK','MS','MSFT','NEE','NKE','ORCL','OXY','PCLN',\n",
    "            'PEP','PFE','PG','PM','PYPL','QCOM','RTN','SBUX','SLB','SO','SPG','T','TGT',\n",
    "            'TWX','TXN','UNH','UNP','UPS','USB','UTX','V','VZ','WBA','WFC','WMT','XOM']\n",
    "\n",
    "sandp100find = [\"XX'AAPL\",\"XX'ABBV\",\"XX'ABT\",\"XX'ACN\",\"XX'AGN\",\"XX'AIG\",\"XX'ALL\",\"XX'AMGN\",\n",
    "                \"XX'AMZN\",\"XX'AXP\",\"XX'BA\",\"XX'BAC\",\"XX'BIIB\",\"XX'BK\",\"XX'BLK\",\"XX'BMY\",\n",
    "                \"XX'BRK.B\",\"XX'C\",\"XX'CAT\",\"XX'CELG\",\"XX'CL\",\"XX'CMCSA\",\"XX'COF\",\"XX'COP\",\n",
    "                \"XX'COST\",\"XX'CSCO\",\"XX'CVS\",\"XX'CVX\",\"XX'DD\",\"XX'DHR\",\"XX'DIS\",\"XX'DOW\",\n",
    "                \"XX'DUK\",\"XX'EMR\",\"XX'EXC\",\"XX'F\",\"XX'FB\",\"XX'FDX\",\"XX'FOX\",\"XX'FOXA\",\"XX'GD\",\n",
    "                \"XX'GE\",\"XX'GILD\",\"XX'GM\",\"XX'GOOG\",\"XX'GOOGL\",\"XX'GS\",\"XX'HAL\",\"XX'HD\",\"XX'HON\",\n",
    "                \"XX'IBM\",\"XX'INTC\",\"XX'JNJ\",\"XX'JPM\",\"XX'KHC\",\"XX'KMI\",\"XX'KO\",\"XX'LLY\",\"XX'LMT\",\n",
    "                \"XX'LOW\",\"XX'MA\",\"XX'MCD\",\"XX'MDLZ\",\"XX'MDT\",\"XX'MET\",\"XX'MMM\",\"XX'MO\",\"XX'MON\",\n",
    "                \"XX'MRK\",\"XX'MS\",\"XX'MSFT\",\"XX'NEE\",\"XX'NKE\",\"XX'ORCL\",\"XX'OXY\",\"XX'PCLN\",\"XX'PEP\",\n",
    "                \"XX'PFE\",\"XX'PG\",\"XX'PM\",\"XX'PYPL\",\"XX'QCOM\",\"XX'RTN\",\"XX'SBUX\",\"XX'SLB\",\"XX'SO\",\n",
    "                \"XX'SPG\",\"XX'T\",\"XX'TGT\",\"XX'TWX\",\"XX'TXN\",\"XX'UNH\",\"XX'UNP\",\"XX'UPS\",\"XX'USB\",\n",
    "                \"XX'UTX\",\"XX'V\",\"XX'VZ\",\"XX'WBA\",\"XX'WFC\",\"XX'WMT\",\"XX'XOM\"]\n",
    "\n",
    "sandp100lower = [element.lower() for element in sandp100]"
   ]
  },
  {
   "cell_type": "code",
   "execution_count": 11,
   "metadata": {
    "collapsed": true
   },
   "outputs": [],
   "source": [
    "df22 = df[df['cleanedtext'].str.contains(\"Whisper\",na=False, case=False)]\n",
    "df22 = df22[df22['cleanedtext'].str.contains('yester|from|Wisconsin|email|rocking', case=False)==False]\n",
    "# df22 = df22[df22['cleanedtext'].str.contains('SPY|USO|GDX', case=True)==False]\n",
    "df22 = df22[df22['cleanedtext'].str.contains(\"XX'AAPL|XX'ABBV|XX'ABT|XX'ACN|XX'AGN|XX'AIG|XX'ALL|XX'AMGN|XX'AMZN|XX'AXP|XX'BA|XX'BAC|XX'BIIB|XX'BK|XX'BLK|XX'BMY|XX'BRK.B|XX'C|XX'CAT|XX'CELG|XX'CL|XX'CMCSA|XX'COF|XX'COP|XX'COST|XX'CSCO|XX'CVS|XX'CVX|XX'DD|XX'DHR|XX'DIS|XX'DOW|XX'DUK|XX'EMR|XX'EXC|XX'F|XX'FB|XX'FDX|XX'FOX|XX'FOXA|XX'GD|XX'GE|XX'GILD|XX'GM|XX'GOOG|XX'GOOGL|XX'GS|XX'HAL|XX'HD|XX'HON|XX'IBM|XX'INTC|XX'JNJ|XX'JPM|XX'KHC|XX'KMI|XX'KO|XX'LLY|XX'LMT|XX'LOW|XX'MA|XX'MCD|XX'MDLZ|XX'MDT|XX'MET|XX'MMM|XX'MO|XX'MON|XX'MRK|XX'MS|XX'MSFT|XX'NEE|XX'NKE|XX'ORCL|XX'OXY|XX'PCLN|XX'PEP|XX'PFE|XX'PG|XX'PM|XX'PYPL|XX'QCOM|XX'RTN|XX'SBUX|XX'SLB|XX'SO|XX'SPG|XX'T|XX'TGT|XX'TWX|XX'TXN|XX'UNH|XX'UNP|XX'UPS|XX'USB|XX'UTX|XX'V|XX'VZ|XX'WBA|XX'WFC|XX'WMT|XX'XOM\", na=False, case=True)]\n"
   ]
  },
  {
   "cell_type": "code",
   "execution_count": 12,
   "metadata": {
    "collapsed": true
   },
   "outputs": [],
   "source": [
    "import datetime as dt\n",
    "df22['date'] = df22['created_at'].apply(lambda x: \n",
    "                                    dt.datetime.strptime(x,'%Y-%m-%d %H:%M:%S').date())"
   ]
  },
  {
   "cell_type": "code",
   "execution_count": 13,
   "metadata": {},
   "outputs": [
    {
     "name": "stderr",
     "output_type": "stream",
     "text": [
      "/Users/michaelcarrie/anaconda/lib/python3.5/site-packages/pandas/core/reshape/merge.py:551: UserWarning: merging between different levels can give an unintended result (1 levels on the left, 2 on the right)\n",
      "  warnings.warn(msg, UserWarning)\n"
     ]
    }
   ],
   "source": [
    "df22 = df22.sort_values(by='date')\n",
    "df23 = df22.cleanedtext.str.extractall(r\"\"\"(XX'[A-Z]+)\"\"\")\n",
    "df23 = df23.unstack()\n",
    "df24 = df22.join(df23)\n",
    "df25 = df24.reset_index()"
   ]
  },
  {
   "cell_type": "code",
   "execution_count": 14,
   "metadata": {
    "collapsed": true
   },
   "outputs": [],
   "source": [
    "for i in range(8, df25.shape[1]):\n",
    "    df25.iloc[:,i] = df25.iloc[:,i].str.replace(\"XX'\", '')"
   ]
  },
  {
   "cell_type": "code",
   "execution_count": 15,
   "metadata": {
    "collapsed": true
   },
   "outputs": [],
   "source": [
    "stock_quan = pd.read_csv('WIKI_PRICES_1ef64a24111c5bc7e6a0a66f6e37080e.csv')\n",
    "quanstocklist = list(stock_quan.ticker.unique())\n",
    "quanstocklist.remove('AA')\n",
    "quanstocklist.remove('ANF')\n",
    "quanstocklist.remove('AMD')\n",
    "quanstocklist.remove('FOSL')\n",
    "quanstocklist.remove('TASR')"
   ]
  },
  {
   "cell_type": "code",
   "execution_count": 16,
   "metadata": {},
   "outputs": [
    {
     "data": {
      "text/html": [
       "<div>\n",
       "<style>\n",
       "    .dataframe thead tr:only-child th {\n",
       "        text-align: right;\n",
       "    }\n",
       "\n",
       "    .dataframe thead th {\n",
       "        text-align: left;\n",
       "    }\n",
       "\n",
       "    .dataframe tbody tr th {\n",
       "        vertical-align: top;\n",
       "    }\n",
       "</style>\n",
       "<table border=\"1\" class=\"dataframe\">\n",
       "  <thead>\n",
       "    <tr style=\"text-align: right;\">\n",
       "      <th></th>\n",
       "      <th>index</th>\n",
       "      <th>_id</th>\n",
       "      <th>created_at</th>\n",
       "      <th>id</th>\n",
       "      <th>text</th>\n",
       "      <th>user</th>\n",
       "      <th>cleanedtext</th>\n",
       "      <th>date</th>\n",
       "      <th>(0, 0)</th>\n",
       "      <th>(0, 1)</th>\n",
       "      <th>(0, 2)</th>\n",
       "      <th>(0, 3)</th>\n",
       "      <th>(0, 4)</th>\n",
       "      <th>(0, 5)</th>\n",
       "      <th>(0, 6)</th>\n",
       "      <th>(0, 7)</th>\n",
       "      <th>(0, 8)</th>\n",
       "    </tr>\n",
       "  </thead>\n",
       "  <tbody>\n",
       "    <tr>\n",
       "      <th>0</th>\n",
       "      <td>1153</td>\n",
       "      <td>5936b6abea2a7c07db003003</td>\n",
       "      <td>2015-03-26 14:06:56</td>\n",
       "      <td>581094988748070912</td>\n",
       "      <td>b'The #Stock Whisper Of The Day: SPY, USO, GDX $SPY $USO $GDX  http://t.co/Rk5IMPsksH'</td>\n",
       "      <td>stock_whisperer</td>\n",
       "      <td>The #Stock Whisper Of The Day: SPY, USO, GDX XX'SPY XX'USO XX'GDX</td>\n",
       "      <td>2015-03-26</td>\n",
       "      <td>SPY</td>\n",
       "      <td>USO</td>\n",
       "      <td>GDX</td>\n",
       "      <td>None</td>\n",
       "      <td>None</td>\n",
       "      <td>None</td>\n",
       "      <td>None</td>\n",
       "      <td>None</td>\n",
       "      <td>None</td>\n",
       "    </tr>\n",
       "  </tbody>\n",
       "</table>\n",
       "</div>"
      ],
      "text/plain": [
       "   index                       _id           created_at                  id  \\\n",
       "0  1153   5936b6abea2a7c07db003003  2015-03-26 14:06:56  581094988748070912   \n",
       "\n",
       "                                                                                     text  \\\n",
       "0  b'The #Stock Whisper Of The Day: SPY, USO, GDX $SPY $USO $GDX  http://t.co/Rk5IMPsksH'   \n",
       "\n",
       "              user  \\\n",
       "0  stock_whisperer   \n",
       "\n",
       "                                                          cleanedtext  \\\n",
       "0  The #Stock Whisper Of The Day: SPY, USO, GDX XX'SPY XX'USO XX'GDX    \n",
       "\n",
       "         date (0, 0) (0, 1) (0, 2) (0, 3) (0, 4) (0, 5) (0, 6) (0, 7) (0, 8)  \n",
       "0  2015-03-26  SPY    USO    GDX    None   None   None   None   None   None   "
      ]
     },
     "execution_count": 16,
     "metadata": {},
     "output_type": "execute_result"
    }
   ],
   "source": [
    "df25.head(1)"
   ]
  },
  {
   "cell_type": "code",
   "execution_count": 17,
   "metadata": {
    "collapsed": true
   },
   "outputs": [],
   "source": [
    "# import feather"
   ]
  },
  {
   "cell_type": "code",
   "execution_count": 18,
   "metadata": {
    "collapsed": true
   },
   "outputs": [],
   "source": [
    "# dfnewww = df25.iloc[:,[2,5,8]]"
   ]
  },
  {
   "cell_type": "code",
   "execution_count": 19,
   "metadata": {
    "collapsed": true
   },
   "outputs": [],
   "source": [
    "# path = 'my_stocks.feather'\n",
    "# feather.write_dataframe(dfnewww, path)"
   ]
  },
  {
   "cell_type": "code",
   "execution_count": null,
   "metadata": {
    "collapsed": true
   },
   "outputs": [],
   "source": []
  },
  {
   "cell_type": "code",
   "execution_count": null,
   "metadata": {
    "collapsed": true
   },
   "outputs": [],
   "source": []
  },
  {
   "cell_type": "code",
   "execution_count": 83,
   "metadata": {
    "collapsed": true
   },
   "outputs": [],
   "source": [
    "def link_to_api(X):\n",
    "    count = 0\n",
    "    enum_list = []\n",
    "    first_list = []\n",
    "    for a, b in zip(df25.iloc[:,7], df25.iloc[:,X]):\n",
    "        if not b in quanstocklist:\n",
    "    #     if b == 'SPY' or b == 'USO' or b == 'GDX' or b == 'AA' or b =='PBR' or b=='ALU' or b == 'STM' or b=='TSL' or b=='EEM' or b == 'XLF' or b=='GSK' or b=='ING' or b=='GLD' or b=='SFUN' or b=='BABA' or b=='GFI' or b=='ARMH' or b=='XX' or b=='MT' or b=='BCS' or b=='TLT' or b=='CSIQ' or b=='GSX' or b=='NUGT' or b=='WFT' or b=='SLV' or b=='UGAZ' or b=='SDRL' or b=='JNK' or b=='TBT' or b=='ASX':\n",
    "            enum_list.append(np.nan)\n",
    "            first_list.append(np.nan)\n",
    "            count += 1\n",
    "        else:\n",
    "            date_data = a\n",
    "            stock_name = b\n",
    "            new_date = a + dt.timedelta(days=30)\n",
    "            my_data = quandl.get(dataset =(\"WIKI/%s\"% stock_name), start_date=(\"%s\"% date_data), end_date=(\"%s\"% new_date))\n",
    "            total_sum = my_data.iloc[:,3].sum()\n",
    "            first_list.append(my_data.iloc[0,3]/total_sum)\n",
    "            enum_list.append((my_data.iloc[-1,3] - my_data.iloc[0,3])/my_data.iloc[0,3])\n",
    "            count += 1\n",
    "#             print(first_list)\n",
    "    #     print(count)\n",
    "    #     print(enum_list)\n",
    "    first_list = list(map(float, first_list))\n",
    "    enum_list = list(map(float, enum_list))\n",
    "    final_list = [z*x for z,x in zip(first_list,enum_list)]\n",
    "    return final_list\n",
    "\n",
    "\n",
    "    \n",
    "se = pd.Series(link_to_api(8))\n",
    "df25['perc_one'] = se.values"
   ]
  },
  {
   "cell_type": "code",
   "execution_count": 73,
   "metadata": {},
   "outputs": [
    {
     "data": {
      "text/plain": [
       "0.10335288522833626"
      ]
     },
     "execution_count": 73,
     "metadata": {},
     "output_type": "execute_result"
    }
   ],
   "source": [
    "df25.perc_one.mean()"
   ]
  },
  {
   "cell_type": "code",
   "execution_count": 48,
   "metadata": {
    "collapsed": true,
    "scrolled": true
   },
   "outputs": [],
   "source": [
    "# def link_to_api(X):\n",
    "#     count = 0\n",
    "#     enum_list = []\n",
    "#     for a, b in zip(df25.iloc[:,7], df25.iloc[:,X]):\n",
    "#         if not b in quanstocklist:\n",
    "#     #     if b == 'SPY' or b == 'USO' or b == 'GDX' or b == 'AA' or b =='PBR' or b=='ALU' or b == 'STM' or b=='TSL' or b=='EEM' or b == 'XLF' or b=='GSK' or b=='ING' or b=='GLD' or b=='SFUN' or b=='BABA' or b=='GFI' or b=='ARMH' or b=='XX' or b=='MT' or b=='BCS' or b=='TLT' or b=='CSIQ' or b=='GSX' or b=='NUGT' or b=='WFT' or b=='SLV' or b=='UGAZ' or b=='SDRL' or b=='JNK' or b=='TBT' or b=='ASX':\n",
    "#             enum_list.append('BLANK')\n",
    "#             count += 1\n",
    "#         else:\n",
    "#             date_data = a\n",
    "#             stock_name = b\n",
    "#             new_date = a + dt.timedelta(days=30)\n",
    "#             my_data = quandl.get(dataset =(\"WIKI/%s\"% stock_name), start_date=(\"%s\"% date_data), end_date=(\"%s\"% new_date))\n",
    "#             enum_list.append((my_data.iloc[-1,3] - my_data.iloc[0,3])/my_data.iloc[0,3] * 100)\n",
    "#             count += 1\n",
    "#     #     print(count)\n",
    "#     #     print(enum_list)\n",
    "#     return enum_list\n",
    "\n",
    "\n",
    "    \n",
    "# se = pd.Series(link_to_api(8))\n",
    "# df25['perc_one'] = se.values"
   ]
  },
  {
   "cell_type": "code",
   "execution_count": 95,
   "metadata": {
    "collapsed": true
   },
   "outputs": [],
   "source": [
    "se2 = pd.Series(link_to_api(9))\n",
    "df25['perc_two'] = se2.values"
   ]
  },
  {
   "cell_type": "code",
   "execution_count": 15,
   "metadata": {
    "collapsed": true
   },
   "outputs": [],
   "source": [
    "se3 = pd.Series(link_to_api(10))\n",
    "df25['perc_three'] = se3.values"
   ]
  },
  {
   "cell_type": "code",
   "execution_count": 16,
   "metadata": {
    "collapsed": true
   },
   "outputs": [],
   "source": [
    "# se4 = pd.Series(link_to_api(11))\n",
    "# df25['perc_four'] = se4.values"
   ]
  },
  {
   "cell_type": "code",
   "execution_count": 17,
   "metadata": {
    "collapsed": true
   },
   "outputs": [],
   "source": [
    "# se5 = pd.Series(link_to_api(12))\n",
    "# df25['perc_five'] = se5.values"
   ]
  },
  {
   "cell_type": "code",
   "execution_count": 18,
   "metadata": {
    "collapsed": true
   },
   "outputs": [],
   "source": [
    "# se6 = pd.Series(link_to_api(13))\n",
    "# df25['perc_six'] = se6.values"
   ]
  },
  {
   "cell_type": "code",
   "execution_count": 19,
   "metadata": {
    "collapsed": true
   },
   "outputs": [],
   "source": [
    "# se7 = pd.Series(link_to_api(14))\n",
    "# df25['perc_seven'] = se7.values"
   ]
  },
  {
   "cell_type": "code",
   "execution_count": 20,
   "metadata": {
    "collapsed": true
   },
   "outputs": [],
   "source": [
    "# se8 = pd.Series(link_to_api(15))\n",
    "# df25['perc_eight'] = se8.values"
   ]
  },
  {
   "cell_type": "code",
   "execution_count": 21,
   "metadata": {
    "collapsed": true
   },
   "outputs": [],
   "source": [
    "# se9 = pd.Series(link_to_api(16))\n",
    "# df25['perc_nine'] = se9.values"
   ]
  },
  {
   "cell_type": "code",
   "execution_count": null,
   "metadata": {
    "collapsed": true,
    "scrolled": true
   },
   "outputs": [],
   "source": [
    "df25['perc_one'] = pd.to_numeric(df25['perc_one'], errors='coerce')\n",
    "# df25['perc_two'] = pd.to_numeric(df25['perc_two'], errors='coerce')\n",
    "# df25['perc_three'] = pd.to_numeric(df25['perc_three'], errors='coerce')\n",
    "# df25['perc_four'] = pd.to_numeric(df25['perc_four'], errors='coerce')\n",
    "# df25['perc_five'] = pd.to_numeric(df25['perc_five'], errors='coerce')\n",
    "# df25['perc_six'] = pd.to_numeric(df25['perc_six'], errors='coerce')\n",
    "# df25['perc_seven'] = pd.to_numeric(df25['perc_seven'], errors='coerce')\n",
    "# df25['perc_eight'] = pd.to_numeric(df25['perc_eight'], errors='coerce')\n",
    "# df25['perc_nine'] = pd.to_numeric(df25['perc_nine'], errors='coerce')"
   ]
  },
  {
   "cell_type": "code",
   "execution_count": 68,
   "metadata": {
    "scrolled": true
   },
   "outputs": [
    {
     "data": {
      "text/plain": [
       "0.0010335288522833614"
      ]
     },
     "execution_count": 68,
     "metadata": {},
     "output_type": "execute_result"
    }
   ],
   "source": [
    "df25.iloc[:,17].mean()"
   ]
  },
  {
   "cell_type": "code",
   "execution_count": 25,
   "metadata": {},
   "outputs": [
    {
     "data": {
      "text/plain": [
       "1.9857588078910091"
      ]
     },
     "execution_count": 25,
     "metadata": {},
     "output_type": "execute_result"
    }
   ],
   "source": [
    "# df25.iloc[:,18].mean()"
   ]
  },
  {
   "cell_type": "code",
   "execution_count": 26,
   "metadata": {},
   "outputs": [
    {
     "data": {
      "text/plain": [
       "1.6924292736057696"
      ]
     },
     "execution_count": 26,
     "metadata": {},
     "output_type": "execute_result"
    }
   ],
   "source": [
    "# df25.iloc[:,19].mean()"
   ]
  },
  {
   "cell_type": "code",
   "execution_count": 27,
   "metadata": {
    "collapsed": true,
    "scrolled": true
   },
   "outputs": [],
   "source": [
    "# import datetime\n",
    "\n",
    "# print(df25[(df25['date']>datetime.date(2015,4,30)) & (df25['date']<datetime.date(2015,6,1))].iloc[:,17].mean())\n",
    "# print(df25[(df25['date']>datetime.date(2015,5,31)) & (df25['date']<datetime.date(2015,7,1))].iloc[:,17].mean())\n",
    "# print(df25[(df25['date']>datetime.date(2015,6,30)) & (df25['date']<datetime.date(2015,8,1))].iloc[:,17].mean())\n",
    "# print(df25[(df25['date']>datetime.date(2015,7,31)) & (df25['date']<datetime.date(2015,9,1))].iloc[:,17].mean())\n",
    "# print(df25[(df25['date']>datetime.date(2015,8,31)) & (df25['date']<datetime.date(2015,10,1))].iloc[:,17].mean())\n",
    "# print(df25[(df25['date']>datetime.date(2015,9,30)) & (df25['date']<datetime.date(2015,11,1))].iloc[:,17].mean())\n",
    "# print(df25[(df25['date']>datetime.date(2015,10,31)) & (df25['date']<datetime.date(2015,12,1))].iloc[:,17].mean())\n",
    "# print(df25[(df25['date']>datetime.date(2015,11,30)) & (df25['date']<datetime.date(2016,1,1))].iloc[:,17].mean())\n",
    "# print(df25[(df25['date']>datetime.date(2015,12,31)) & (df25['date']<datetime.date(2016,2,1))].iloc[:,17].mean())\n",
    "# print(df25[(df25['date']>datetime.date(2016,1,31)) & (df25['date']<datetime.date(2016,3,1))].iloc[:,17].mean())\n",
    "# print(df25[(df25['date']>datetime.date(2016,2,28)) & (df25['date']<datetime.date(2016,4,1))].iloc[:,17].mean())\n",
    "# print(df25[(df25['date']>datetime.date(2016,3,31)) & (df25['date']<datetime.date(2016,5,1))].iloc[:,17].mean())\n",
    "# print(df25[(df25['date']>datetime.date(2016,4,30)) & (df25['date']<datetime.date(2016,6,1))].iloc[:,17].mean())\n",
    "# print(df25[(df25['date']>datetime.date(2016,5,31)) & (df25['date']<datetime.date(2016,7,1))].iloc[:,17].mean())\n",
    "# print(df25[(df25['date']>datetime.date(2016,6,30)) & (df25['date']<datetime.date(2016,8,1))].iloc[:,17].mean())\n",
    "# print(df25[(df25['date']>datetime.date(2016,7,31)) & (df25['date']<datetime.date(2016,9,1))].iloc[:,17].mean())\n",
    "# print(df25[(df25['date']>datetime.date(2016,8,31)) & (df25['date']<datetime.date(2016,10,1))].iloc[:,17].mean())\n",
    "# print(df25[(df25['date']>datetime.date(2016,9,30)) & (df25['date']<datetime.date(2016,11,1))].iloc[:,17].mean())\n",
    "# print(df25[(df25['date']>datetime.date(2016,10,31)) & (df25['date']<datetime.date(2016,12,1))].iloc[:,17].mean())\n",
    "# print(df25[(df25['date']>datetime.date(2016,11,30)) & (df25['date']<datetime.date(2017,1,1))].iloc[:,17].mean())\n",
    "# print(df25[(df25['date']>datetime.date(2016,12,31)) & (df25['date']<datetime.date(2017,2,1))].iloc[:,17].mean())\n",
    "# print(df25[(df25['date']>datetime.date(2017,1,31)) & (df25['date']<datetime.date(2017,3,1))].iloc[:,17].mean())"
   ]
  },
  {
   "cell_type": "code",
   "execution_count": 22,
   "metadata": {
    "collapsed": true
   },
   "outputs": [],
   "source": [
    "df25 = df25[(df25['date']>datetime.date(2015,3,24)) & (df25['date']<datetime.date(2017,5,1))]"
   ]
  },
  {
   "cell_type": "code",
   "execution_count": 94,
   "metadata": {},
   "outputs": [
    {
     "data": {
      "text/plain": [
       "2.4390491458476808"
      ]
     },
     "execution_count": 94,
     "metadata": {},
     "output_type": "execute_result"
    }
   ],
   "source": [
    "#SHARPE VALUE\n",
    "(df25['perc_one'].mean())/(df25['perc_one'].std()) * np.sqrt(252)"
   ]
  },
  {
   "cell_type": "code",
   "execution_count": 91,
   "metadata": {},
   "outputs": [
    {
     "data": {
      "text/plain": [
       "0.0010335288522833614"
      ]
     },
     "execution_count": 91,
     "metadata": {},
     "output_type": "execute_result"
    }
   ],
   "source": [
    "df25['perc_one'].mean()"
   ]
  },
  {
   "cell_type": "code",
   "execution_count": 102,
   "metadata": {},
   "outputs": [
    {
     "data": {
      "text/plain": [
       "1.8839785312182498"
      ]
     },
     "execution_count": 102,
     "metadata": {},
     "output_type": "execute_result"
    }
   ],
   "source": [
    "# #SHARPE VALUE\n",
    "# (df25['perc_two'].mean())/(df25['perc_two'].std()) * np.sqrt(252)"
   ]
  },
  {
   "cell_type": "code",
   "execution_count": 31,
   "metadata": {},
   "outputs": [
    {
     "data": {
      "text/plain": [
       "0.02963259204907514"
      ]
     },
     "execution_count": 31,
     "metadata": {},
     "output_type": "execute_result"
    }
   ],
   "source": [
    "# #SHARPE VALUE\n",
    "# (df25['perc_three'].mean() - 1.09)/(df25['perc_three'].std())"
   ]
  },
  {
   "cell_type": "code",
   "execution_count": null,
   "metadata": {
    "collapsed": true
   },
   "outputs": [],
   "source": []
  },
  {
   "cell_type": "code",
   "execution_count": null,
   "metadata": {
    "collapsed": true
   },
   "outputs": [],
   "source": []
  },
  {
   "cell_type": "code",
   "execution_count": null,
   "metadata": {
    "collapsed": true
   },
   "outputs": [],
   "source": []
  },
  {
   "cell_type": "code",
   "execution_count": null,
   "metadata": {
    "collapsed": true
   },
   "outputs": [],
   "source": []
  },
  {
   "cell_type": "code",
   "execution_count": 149,
   "metadata": {
    "collapsed": true
   },
   "outputs": [],
   "source": [
    "dfstockstotrade = DataFrame(list(db.stockstotrade.find({})))"
   ]
  },
  {
   "cell_type": "code",
   "execution_count": 150,
   "metadata": {
    "collapsed": true
   },
   "outputs": [],
   "source": [
    "dfstockstotrade['user'] = 'stockstotrade'"
   ]
  },
  {
   "cell_type": "code",
   "execution_count": 151,
   "metadata": {
    "collapsed": true
   },
   "outputs": [],
   "source": [
    "list1 = []\n",
    "for i in range(len(dfstockstotrade['text'])):\n",
    "    list1.append(dfstockstotrade['text'].str.split(' http')[i][0])\n",
    "    \n",
    "se = pd.Series(list1)\n",
    "se = se.str.replace('b\"', \"b'\")\n",
    "se = se.str.replace('$', \"XX'\")"
   ]
  },
  {
   "cell_type": "code",
   "execution_count": 152,
   "metadata": {
    "collapsed": true
   },
   "outputs": [],
   "source": [
    "list2 = []\n",
    "for i in range(len(dfstockstotrade['text'])):\n",
    "    list2.append(se.str.split(\"b'\")[i][1])"
   ]
  },
  {
   "cell_type": "code",
   "execution_count": 153,
   "metadata": {
    "collapsed": true
   },
   "outputs": [],
   "source": [
    "se2 = pd.Series(list2)\n",
    "dfstockstotrade['cleanedtext'] = se2.values"
   ]
  },
  {
   "cell_type": "code",
   "execution_count": 154,
   "metadata": {
    "collapsed": true
   },
   "outputs": [],
   "source": [
    "# df22 = df[df['cleanedtext'].str.contains(\"Whisper\",na=False, case=False)]\n",
    "dfstockstotrade = dfstockstotrade[dfstockstotrade['cleanedtext'].str.contains('RT|@', case=False)==False]\n",
    "# df22 = df22[df22['cleanedtext'].str.contains('SPY|USO|GDX', case=True)==False]\n",
    "dfstockstotrade = dfstockstotrade[dfstockstotrade['cleanedtext'].str.contains(\"XX'AAPL|XX'ABBV|XX'ABT|XX'ACN|XX'AGN|XX'AIG|XX'ALL|XX'AMGN|XX'AMZN|XX'AXP|XX'BA|XX'BAC|XX'BIIB|XX'BK|XX'BLK|XX'BMY|XX'BRK.B|XX'C|XX'CAT|XX'CELG|XX'CL|XX'CMCSA|XX'COF|XX'COP|XX'COST|XX'CSCO|XX'CVS|XX'CVX|XX'DD|XX'DHR|XX'DIS|XX'DOW|XX'DUK|XX'EMR|XX'EXC|XX'F|XX'FB|XX'FDX|XX'FOX|XX'FOXA|XX'GD|XX'GE|XX'GILD|XX'GM|XX'GOOG|XX'GOOGL|XX'GS|XX'HAL|XX'HD|XX'HON|XX'IBM|XX'INTC|XX'JNJ|XX'JPM|XX'KHC|XX'KMI|XX'KO|XX'LLY|XX'LMT|XX'LOW|XX'MA|XX'MCD|XX'MDLZ|XX'MDT|XX'MET|XX'MMM|XX'MO|XX'MON|XX'MRK|XX'MS|XX'MSFT|XX'NEE|XX'NKE|XX'ORCL|XX'OXY|XX'PCLN|XX'PEP|XX'PFE|XX'PG|XX'PM|XX'PYPL|XX'QCOM|XX'RTN|XX'SBUX|XX'SLB|XX'SO|XX'SPG|XX'T|XX'TGT|XX'TWX|XX'TXN|XX'UNH|XX'UNP|XX'UPS|XX'USB|XX'UTX|XX'V|XX'VZ|XX'WBA|XX'WFC|XX'WMT|XX'XOM\", na=False, case=True)]\n",
    "\n",
    "\n",
    "\n"
   ]
  },
  {
   "cell_type": "code",
   "execution_count": 155,
   "metadata": {
    "collapsed": true
   },
   "outputs": [],
   "source": [
    "import datetime as dt\n",
    "dfstockstotrade['date'] = dfstockstotrade['created_at'].apply(lambda x: \n",
    "                                    dt.datetime.strptime(x,'%Y-%m-%d %H:%M:%S').date())"
   ]
  },
  {
   "cell_type": "code",
   "execution_count": 156,
   "metadata": {},
   "outputs": [
    {
     "name": "stderr",
     "output_type": "stream",
     "text": [
      "/Users/michaelcarrie/anaconda/lib/python3.5/site-packages/pandas/core/reshape/merge.py:551: UserWarning: merging between different levels can give an unintended result (1 levels on the left, 2 on the right)\n",
      "  warnings.warn(msg, UserWarning)\n"
     ]
    }
   ],
   "source": [
    "dfstockstotrade = dfstockstotrade.sort_values(by='date')\n",
    "dfstockstotradeextract = dfstockstotrade.cleanedtext.str.extractall(r\"\"\"(XX'[A-Z]+)\"\"\")\n",
    "dfstockstotradeextract = dfstockstotradeextract.unstack()\n",
    "dfstockstotrade = dfstockstotrade.join(dfstockstotradeextract)\n",
    "dfstockstotrade = dfstockstotrade.reset_index()"
   ]
  },
  {
   "cell_type": "code",
   "execution_count": 157,
   "metadata": {
    "collapsed": true
   },
   "outputs": [],
   "source": [
    "for i in range(8, dfstockstotrade.shape[1]):\n",
    "    dfstockstotrade.iloc[:,i] = dfstockstotrade.iloc[:,i].str.replace(\"XX'\", '')"
   ]
  },
  {
   "cell_type": "code",
   "execution_count": 158,
   "metadata": {
    "collapsed": true
   },
   "outputs": [],
   "source": [
    "def link_to_api(X):\n",
    "    count = 0\n",
    "    enum_list = []\n",
    "    first_list = []\n",
    "    for a, b in zip(dfstockstotrade.iloc[:,7], dfstockstotrade.iloc[:,X]):\n",
    "        if not b in quanstocklist:\n",
    "    #     if b == 'SPY' or b == 'USO' or b == 'GDX' or b == 'AA' or b =='PBR' or b=='ALU' or b == 'STM' or b=='TSL' or b=='EEM' or b == 'XLF' or b=='GSK' or b=='ING' or b=='GLD' or b=='SFUN' or b=='BABA' or b=='GFI' or b=='ARMH' or b=='XX' or b=='MT' or b=='BCS' or b=='TLT' or b=='CSIQ' or b=='GSX' or b=='NUGT' or b=='WFT' or b=='SLV' or b=='UGAZ' or b=='SDRL' or b=='JNK' or b=='TBT' or b=='ASX':\n",
    "            enum_list.append(np.nan)\n",
    "            first_list.append(np.nan)\n",
    "            count += 1\n",
    "        else:\n",
    "            date_data = a\n",
    "            stock_name = b\n",
    "            new_date = a + dt.timedelta(days=30)\n",
    "            my_data = quandl.get(dataset =(\"WIKI/%s\"% stock_name), start_date=(\"%s\"% date_data), end_date=(\"%s\"% new_date))\n",
    "            total_sum = my_data.iloc[:,3].sum()\n",
    "            first_list.append(my_data.iloc[0,3]/total_sum)\n",
    "            enum_list.append((my_data.iloc[-1,3] - my_data.iloc[0,3])/my_data.iloc[0,3])\n",
    "            count += 1\n",
    "#             print(first_list)\n",
    "    #     print(count)\n",
    "    #     print(enum_list)\n",
    "    first_list = list(map(float, first_list))\n",
    "    enum_list = list(map(float, enum_list))\n",
    "    final_list = [z*x for z,x in zip(first_list,enum_list)]\n",
    "    return final_list\n",
    "\n",
    "\n",
    "    \n",
    "se = pd.Series(link_to_api(8))\n",
    "dfstockstotrade['perc_one'] = se.values"
   ]
  },
  {
   "cell_type": "code",
   "execution_count": 159,
   "metadata": {
    "collapsed": true
   },
   "outputs": [],
   "source": [
    "dfstockstotrade['perc_one'] = pd.to_numeric(dfstockstotrade['perc_one'], errors='coerce')"
   ]
  },
  {
   "cell_type": "code",
   "execution_count": null,
   "metadata": {
    "collapsed": true
   },
   "outputs": [],
   "source": []
  },
  {
   "cell_type": "markdown",
   "metadata": {},
   "source": [
    "**MERGING**"
   ]
  },
  {
   "cell_type": "code",
   "execution_count": 231,
   "metadata": {
    "collapsed": true
   },
   "outputs": [],
   "source": [
    "df26 = df25.iloc[:,[5,8,17]]"
   ]
  },
  {
   "cell_type": "code",
   "execution_count": 232,
   "metadata": {
    "collapsed": true
   },
   "outputs": [],
   "source": [
    "newdf = dfstockstotrade.iloc[:,[5,8,21]]"
   ]
  },
  {
   "cell_type": "code",
   "execution_count": 233,
   "metadata": {
    "collapsed": true
   },
   "outputs": [],
   "source": [
    "newdf = df26.append(newdf)"
   ]
  },
  {
   "cell_type": "code",
   "execution_count": null,
   "metadata": {
    "collapsed": true
   },
   "outputs": [],
   "source": []
  },
  {
   "cell_type": "markdown",
   "metadata": {},
   "source": [
    "**KMEANS**"
   ]
  },
  {
   "cell_type": "code",
   "execution_count": 234,
   "metadata": {
    "collapsed": true
   },
   "outputs": [],
   "source": [
    "from sklearn.preprocessing import LabelEncoder\n",
    "encoder = LabelEncoder()"
   ]
  },
  {
   "cell_type": "code",
   "execution_count": 235,
   "metadata": {
    "collapsed": true
   },
   "outputs": [],
   "source": [
    "newdf.iloc[:,0] = encoder.fit_transform(newdf.iloc[:,0])"
   ]
  },
  {
   "cell_type": "code",
   "execution_count": 236,
   "metadata": {
    "collapsed": true
   },
   "outputs": [],
   "source": [
    "newdf.iloc[:,1] = encoder.fit_transform(newdf.iloc[:,1])"
   ]
  },
  {
   "cell_type": "code",
   "execution_count": 239,
   "metadata": {
    "collapsed": true
   },
   "outputs": [],
   "source": [
    "newdf = newdf.dropna()"
   ]
  },
  {
   "cell_type": "code",
   "execution_count": 250,
   "metadata": {},
   "outputs": [
    {
     "data": {
      "image/png": "[encoded data removed]",
      "text/plain": [
       "<matplotlib.figure.Figure at 0x118aa3278>"
      ]
     },
     "metadata": {},
     "output_type": "display_data"
    }
   ],
   "source": [
    "from sklearn.cluster import KMeans\n",
    "k_means = KMeans(n_clusters=3)\n",
    "k_means.fit(newdf)\n",
    "labels = k_means.labels_\n",
    "\n",
    "from sklearn.decomposition import PCA\n",
    "pca_2 = PCA(2)\n",
    "plot_columns = pca_2.fit_transform(newdf)\n",
    "plt.scatter(x=plot_columns[:,0], y=plot_columns[:,1], c=labels)\n",
    "plt.show()"
   ]
  },
  {
   "cell_type": "code",
   "execution_count": 241,
   "metadata": {},
   "outputs": [
    {
     "data": {
      "text/plain": [
       "array([2, 1, 2, 2, 2, 2, 2, 2, 0, 0, 0, 0, 1, 3, 0, 2, 2, 1, 1, 0, 1, 1, 1,\n",
       "       0, 0, 1, 1, 3, 3, 4, 4, 4, 4, 1, 1, 1, 1, 1, 1, 4, 4, 2, 2, 0, 0, 4,\n",
       "       0, 4, 4, 1, 2, 1, 2, 2, 2, 3, 2, 2, 2, 0, 2, 0, 1, 3, 3, 1, 2, 2, 2,\n",
       "       2, 2, 3, 2, 0, 0, 1, 1, 1, 1, 2, 2, 2, 1, 1, 0, 0, 0, 1, 2, 2, 0, 4,\n",
       "       2, 1, 2, 0, 2, 0, 4, 1, 1, 1, 3, 4, 1, 1, 1, 0, 2, 0, 1, 1, 4, 4, 4,\n",
       "       3, 1, 1, 2, 2, 2, 0, 0, 4, 0, 3, 1, 3, 2, 2, 2, 2, 2, 2, 1, 1, 1, 4,\n",
       "       4, 2, 2, 2, 2, 1, 2, 2, 2, 1, 1, 2, 0, 1, 2, 2, 1, 2, 1, 1, 1, 4, 2,\n",
       "       0, 0, 0, 0, 4, 3, 4, 1, 1, 1, 1, 1, 1, 2, 1, 1, 1, 2, 2, 3, 1, 2, 2,\n",
       "       3, 1, 1, 2, 2, 1, 1, 2, 4, 2, 2, 3, 2, 2, 2, 2, 4, 3, 1, 1, 1, 2, 2,\n",
       "       1, 1, 2, 1, 2, 3, 4, 1, 1, 3, 3, 3, 1, 1, 2, 0, 1, 1, 2, 1, 0, 1, 1,\n",
       "       1, 1, 0, 0, 2, 3, 1, 1, 1, 1, 4, 1, 1, 0, 0, 2, 1, 4, 1, 3, 4, 2, 1,\n",
       "       1, 2, 2, 2, 2, 1, 3, 1, 4, 2, 1, 4, 2, 1, 1, 3, 1, 1, 2, 1, 1, 1, 1,\n",
       "       0, 0, 2, 1, 1, 1, 1, 1, 0, 1, 4, 2, 2, 1, 3, 3, 3, 2, 2, 4, 3, 3, 2,\n",
       "       0, 2, 1, 1, 3, 4, 2, 4, 4, 4, 2, 1, 1, 1, 1, 2, 1, 0, 0, 3, 1, 0, 1,\n",
       "       1, 4, 0, 2, 2, 2, 3, 2, 3, 3, 2, 2, 3, 3, 1, 1, 4, 2, 2, 4, 4, 0, 4,\n",
       "       1, 4, 4, 2, 2, 2, 0, 3, 3, 1, 0, 1, 2, 2, 2, 2, 1, 2, 1, 2, 1, 2, 1,\n",
       "       1, 2, 2, 2, 3, 1, 1, 3, 1, 0, 3, 3, 2, 1, 2, 2, 3, 2, 3, 2, 2, 2, 2,\n",
       "       2, 1, 2, 2, 2, 2, 2, 2, 3, 2, 4, 2, 2, 3, 1, 2, 2, 2, 4, 2, 2, 2, 2,\n",
       "       1, 3, 2, 0, 2, 2, 2, 2, 2, 2, 2, 2, 2, 2, 0, 2, 2, 4, 4, 2, 4, 2, 2,\n",
       "       0, 2, 2, 2, 2, 2, 2, 2, 2, 2, 2, 2, 2, 0, 4, 2, 0, 2, 2, 2, 2, 2, 2,\n",
       "       4, 2, 2, 2, 2, 3, 1, 2, 1, 2, 1, 2, 1, 1, 2, 1, 2, 2, 2, 2, 1, 2, 4,\n",
       "       2, 2, 2, 2, 1, 1, 0, 0, 2, 2, 2, 2, 0, 2, 2, 0, 0, 1, 2, 0, 2, 2, 2,\n",
       "       2, 2, 2, 2, 2, 2, 2, 1, 2, 2, 1, 2, 2, 2, 2, 2, 2, 2, 2, 0, 2, 2, 2], dtype=int32)"
      ]
     },
     "execution_count": 241,
     "metadata": {},
     "output_type": "execute_result"
    }
   ],
   "source": [
    "k_means.labels_"
   ]
  },
  {
   "cell_type": "code",
   "execution_count": null,
   "metadata": {
    "collapsed": true
   },
   "outputs": [],
   "source": []
  },
  {
   "cell_type": "code",
   "execution_count": null,
   "metadata": {
    "collapsed": true
   },
   "outputs": [],
   "source": []
  },
  {
   "cell_type": "code",
   "execution_count": null,
   "metadata": {
    "collapsed": true
   },
   "outputs": [],
   "source": []
  },
  {
   "cell_type": "code",
   "execution_count": null,
   "metadata": {
    "collapsed": true
   },
   "outputs": [],
   "source": []
  },
  {
   "cell_type": "code",
   "execution_count": null,
   "metadata": {
    "collapsed": true
   },
   "outputs": [],
   "source": []
  },
  {
   "cell_type": "code",
   "execution_count": null,
   "metadata": {
    "collapsed": true
   },
   "outputs": [],
   "source": []
  },
  {
   "cell_type": "code",
   "execution_count": 252,
   "metadata": {
    "collapsed": true
   },
   "outputs": [],
   "source": [
    "import math\n",
    "import bt\n",
    "\n",
    "# dfbt = bt.get('T', start='2015-03-25')\n",
    "\n",
    "def mymodel(daydiff):\n",
    "    dfbt = bt.get('T', start='2015-02-25', end='2017-05-01')\n",
    "    for i,z, x in zip(df25.iloc[:,7], df25.iloc[:,8], df25.iloc[:,17]):\n",
    "        if not z in quanstocklist:\n",
    "            continue\n",
    "        elif z == None or math.isnan(x) == True or z=='TASR' or z=='HOT' or z=='VOD' or z=='EMC' or z=='SUNE' or z=='MDVN':\n",
    "            continue\n",
    "        else:\n",
    "            date_data = i\n",
    "            stock_name = z\n",
    "            new_date = i + dt.timedelta(days=daydiff)\n",
    "            dfbt1 = bt.get(z, start=i, end=new_date)\n",
    "            dfbt = pd.merge(dfbt,dfbt1, how='left', left_index = True, right_index=True, suffixes=['_X','_X'])\n",
    "    return dfbt"
   ]
  },
  {
   "cell_type": "code",
   "execution_count": 182,
   "metadata": {},
   "outputs": [
    {
     "name": "stdout",
     "output_type": "stream",
     "text": [
      "https://query1.finance.yahoo.com/v7/finance/download/GOOGL?period1=1493524800&period2=1497844800&interval=1d&events=history&crumb=GgrQ3ledhai\n"
     ]
    }
   ],
   "source": [
    "import bt\n",
    "data = bt.get('googl', start='2017-04-30', end='2017-06-19')"
   ]
  },
  {
   "cell_type": "code",
   "execution_count": 161,
   "metadata": {
    "collapsed": true
   },
   "outputs": [],
   "source": [
    "data1 = bt.get('chk', start='2017-05-10', end='2017-05-12')"
   ]
  },
  {
   "cell_type": "code",
   "execution_count": 162,
   "metadata": {
    "collapsed": true
   },
   "outputs": [],
   "source": [
    "data2 = bt.get('bac', start='2017-05-17', end='2017-05-19')"
   ]
  },
  {
   "cell_type": "code",
   "execution_count": 119,
   "metadata": {},
   "outputs": [
    {
     "data": {
      "text/plain": [
       "bac    float64\n",
       "dtype: object"
      ]
     },
     "execution_count": 119,
     "metadata": {},
     "output_type": "execute_result"
    }
   ],
   "source": [
    "data2.dtypes"
   ]
  },
  {
   "cell_type": "code",
   "execution_count": 163,
   "metadata": {
    "collapsed": true,
    "scrolled": true
   },
   "outputs": [],
   "source": [
    "tmp = pd.merge(left=data2.reset_index(),right=data1.reset_index(), how='outer', on='Date')\n",
    "tmp = tmp.set_index('Date')"
   ]
  },
  {
   "cell_type": "code",
   "execution_count": 164,
   "metadata": {
    "collapsed": true
   },
   "outputs": [],
   "source": [
    "import numpy as np\n",
    "tmp = tmp.replace('NaN', np.nan)"
   ]
  },
  {
   "cell_type": "code",
   "execution_count": 165,
   "metadata": {
    "collapsed": true
   },
   "outputs": [],
   "source": [
    "import datetime as dt"
   ]
  },
  {
   "cell_type": "code",
   "execution_count": 166,
   "metadata": {
    "collapsed": true
   },
   "outputs": [],
   "source": [
    "tmp.index = pd.to_datetime(tmp.index)"
   ]
  },
  {
   "cell_type": "code",
   "execution_count": 167,
   "metadata": {
    "collapsed": true
   },
   "outputs": [],
   "source": [
    "tmp.index = tmp.index.sort_values(ascending=True)"
   ]
  },
  {
   "cell_type": "code",
   "execution_count": 168,
   "metadata": {},
   "outputs": [
    {
     "data": {
      "text/html": [
       "<div>\n",
       "<style>\n",
       "    .dataframe thead tr:only-child th {\n",
       "        text-align: right;\n",
       "    }\n",
       "\n",
       "    .dataframe thead th {\n",
       "        text-align: left;\n",
       "    }\n",
       "\n",
       "    .dataframe tbody tr th {\n",
       "        vertical-align: top;\n",
       "    }\n",
       "</style>\n",
       "<table border=\"1\" class=\"dataframe\">\n",
       "  <thead>\n",
       "    <tr style=\"text-align: right;\">\n",
       "      <th></th>\n",
       "      <th>bac</th>\n",
       "      <th>chk</th>\n",
       "    </tr>\n",
       "    <tr>\n",
       "      <th>Date</th>\n",
       "      <th></th>\n",
       "      <th></th>\n",
       "    </tr>\n",
       "  </thead>\n",
       "  <tbody>\n",
       "    <tr>\n",
       "      <th>2017-05-10</th>\n",
       "      <td>22.496113</td>\n",
       "      <td>NaN</td>\n",
       "    </tr>\n",
       "    <tr>\n",
       "      <th>2017-05-11</th>\n",
       "      <td>22.665556</td>\n",
       "      <td>NaN</td>\n",
       "    </tr>\n",
       "    <tr>\n",
       "      <th>2017-05-12</th>\n",
       "      <td>22.974541</td>\n",
       "      <td>NaN</td>\n",
       "    </tr>\n",
       "    <tr>\n",
       "      <th>2017-05-17</th>\n",
       "      <td>NaN</td>\n",
       "      <td>5.75</td>\n",
       "    </tr>\n",
       "    <tr>\n",
       "      <th>2017-05-18</th>\n",
       "      <td>NaN</td>\n",
       "      <td>5.72</td>\n",
       "    </tr>\n",
       "  </tbody>\n",
       "</table>\n",
       "</div>"
      ],
      "text/plain": [
       "                  bac   chk\n",
       "Date                       \n",
       "2017-05-10  22.496113   NaN\n",
       "2017-05-11  22.665556   NaN\n",
       "2017-05-12  22.974541   NaN\n",
       "2017-05-17        NaN  5.75\n",
       "2017-05-18        NaN  5.72"
      ]
     },
     "execution_count": 168,
     "metadata": {},
     "output_type": "execute_result"
    }
   ],
   "source": [
    "tmp.head()"
   ]
  },
  {
   "cell_type": "code",
   "execution_count": 176,
   "metadata": {
    "collapsed": true
   },
   "outputs": [],
   "source": [
    "# MyModel = bt.Strategy('MyModel', [bt.algos.RunDaily(),\n",
    "#                        bt.algos.SelectHasData(),\n",
    "#                        bt.algos.WeighEqually(),\n",
    "#                        bt.algos.Rebalance()])\n",
    "\n",
    "# test2 = bt.Backtest(MyModel, tmp)\n",
    "# res2 = bt.run(test2)"
   ]
  },
  {
   "cell_type": "code",
   "execution_count": 187,
   "metadata": {},
   "outputs": [
    {
     "name": "stdout",
     "output_type": "stream",
     "text": [
      "MyModel\n",
      "0% [############################# ] 100% | ETA: 00:00:00"
     ]
    }
   ],
   "source": [
    "# bt.core.\n",
    "SPY = bt.Strategy('MyModel', [bt.algos.RunDaily(),\n",
    "                       bt.algos.SelectAll(),\n",
    "                       bt.algos.WeighEqually(),\n",
    "                       bt.algos.Rebalance()])\n",
    "\n",
    "test = bt.Backtest(SPY, data)\n",
    "res = bt.run(test)"
   ]
  },
  {
   "cell_type": "code",
   "execution_count": 188,
   "metadata": {},
   "outputs": [
    {
     "name": "stdout",
     "output_type": "stream",
     "text": [
      "Stat                 MyModel\n",
      "-------------------  ----------\n",
      "Start                2017-04-30\n",
      "End                  2017-06-19\n",
      "Risk-free rate       0.00%\n",
      "\n",
      "Total Return         4.07%\n",
      "Daily Sharpe         1.90\n",
      "Daily Sortino        1.88\n",
      "CAGR                 33.82%\n",
      "Max Drawdown         -4.55%\n",
      "Calmar Ratio         7.44\n",
      "\n",
      "MTD                  -1.20%\n",
      "3m                   -\n",
      "6m                   -\n",
      "YTD                  4.07%\n",
      "1Y                   -\n",
      "3Y (ann.)            -\n",
      "5Y (ann.)            -\n",
      "10Y (ann.)           -\n",
      "Since Incep. (ann.)  33.82%\n",
      "\n",
      "Daily Sharpe         1.90\n",
      "Daily Sortino        1.88\n",
      "Daily Mean (ann.)    29.94%\n",
      "Daily Vol (ann.)     15.72%\n",
      "Daily Skew           -1.63\n",
      "Daily Kurt           4.25\n",
      "Best Day             1.73%\n",
      "Worst Day            -3.40%\n",
      "\n",
      "Monthly Sharpe       1.55\n",
      "Monthly Sortino      -\n",
      "Monthly Mean (ann.)  24.80%\n",
      "Monthly Vol (ann.)   16.01%\n",
      "Monthly Skew         -\n",
      "Monthly Kurt         -\n",
      "Best Month           5.33%\n",
      "Worst Month          -1.20%\n",
      "\n",
      "Yearly Sharpe        -\n",
      "Yearly Sortino       -\n",
      "Yearly Mean          -\n",
      "Yearly Vol           -\n",
      "Yearly Skew          -\n",
      "Yearly Kurt          -\n",
      "Best Year            -\n",
      "Worst Year           -\n",
      "\n",
      "Avg. Drawdown        -1.56%\n",
      "Avg. Drawdown Days   5.33\n",
      "Avg. Up Month        5.33%\n",
      "Avg. Down Month      -1.20%\n",
      "Win Year %           -\n",
      "Win 12m %            -\n"
     ]
    }
   ],
   "source": [
    "res.display()"
   ]
  },
  {
   "cell_type": "code",
   "execution_count": 253,
   "metadata": {
    "scrolled": false
   },
   "outputs": [
    {
     "name": "stdout",
     "output_type": "stream",
     "text": [
      "https://query1.finance.yahoo.com/v7/finance/download/T?period1=1424840400&period2=1493611200&interval=1d&events=history&crumb=Fb461c19PRe\n",
      "https://query1.finance.yahoo.com/v7/finance/download/GE?period1=1428638400&period2=1431230400&interval=1d&events=history&crumb=Fb461c19PRe\n",
      "https://query1.finance.yahoo.com/v7/finance/download/AAPL?period1=1428638400&period2=1431230400&interval=1d&events=history&crumb=Fb461c19PRe\n",
      "https://query1.finance.yahoo.com/v7/finance/download/FRO?period1=1428897600&period2=1431489600&interval=1d&events=history&crumb=Fb461c19PRe\n",
      "https://query1.finance.yahoo.com/v7/finance/download/GE?period1=1429243200&period2=1431835200&interval=1d&events=history&crumb=Fb461c19PRe\n",
      "https://query1.finance.yahoo.com/v7/finance/download/GE?period1=1429675200&period2=1432267200&interval=1d&events=history&crumb=Fb461c19PRe\n",
      "https://query1.finance.yahoo.com/v7/finance/download/SDRL?period1=1429848000&period2=1432440000&interval=1d&events=history&crumb=Fb461c19PRe\n",
      "https://query1.finance.yahoo.com/v7/finance/download/SDRL?period1=1430366400&period2=1432958400&interval=1d&events=history&crumb=Fb461c19PRe\n",
      "https://query1.finance.yahoo.com/v7/finance/download/BAC?period1=1430712000&period2=1433304000&interval=1d&events=history&crumb=Fb461c19PRe\n",
      "https://query1.finance.yahoo.com/v7/finance/download/TWTR?period1=1430971200&period2=1433563200&interval=1d&events=history&crumb=Fb461c19PRe\n",
      "https://query1.finance.yahoo.com/v7/finance/download/SDRL?period1=1431489600&period2=1434081600&interval=1d&events=history&crumb=Fb461c19PRe\n",
      "https://query1.finance.yahoo.com/v7/finance/download/GE?period1=1431662400&period2=1434254400&interval=1d&events=history&crumb=Fb461c19PRe\n",
      "https://query1.finance.yahoo.com/v7/finance/download/AAPL?period1=1432008000&period2=1434600000&interval=1d&events=history&crumb=Fb461c19PRe\n",
      "https://query1.finance.yahoo.com/v7/finance/download/SDRL?period1=1432785600&period2=1435377600&interval=1d&events=history&crumb=Fb461c19PRe\n",
      "https://query1.finance.yahoo.com/v7/finance/download/BAC?period1=1433304000&period2=1435896000&interval=1d&events=history&crumb=Fb461c19PRe\n",
      "https://query1.finance.yahoo.com/v7/finance/download/MSFT?period1=1433390400&period2=1435982400&interval=1d&events=history&crumb=Fb461c19PRe\n",
      "https://query1.finance.yahoo.com/v7/finance/download/AAL?period1=1434945600&period2=1437537600&interval=1d&events=history&crumb=Fb461c19PRe\n",
      "https://query1.finance.yahoo.com/v7/finance/download/T?period1=1435032000&period2=1437624000&interval=1d&events=history&crumb=Fb461c19PRe\n",
      "https://query1.finance.yahoo.com/v7/finance/download/WYNN?period1=1435809600&period2=1438401600&interval=1d&events=history&crumb=Fb461c19PRe\n",
      "https://query1.finance.yahoo.com/v7/finance/download/INTC?period1=1436241600&period2=1438833600&interval=1d&events=history&crumb=Fb461c19PRe\n",
      "https://query1.finance.yahoo.com/v7/finance/download/AAL?period1=1436760000&period2=1439352000&interval=1d&events=history&crumb=Fb461c19PRe\n",
      "https://query1.finance.yahoo.com/v7/finance/download/BAC?period1=1436846400&period2=1439438400&interval=1d&events=history&crumb=Fb461c19PRe\n",
      "https://query1.finance.yahoo.com/v7/finance/download/BAC?period1=1436932800&period2=1439524800&interval=1d&events=history&crumb=Fb461c19PRe\n",
      "https://query1.finance.yahoo.com/v7/finance/download/INTC?period1=1437019200&period2=1439611200&interval=1d&events=history&crumb=Fb461c19PRe\n",
      "https://query1.finance.yahoo.com/v7/finance/download/GE?period1=1437105600&period2=1439697600&interval=1d&events=history&crumb=Fb461c19PRe\n",
      "https://query1.finance.yahoo.com/v7/finance/download/MS?period1=1437364800&period2=1439956800&interval=1d&events=history&crumb=Fb461c19PRe\n",
      "https://query1.finance.yahoo.com/v7/finance/download/MSFT?period1=1437537600&period2=1440129600&interval=1d&events=history&crumb=Fb461c19PRe\n",
      "https://query1.finance.yahoo.com/v7/finance/download/GM?period1=1437624000&period2=1440216000&interval=1d&events=history&crumb=Fb461c19PRe\n",
      "https://query1.finance.yahoo.com/v7/finance/download/LUV?period1=1437624000&period2=1440216000&interval=1d&events=history&crumb=Fb461c19PRe\n",
      "https://query1.finance.yahoo.com/v7/finance/download/BP?period1=1438056000&period2=1440648000&interval=1d&events=history&crumb=Fb461c19PRe\n",
      "https://query1.finance.yahoo.com/v7/finance/download/CLF?period1=1438142400&period2=1440734400&interval=1d&events=history&crumb=Fb461c19PRe\n",
      "https://query1.finance.yahoo.com/v7/finance/download/BAC?period1=1438228800&period2=1440820800&interval=1d&events=history&crumb=Fb461c19PRe\n",
      "https://query1.finance.yahoo.com/v7/finance/download/FB?period1=1438228800&period2=1440820800&interval=1d&events=history&crumb=Fb461c19PRe\n",
      "https://query1.finance.yahoo.com/v7/finance/download/FTR?period1=1438574400&period2=1441166400&interval=1d&events=history&crumb=Fb461c19PRe\n",
      "https://query1.finance.yahoo.com/v7/finance/download/TSN?period1=1438574400&period2=1441166400&interval=1d&events=history&crumb=Fb461c19PRe\n",
      "https://query1.finance.yahoo.com/v7/finance/download/FTR?period1=1438660800&period2=1441252800&interval=1d&events=history&crumb=Fb461c19PRe\n",
      "https://query1.finance.yahoo.com/v7/finance/download/COH?period1=1438660800&period2=1441252800&interval=1d&events=history&crumb=Fb461c19PRe\n",
      "https://query1.finance.yahoo.com/v7/finance/download/S?period1=1438660800&period2=1441252800&interval=1d&events=history&crumb=Fb461c19PRe\n",
      "https://query1.finance.yahoo.com/v7/finance/download/DIS?period1=1438747200&period2=1441339200&interval=1d&events=history&crumb=Fb461c19PRe\n",
      "https://query1.finance.yahoo.com/v7/finance/download/MU?period1=1438920000&period2=1441512000&interval=1d&events=history&crumb=Fb461c19PRe\n",
      "https://query1.finance.yahoo.com/v7/finance/download/BAC?period1=1439265600&period2=1441857600&interval=1d&events=history&crumb=Fb461c19PRe\n",
      "https://query1.finance.yahoo.com/v7/finance/download/TWTR?period1=1440993600&period2=1443585600&interval=1d&events=history&crumb=Fb461c19PRe\n",
      "https://query1.finance.yahoo.com/v7/finance/download/BP?period1=1441252800&period2=1443844800&interval=1d&events=history&crumb=Fb461c19PRe\n",
      "https://query1.finance.yahoo.com/v7/finance/download/FCX?period1=1441684800&period2=1444276800&interval=1d&events=history&crumb=Fb461c19PRe\n",
      "https://query1.finance.yahoo.com/v7/finance/download/FCX?period1=1441771200&period2=1444363200&interval=1d&events=history&crumb=Fb461c19PRe\n",
      "https://query1.finance.yahoo.com/v7/finance/download/FB?period1=1442289600&period2=1444881600&interval=1d&events=history&crumb=Fb461c19PRe\n",
      "https://query1.finance.yahoo.com/v7/finance/download/RIG?period1=1442376000&period2=1444968000&interval=1d&events=history&crumb=Fb461c19PRe\n",
      "https://query1.finance.yahoo.com/v7/finance/download/RAD?period1=1442462400&period2=1445054400&interval=1d&events=history&crumb=Fb461c19PRe\n",
      "https://query1.finance.yahoo.com/v7/finance/download/BAC?period1=1443153600&period2=1445745600&interval=1d&events=history&crumb=Fb461c19PRe\n",
      "https://query1.finance.yahoo.com/v7/finance/download/BAC?period1=1443326400&period2=1445918400&interval=1d&events=history&crumb=Fb461c19PRe\n",
      "https://query1.finance.yahoo.com/v7/finance/download/FCX?period1=1444017600&period2=1446613200&interval=1d&events=history&crumb=Fb461c19PRe\n",
      "https://query1.finance.yahoo.com/v7/finance/download/FCX?period1=1444190400&period2=1446786000&interval=1d&events=history&crumb=Fb461c19PRe\n",
      "https://query1.finance.yahoo.com/v7/finance/download/AAPL?period1=1444190400&period2=1446786000&interval=1d&events=history&crumb=Fb461c19PRe\n",
      "https://query1.finance.yahoo.com/v7/finance/download/MS?period1=1445227200&period2=1447822800&interval=1d&events=history&crumb=Fb461c19PRe\n",
      "https://query1.finance.yahoo.com/v7/finance/download/BR?period1=1445313600&period2=1447909200&interval=1d&events=history&crumb=Fb461c19PRe\n",
      "https://query1.finance.yahoo.com/v7/finance/download/MU?period1=1445400000&period2=1447995600&interval=1d&events=history&crumb=Fb461c19PRe\n",
      "https://query1.finance.yahoo.com/v7/finance/download/F?period1=1445918400&period2=1448514000&interval=1d&events=history&crumb=Fb461c19PRe\n",
      "https://query1.finance.yahoo.com/v7/finance/download/AAPL?period1=1445918400&period2=1448514000&interval=1d&events=history&crumb=Fb461c19PRe\n",
      "https://query1.finance.yahoo.com/v7/finance/download/MGM?period1=1446091200&period2=1448686800&interval=1d&events=history&crumb=Fb461c19PRe\n",
      "https://query1.finance.yahoo.com/v7/finance/download/FCX?period1=1446613200&period2=1449205200&interval=1d&events=history&crumb=Fb461c19PRe\n"
     ]
    },
    {
     "name": "stdout",
     "output_type": "stream",
     "text": [
      "https://query1.finance.yahoo.com/v7/finance/download/SDRL?period1=1446613200&period2=1449205200&interval=1d&events=history&crumb=Fb461c19PRe\n",
      "https://query1.finance.yahoo.com/v7/finance/download/INTC?period1=1446699600&period2=1449291600&interval=1d&events=history&crumb=Fb461c19PRe\n",
      "https://query1.finance.yahoo.com/v7/finance/download/BAC?period1=1446786000&period2=1449378000&interval=1d&events=history&crumb=Fb461c19PRe\n",
      "https://query1.finance.yahoo.com/v7/finance/download/BAC?period1=1447045200&period2=1449637200&interval=1d&events=history&crumb=Fb461c19PRe\n",
      "https://query1.finance.yahoo.com/v7/finance/download/JCP?period1=1447218000&period2=1449810000&interval=1d&events=history&crumb=Fb461c19PRe\n",
      "https://query1.finance.yahoo.com/v7/finance/download/BAC?period1=1447390800&period2=1449982800&interval=1d&events=history&crumb=Fb461c19PRe\n",
      "https://query1.finance.yahoo.com/v7/finance/download/BP?period1=1447390800&period2=1449982800&interval=1d&events=history&crumb=Fb461c19PRe\n",
      "https://query1.finance.yahoo.com/v7/finance/download/BAC?period1=1447736400&period2=1450328400&interval=1d&events=history&crumb=Fb461c19PRe\n",
      "https://query1.finance.yahoo.com/v7/finance/download/PFE?period1=1448254800&period2=1450846800&interval=1d&events=history&crumb=Fb461c19PRe\n",
      "https://query1.finance.yahoo.com/v7/finance/download/FB?period1=1448254800&period2=1450846800&interval=1d&events=history&crumb=Fb461c19PRe\n",
      "https://query1.finance.yahoo.com/v7/finance/download/SDRL?period1=1448859600&period2=1451451600&interval=1d&events=history&crumb=Fb461c19PRe\n",
      "https://query1.finance.yahoo.com/v7/finance/download/BAC?period1=1449032400&period2=1451624400&interval=1d&events=history&crumb=Fb461c19PRe\n",
      "https://query1.finance.yahoo.com/v7/finance/download/BAC?period1=1449205200&period2=1451797200&interval=1d&events=history&crumb=Fb461c19PRe\n",
      "https://query1.finance.yahoo.com/v7/finance/download/HD?period1=1449550800&period2=1452142800&interval=1d&events=history&crumb=Fb461c19PRe\n",
      "https://query1.finance.yahoo.com/v7/finance/download/KMI?period1=1449637200&period2=1452229200&interval=1d&events=history&crumb=Fb461c19PRe\n",
      "https://query1.finance.yahoo.com/v7/finance/download/BAC?period1=1450155600&period2=1452747600&interval=1d&events=history&crumb=Fb461c19PRe\n",
      "https://query1.finance.yahoo.com/v7/finance/download/F?period1=1450242000&period2=1452834000&interval=1d&events=history&crumb=Fb461c19PRe\n",
      "https://query1.finance.yahoo.com/v7/finance/download/P?period1=1450328400&period2=1452920400&interval=1d&events=history&crumb=Fb461c19PRe\n",
      "https://query1.finance.yahoo.com/v7/finance/download/KMX?period1=1450414800&period2=1453006800&interval=1d&events=history&crumb=Fb461c19PRe\n",
      "https://query1.finance.yahoo.com/v7/finance/download/MSFT?period1=1452661200&period2=1455253200&interval=1d&events=history&crumb=Fb461c19PRe\n",
      "https://query1.finance.yahoo.com/v7/finance/download/VZ?period1=1453352400&period2=1455944400&interval=1d&events=history&crumb=Fb461c19PRe\n",
      "https://query1.finance.yahoo.com/v7/finance/download/BAC?period1=1453698000&period2=1456290000&interval=1d&events=history&crumb=Fb461c19PRe\n",
      "https://query1.finance.yahoo.com/v7/finance/download/TWTR?period1=1453698000&period2=1456290000&interval=1d&events=history&crumb=Fb461c19PRe\n",
      "https://query1.finance.yahoo.com/v7/finance/download/F?period1=1453784400&period2=1456376400&interval=1d&events=history&crumb=Fb461c19PRe\n",
      "https://query1.finance.yahoo.com/v7/finance/download/FCX?period1=1453870800&period2=1456462800&interval=1d&events=history&crumb=Fb461c19PRe\n",
      "https://query1.finance.yahoo.com/v7/finance/download/F?period1=1453957200&period2=1456549200&interval=1d&events=history&crumb=Fb461c19PRe\n",
      "https://query1.finance.yahoo.com/v7/finance/download/BAC?period1=1454043600&period2=1456635600&interval=1d&events=history&crumb=Fb461c19PRe\n",
      "https://query1.finance.yahoo.com/v7/finance/download/GM?period1=1454475600&period2=1457067600&interval=1d&events=history&crumb=Fb461c19PRe\n",
      "https://query1.finance.yahoo.com/v7/finance/download/FCX?period1=1454562000&period2=1457154000&interval=1d&events=history&crumb=Fb461c19PRe\n",
      "https://query1.finance.yahoo.com/v7/finance/download/FCX?period1=1454994000&period2=1457586000&interval=1d&events=history&crumb=Fb461c19PRe\n",
      "https://query1.finance.yahoo.com/v7/finance/download/CHD?period1=1455253200&period2=1457845200&interval=1d&events=history&crumb=Fb461c19PRe\n",
      "https://query1.finance.yahoo.com/v7/finance/download/FCX?period1=1455598800&period2=1458187200&interval=1d&events=history&crumb=Fb461c19PRe\n",
      "https://query1.finance.yahoo.com/v7/finance/download/FCX?period1=1455685200&period2=1458273600&interval=1d&events=history&crumb=Fb461c19PRe\n",
      "https://query1.finance.yahoo.com/v7/finance/download/DVN?period1=1455771600&period2=1458360000&interval=1d&events=history&crumb=Fb461c19PRe\n",
      "https://query1.finance.yahoo.com/v7/finance/download/BAC?period1=1455858000&period2=1458446400&interval=1d&events=history&crumb=Fb461c19PRe\n",
      "https://query1.finance.yahoo.com/v7/finance/download/F?period1=1456290000&period2=1458878400&interval=1d&events=history&crumb=Fb461c19PRe\n",
      "https://query1.finance.yahoo.com/v7/finance/download/RIG?period1=1456290000&period2=1458878400&interval=1d&events=history&crumb=Fb461c19PRe\n",
      "https://query1.finance.yahoo.com/v7/finance/download/BAC?period1=1456376400&period2=1458964800&interval=1d&events=history&crumb=Fb461c19PRe\n",
      "https://query1.finance.yahoo.com/v7/finance/download/FCX?period1=1456462800&period2=1459051200&interval=1d&events=history&crumb=Fb461c19PRe\n",
      "https://query1.finance.yahoo.com/v7/finance/download/FCX?period1=1456722000&period2=1459310400&interval=1d&events=history&crumb=Fb461c19PRe\n",
      "https://query1.finance.yahoo.com/v7/finance/download/BAC?period1=1456722000&period2=1459310400&interval=1d&events=history&crumb=Fb461c19PRe\n",
      "https://query1.finance.yahoo.com/v7/finance/download/FCX?period1=1456808400&period2=1459396800&interval=1d&events=history&crumb=Fb461c19PRe\n",
      "https://query1.finance.yahoo.com/v7/finance/download/BAC?period1=1456894800&period2=1459483200&interval=1d&events=history&crumb=Fb461c19PRe\n",
      "https://query1.finance.yahoo.com/v7/finance/download/GPOR?period1=1457586000&period2=1460174400&interval=1d&events=history&crumb=Fb461c19PRe\n",
      "https://query1.finance.yahoo.com/v7/finance/download/FCX?period1=1457672400&period2=1460260800&interval=1d&events=history&crumb=Fb461c19PRe\n",
      "https://query1.finance.yahoo.com/v7/finance/download/ORCL?period1=1458100800&period2=1460692800&interval=1d&events=history&crumb=Fb461c19PRe\n",
      "https://query1.finance.yahoo.com/v7/finance/download/NKE?period1=1458100800&period2=1460692800&interval=1d&events=history&crumb=Fb461c19PRe\n",
      "https://query1.finance.yahoo.com/v7/finance/download/MON?period1=1458705600&period2=1461297600&interval=1d&events=history&crumb=Fb461c19PRe\n",
      "https://query1.finance.yahoo.com/v7/finance/download/NKE?period1=1458705600&period2=1461297600&interval=1d&events=history&crumb=Fb461c19PRe\n",
      "https://query1.finance.yahoo.com/v7/finance/download/T?period1=1459483200&period2=1462075200&interval=1d&events=history&crumb=Fb461c19PRe\n",
      "https://query1.finance.yahoo.com/v7/finance/download/JPM?period1=1460520000&period2=1463112000&interval=1d&events=history&crumb=Fb461c19PRe\n",
      "https://query1.finance.yahoo.com/v7/finance/download/BAC?period1=1460520000&period2=1463112000&interval=1d&events=history&crumb=Fb461c19PRe\n",
      "https://query1.finance.yahoo.com/v7/finance/download/BAC?period1=1460606400&period2=1463198400&interval=1d&events=history&crumb=Fb461c19PRe\n",
      "https://query1.finance.yahoo.com/v7/finance/download/C?period1=1460692800&period2=1463284800&interval=1d&events=history&crumb=Fb461c19PRe\n",
      "https://query1.finance.yahoo.com/v7/finance/download/BP?period1=1461643200&period2=1464235200&interval=1d&events=history&crumb=Fb461c19PRe\n",
      "https://query1.finance.yahoo.com/v7/finance/download/FCX?period1=1461729600&period2=1464321600&interval=1d&events=history&crumb=Fb461c19PRe\n",
      "https://query1.finance.yahoo.com/v7/finance/download/AKS?period1=1461902400&period2=1464494400&interval=1d&events=history&crumb=Fb461c19PRe\n",
      "https://query1.finance.yahoo.com/v7/finance/download/AIG?period1=1462161600&period2=1464753600&interval=1d&events=history&crumb=Fb461c19PRe\n",
      "https://query1.finance.yahoo.com/v7/finance/download/BP?period1=1462248000&period2=1464840000&interval=1d&events=history&crumb=Fb461c19PRe\n"
     ]
    },
    {
     "name": "stdout",
     "output_type": "stream",
     "text": [
      "https://query1.finance.yahoo.com/v7/finance/download/FCX?period1=1463457600&period2=1466049600&interval=1d&events=history&crumb=Fb461c19PRe\n",
      "https://query1.finance.yahoo.com/v7/finance/download/WMT?period1=1463630400&period2=1466222400&interval=1d&events=history&crumb=Fb461c19PRe\n",
      "https://query1.finance.yahoo.com/v7/finance/download/AAPL?period1=1463976000&period2=1466568000&interval=1d&events=history&crumb=Fb461c19PRe\n",
      "https://query1.finance.yahoo.com/v7/finance/download/EXPR?period1=1464148800&period2=1466740800&interval=1d&events=history&crumb=Fb461c19PRe\n",
      "https://query1.finance.yahoo.com/v7/finance/download/TEX?period1=1464321600&period2=1466913600&interval=1d&events=history&crumb=Fb461c19PRe\n",
      "https://query1.finance.yahoo.com/v7/finance/download/BAC?period1=1464753600&period2=1467345600&interval=1d&events=history&crumb=Fb461c19PRe\n",
      "https://query1.finance.yahoo.com/v7/finance/download/BAC?period1=1464840000&period2=1467432000&interval=1d&events=history&crumb=Fb461c19PRe\n",
      "https://query1.finance.yahoo.com/v7/finance/download/FCX?period1=1465185600&period2=1467777600&interval=1d&events=history&crumb=Fb461c19PRe\n",
      "https://query1.finance.yahoo.com/v7/finance/download/AKS?period1=1466136000&period2=1468728000&interval=1d&events=history&crumb=Fb461c19PRe\n",
      "https://query1.finance.yahoo.com/v7/finance/download/BAC?period1=1466395200&period2=1468987200&interval=1d&events=history&crumb=Fb461c19PRe\n",
      "https://query1.finance.yahoo.com/v7/finance/download/FCX?period1=1466395200&period2=1468987200&interval=1d&events=history&crumb=Fb461c19PRe\n",
      "https://query1.finance.yahoo.com/v7/finance/download/LEN?period1=1466481600&period2=1469073600&interval=1d&events=history&crumb=Fb461c19PRe\n",
      "https://query1.finance.yahoo.com/v7/finance/download/FCX?period1=1466568000&period2=1469160000&interval=1d&events=history&crumb=Fb461c19PRe\n",
      "https://query1.finance.yahoo.com/v7/finance/download/FCX?period1=1467172800&period2=1469764800&interval=1d&events=history&crumb=Fb461c19PRe\n",
      "https://query1.finance.yahoo.com/v7/finance/download/TGT?period1=1467172800&period2=1469764800&interval=1d&events=history&crumb=Fb461c19PRe\n",
      "https://query1.finance.yahoo.com/v7/finance/download/FCX?period1=1467259200&period2=1469851200&interval=1d&events=history&crumb=Fb461c19PRe\n",
      "https://query1.finance.yahoo.com/v7/finance/download/FCX?period1=1467864000&period2=1470456000&interval=1d&events=history&crumb=Fb461c19PRe\n",
      "https://query1.finance.yahoo.com/v7/finance/download/DAL?period1=1468468800&period2=1471060800&interval=1d&events=history&crumb=Fb461c19PRe\n",
      "https://query1.finance.yahoo.com/v7/finance/download/JPM?period1=1468468800&period2=1471060800&interval=1d&events=history&crumb=Fb461c19PRe\n",
      "https://query1.finance.yahoo.com/v7/finance/download/WFC?period1=1468555200&period2=1471147200&interval=1d&events=history&crumb=Fb461c19PRe\n",
      "https://query1.finance.yahoo.com/v7/finance/download/C?period1=1468555200&period2=1471147200&interval=1d&events=history&crumb=Fb461c19PRe\n",
      "https://query1.finance.yahoo.com/v7/finance/download/BAC?period1=1468814400&period2=1471406400&interval=1d&events=history&crumb=Fb461c19PRe\n",
      "https://query1.finance.yahoo.com/v7/finance/download/F?period1=1469073600&period2=1471665600&interval=1d&events=history&crumb=Fb461c19PRe\n",
      "https://query1.finance.yahoo.com/v7/finance/download/BP?period1=1469505600&period2=1472097600&interval=1d&events=history&crumb=Fb461c19PRe\n",
      "https://query1.finance.yahoo.com/v7/finance/download/F?period1=1469678400&period2=1472270400&interval=1d&events=history&crumb=Fb461c19PRe\n",
      "https://query1.finance.yahoo.com/v7/finance/download/AAPL?period1=1470196800&period2=1472788800&interval=1d&events=history&crumb=Fb461c19PRe\n",
      "https://query1.finance.yahoo.com/v7/finance/download/COH?period1=1470715200&period2=1473307200&interval=1d&events=history&crumb=Fb461c19PRe\n",
      "https://query1.finance.yahoo.com/v7/finance/download/YHOO?period1=1470715200&period2=1473307200&interval=1d&events=history&crumb=Fb461c19PRe\n",
      "https://query1.finance.yahoo.com/v7/finance/download/JCP?period1=1470974400&period2=1473566400&interval=1d&events=history&crumb=Fb461c19PRe\n",
      "https://query1.finance.yahoo.com/v7/finance/download/BAC?period1=1471320000&period2=1473912000&interval=1d&events=history&crumb=Fb461c19PRe\n",
      "https://query1.finance.yahoo.com/v7/finance/download/AAPL?period1=1471406400&period2=1473998400&interval=1d&events=history&crumb=Fb461c19PRe\n",
      "https://query1.finance.yahoo.com/v7/finance/download/WMT?period1=1471492800&period2=1474084800&interval=1d&events=history&crumb=Fb461c19PRe\n",
      "https://query1.finance.yahoo.com/v7/finance/download/TOL?period1=1471924800&period2=1474516800&interval=1d&events=history&crumb=Fb461c19PRe\n",
      "https://query1.finance.yahoo.com/v7/finance/download/BBY?period1=1471924800&period2=1474516800&interval=1d&events=history&crumb=Fb461c19PRe\n",
      "https://query1.finance.yahoo.com/v7/finance/download/BP?period1=1472011200&period2=1474603200&interval=1d&events=history&crumb=Fb461c19PRe\n",
      "https://query1.finance.yahoo.com/v7/finance/download/FCX?period1=1472097600&period2=1474689600&interval=1d&events=history&crumb=Fb461c19PRe\n",
      "https://query1.finance.yahoo.com/v7/finance/download/NUAN?period1=1473134400&period2=1475726400&interval=1d&events=history&crumb=Fb461c19PRe\n",
      "https://query1.finance.yahoo.com/v7/finance/download/AKS?period1=1473220800&period2=1475812800&interval=1d&events=history&crumb=Fb461c19PRe\n",
      "https://query1.finance.yahoo.com/v7/finance/download/AKS?period1=1473307200&period2=1475899200&interval=1d&events=history&crumb=Fb461c19PRe\n",
      "https://query1.finance.yahoo.com/v7/finance/download/F?period1=1473825600&period2=1476417600&interval=1d&events=history&crumb=Fb461c19PRe\n",
      "https://query1.finance.yahoo.com/v7/finance/download/AAPL?period1=1473825600&period2=1476417600&interval=1d&events=history&crumb=Fb461c19PRe\n",
      "https://query1.finance.yahoo.com/v7/finance/download/ORCL?period1=1473998400&period2=1476590400&interval=1d&events=history&crumb=Fb461c19PRe\n",
      "https://query1.finance.yahoo.com/v7/finance/download/AKS?period1=1474257600&period2=1476849600&interval=1d&events=history&crumb=Fb461c19PRe\n",
      "https://query1.finance.yahoo.com/v7/finance/download/BAC?period1=1474862400&period2=1477454400&interval=1d&events=history&crumb=Fb461c19PRe\n",
      "https://query1.finance.yahoo.com/v7/finance/download/NKE?period1=1475035200&period2=1477627200&interval=1d&events=history&crumb=Fb461c19PRe\n",
      "https://query1.finance.yahoo.com/v7/finance/download/FCX?period1=1475121600&period2=1477713600&interval=1d&events=history&crumb=Fb461c19PRe\n",
      "https://query1.finance.yahoo.com/v7/finance/download/TWTR?period1=1475726400&period2=1478318400&interval=1d&events=history&crumb=Fb461c19PRe\n",
      "https://query1.finance.yahoo.com/v7/finance/download/BAC?period1=1476072000&period2=1478667600&interval=1d&events=history&crumb=Fb461c19PRe\n",
      "https://query1.finance.yahoo.com/v7/finance/download/BAC?period1=1476331200&period2=1478926800&interval=1d&events=history&crumb=Fb461c19PRe\n",
      "https://query1.finance.yahoo.com/v7/finance/download/JPM?period1=1476417600&period2=1479013200&interval=1d&events=history&crumb=Fb461c19PRe\n",
      "https://query1.finance.yahoo.com/v7/finance/download/BAC?period1=1476417600&period2=1479013200&interval=1d&events=history&crumb=Fb461c19PRe\n",
      "https://query1.finance.yahoo.com/v7/finance/download/BAC?period1=1476676800&period2=1479272400&interval=1d&events=history&crumb=Fb461c19PRe\n",
      "https://query1.finance.yahoo.com/v7/finance/download/MS?period1=1476849600&period2=1479445200&interval=1d&events=history&crumb=Fb461c19PRe\n",
      "https://query1.finance.yahoo.com/v7/finance/download/S?period1=1477368000&period2=1479963600&interval=1d&events=history&crumb=Fb461c19PRe\n",
      "https://query1.finance.yahoo.com/v7/finance/download/FCX?period1=1477368000&period2=1479963600&interval=1d&events=history&crumb=Fb461c19PRe\n",
      "https://query1.finance.yahoo.com/v7/finance/download/AAPL?period1=1477454400&period2=1480050000&interval=1d&events=history&crumb=Fb461c19PRe\n",
      "https://query1.finance.yahoo.com/v7/finance/download/LUV?period1=1477454400&period2=1480050000&interval=1d&events=history&crumb=Fb461c19PRe\n",
      "https://query1.finance.yahoo.com/v7/finance/download/AKS?period1=1477540800&period2=1480136400&interval=1d&events=history&crumb=Fb461c19PRe\n",
      "https://query1.finance.yahoo.com/v7/finance/download/TWTR?period1=1477540800&period2=1480136400&interval=1d&events=history&crumb=Fb461c19PRe\n"
     ]
    },
    {
     "name": "stdout",
     "output_type": "stream",
     "text": [
      "https://query1.finance.yahoo.com/v7/finance/download/HPQ?period1=1477627200&period2=1480222800&interval=1d&events=history&crumb=Fb461c19PRe\n",
      "https://query1.finance.yahoo.com/v7/finance/download/F?period1=1477972800&period2=1480568400&interval=1d&events=history&crumb=Fb461c19PRe\n",
      "https://query1.finance.yahoo.com/v7/finance/download/BP?period1=1477972800&period2=1480568400&interval=1d&events=history&crumb=Fb461c19PRe\n",
      "https://query1.finance.yahoo.com/v7/finance/download/BAC?period1=1478145600&period2=1480741200&interval=1d&events=history&crumb=Fb461c19PRe\n",
      "https://query1.finance.yahoo.com/v7/finance/download/FCX?period1=1478404800&period2=1481000400&interval=1d&events=history&crumb=Fb461c19PRe\n",
      "https://query1.finance.yahoo.com/v7/finance/download/FCX?period1=1478494800&period2=1481086800&interval=1d&events=history&crumb=Fb461c19PRe\n",
      "https://query1.finance.yahoo.com/v7/finance/download/FCX?period1=1478581200&period2=1481173200&interval=1d&events=history&crumb=Fb461c19PRe\n",
      "https://query1.finance.yahoo.com/v7/finance/download/BAC?period1=1478667600&period2=1481259600&interval=1d&events=history&crumb=Fb461c19PRe\n",
      "https://query1.finance.yahoo.com/v7/finance/download/VZ?period1=1479358800&period2=1481950800&interval=1d&events=history&crumb=Fb461c19PRe\n",
      "https://query1.finance.yahoo.com/v7/finance/download/AAPL?period1=1479358800&period2=1481950800&interval=1d&events=history&crumb=Fb461c19PRe\n",
      "https://query1.finance.yahoo.com/v7/finance/download/GPS?period1=1479445200&period2=1482037200&interval=1d&events=history&crumb=Fb461c19PRe\n",
      "https://query1.finance.yahoo.com/v7/finance/download/FB?period1=1479790800&period2=1482382800&interval=1d&events=history&crumb=Fb461c19PRe\n",
      "https://query1.finance.yahoo.com/v7/finance/download/BAC?period1=1480482000&period2=1483074000&interval=1d&events=history&crumb=Fb461c19PRe\n",
      "https://query1.finance.yahoo.com/v7/finance/download/MAC?period1=1480482000&period2=1483074000&interval=1d&events=history&crumb=Fb461c19PRe\n",
      "https://query1.finance.yahoo.com/v7/finance/download/FCX?period1=1480914000&period2=1483506000&interval=1d&events=history&crumb=Fb461c19PRe\n",
      "https://query1.finance.yahoo.com/v7/finance/download/AAPL?period1=1481173200&period2=1483765200&interval=1d&events=history&crumb=Fb461c19PRe\n",
      "https://query1.finance.yahoo.com/v7/finance/download/T?period1=1481778000&period2=1484370000&interval=1d&events=history&crumb=Fb461c19PRe\n",
      "https://query1.finance.yahoo.com/v7/finance/download/ATW?period1=1481864400&period2=1484456400&interval=1d&events=history&crumb=Fb461c19PRe\n",
      "https://query1.finance.yahoo.com/v7/finance/download/AAPL?period1=1481864400&period2=1484456400&interval=1d&events=history&crumb=Fb461c19PRe\n",
      "https://query1.finance.yahoo.com/v7/finance/download/FCX?period1=1482296400&period2=1484888400&interval=1d&events=history&crumb=Fb461c19PRe\n",
      "https://query1.finance.yahoo.com/v7/finance/download/BAC?period1=1483419600&period2=1486011600&interval=1d&events=history&crumb=Fb461c19PRe\n",
      "https://query1.finance.yahoo.com/v7/finance/download/ATVI?period1=1483506000&period2=1486098000&interval=1d&events=history&crumb=Fb461c19PRe\n",
      "https://query1.finance.yahoo.com/v7/finance/download/ATVI?period1=1483592400&period2=1486184400&interval=1d&events=history&crumb=Fb461c19PRe\n",
      "https://query1.finance.yahoo.com/v7/finance/download/MOS?period1=1483592400&period2=1486184400&interval=1d&events=history&crumb=Fb461c19PRe\n",
      "https://query1.finance.yahoo.com/v7/finance/download/MOS?period1=1483678800&period2=1486270800&interval=1d&events=history&crumb=Fb461c19PRe\n",
      "https://query1.finance.yahoo.com/v7/finance/download/FC?period1=1483938000&period2=1486530000&interval=1d&events=history&crumb=Fb461c19PRe\n",
      "https://query1.finance.yahoo.com/v7/finance/download/BAC?period1=1484197200&period2=1486789200&interval=1d&events=history&crumb=Fb461c19PRe\n",
      "https://query1.finance.yahoo.com/v7/finance/download/BAC?period1=1484283600&period2=1486875600&interval=1d&events=history&crumb=Fb461c19PRe\n",
      "https://query1.finance.yahoo.com/v7/finance/download/BAC?period1=1484629200&period2=1487221200&interval=1d&events=history&crumb=Fb461c19PRe\n",
      "https://query1.finance.yahoo.com/v7/finance/download/MS?period1=1484629200&period2=1487221200&interval=1d&events=history&crumb=Fb461c19PRe\n",
      "https://query1.finance.yahoo.com/v7/finance/download/BAC?period1=1484715600&period2=1487307600&interval=1d&events=history&crumb=Fb461c19PRe\n",
      "https://query1.finance.yahoo.com/v7/finance/download/KEY?period1=1484802000&period2=1487394000&interval=1d&events=history&crumb=Fb461c19PRe\n",
      "https://query1.finance.yahoo.com/v7/finance/download/GE?period1=1484888400&period2=1487480400&interval=1d&events=history&crumb=Fb461c19PRe\n",
      "https://query1.finance.yahoo.com/v7/finance/download/AAPL?period1=1485234000&period2=1487826000&interval=1d&events=history&crumb=Fb461c19PRe\n",
      "https://query1.finance.yahoo.com/v7/finance/download/YHOO?period1=1485234000&period2=1487826000&interval=1d&events=history&crumb=Fb461c19PRe\n",
      "https://query1.finance.yahoo.com/v7/finance/download/WMT?period1=1485320400&period2=1487912400&interval=1d&events=history&crumb=Fb461c19PRe\n",
      "https://query1.finance.yahoo.com/v7/finance/download/F?period1=1485406800&period2=1487998800&interval=1d&events=history&crumb=Fb461c19PRe\n",
      "https://query1.finance.yahoo.com/v7/finance/download/INTC?period1=1485493200&period2=1488085200&interval=1d&events=history&crumb=Fb461c19PRe\n",
      "https://query1.finance.yahoo.com/v7/finance/download/UAA?period1=1485838800&period2=1488430800&interval=1d&events=history&crumb=Fb461c19PRe\n",
      "https://query1.finance.yahoo.com/v7/finance/download/UA?period1=1485838800&period2=1488430800&interval=1d&events=history&crumb=Fb461c19PRe\n",
      "https://query1.finance.yahoo.com/v7/finance/download/F?period1=1485925200&period2=1488517200&interval=1d&events=history&crumb=Fb461c19PRe\n",
      "https://query1.finance.yahoo.com/v7/finance/download/SBUX?period1=1486357200&period2=1488949200&interval=1d&events=history&crumb=Fb461c19PRe\n",
      "https://query1.finance.yahoo.com/v7/finance/download/FCX?period1=1486357200&period2=1488949200&interval=1d&events=history&crumb=Fb461c19PRe\n",
      "https://query1.finance.yahoo.com/v7/finance/download/AKS?period1=1486962000&period2=1489550400&interval=1d&events=history&crumb=Fb461c19PRe\n",
      "https://query1.finance.yahoo.com/v7/finance/download/AKS?period1=1487048400&period2=1489636800&interval=1d&events=history&crumb=Fb461c19PRe\n",
      "https://query1.finance.yahoo.com/v7/finance/download/UPS?period1=1487134800&period2=1489723200&interval=1d&events=history&crumb=Fb461c19PRe\n",
      "https://query1.finance.yahoo.com/v7/finance/download/HPQ?period1=1487221200&period2=1489809600&interval=1d&events=history&crumb=Fb461c19PRe\n",
      "https://query1.finance.yahoo.com/v7/finance/download/FCX?period1=1487307600&period2=1489896000&interval=1d&events=history&crumb=Fb461c19PRe\n",
      "https://query1.finance.yahoo.com/v7/finance/download/JCP?period1=1487912400&period2=1490500800&interval=1d&events=history&crumb=Fb461c19PRe\n",
      "https://query1.finance.yahoo.com/v7/finance/download/KR?period1=1488430800&period2=1491019200&interval=1d&events=history&crumb=Fb461c19PRe\n",
      "https://query1.finance.yahoo.com/v7/finance/download/DKS?period1=1488862800&period2=1491451200&interval=1d&events=history&crumb=Fb461c19PRe\n",
      "https://query1.finance.yahoo.com/v7/finance/download/BBY?period1=1488949200&period2=1491537600&interval=1d&events=history&crumb=Fb461c19PRe\n",
      "https://query1.finance.yahoo.com/v7/finance/download/BMY?period1=1488949200&period2=1491537600&interval=1d&events=history&crumb=Fb461c19PRe\n",
      "https://query1.finance.yahoo.com/v7/finance/download/CHK?period1=1489636800&period2=1492228800&interval=1d&events=history&crumb=Fb461c19PRe\n",
      "https://query1.finance.yahoo.com/v7/finance/download/BAC?period1=1490241600&period2=1492833600&interval=1d&events=history&crumb=Fb461c19PRe\n",
      "https://query1.finance.yahoo.com/v7/finance/download/FCX?period1=1490673600&period2=1493265600&interval=1d&events=history&crumb=Fb461c19PRe\n",
      "https://query1.finance.yahoo.com/v7/finance/download/BAC?period1=1490932800&period2=1493524800&interval=1d&events=history&crumb=Fb461c19PRe\n",
      "https://query1.finance.yahoo.com/v7/finance/download/MS?period1=1491278400&period2=1493870400&interval=1d&events=history&crumb=Fb461c19PRe\n",
      "https://query1.finance.yahoo.com/v7/finance/download/XOM?period1=1491364800&period2=1493956800&interval=1d&events=history&crumb=Fb461c19PRe\n"
     ]
    },
    {
     "name": "stdout",
     "output_type": "stream",
     "text": [
      "https://query1.finance.yahoo.com/v7/finance/download/BBBY?period1=1491451200&period2=1494043200&interval=1d&events=history&crumb=Fb461c19PRe\n",
      "https://query1.finance.yahoo.com/v7/finance/download/SO?period1=1491537600&period2=1494129600&interval=1d&events=history&crumb=Fb461c19PRe\n",
      "https://query1.finance.yahoo.com/v7/finance/download/BAC?period1=1492401600&period2=1494993600&interval=1d&events=history&crumb=Fb461c19PRe\n",
      "https://query1.finance.yahoo.com/v7/finance/download/BAC?period1=1492488000&period2=1495080000&interval=1d&events=history&crumb=Fb461c19PRe\n",
      "https://query1.finance.yahoo.com/v7/finance/download/GS?period1=1492488000&period2=1495080000&interval=1d&events=history&crumb=Fb461c19PRe\n",
      "https://query1.finance.yahoo.com/v7/finance/download/MS?period1=1492574400&period2=1495166400&interval=1d&events=history&crumb=Fb461c19PRe\n",
      "https://query1.finance.yahoo.com/v7/finance/download/FL?period1=1492660800&period2=1495252800&interval=1d&events=history&crumb=Fb461c19PRe\n",
      "https://query1.finance.yahoo.com/v7/finance/download/WFC?period1=1492747200&period2=1495339200&interval=1d&events=history&crumb=Fb461c19PRe\n",
      "https://query1.finance.yahoo.com/v7/finance/download/COST?period1=1492747200&period2=1495339200&interval=1d&events=history&crumb=Fb461c19PRe\n",
      "https://query1.finance.yahoo.com/v7/finance/download/TWTR?period1=1493179200&period2=1495771200&interval=1d&events=history&crumb=Fb461c19PRe\n",
      "https://query1.finance.yahoo.com/v7/finance/download/CMCSA?period1=1493265600&period2=1495857600&interval=1d&events=history&crumb=Fb461c19PRe\n",
      "https://query1.finance.yahoo.com/v7/finance/download/F?period1=1493265600&period2=1495857600&interval=1d&events=history&crumb=Fb461c19PRe\n",
      "https://query1.finance.yahoo.com/v7/finance/download/XOM?period1=1493352000&period2=1495944000&interval=1d&events=history&crumb=Fb461c19PRe\n",
      "https://query1.finance.yahoo.com/v7/finance/download/WFC?period1=1493611200&period2=1496203200&interval=1d&events=history&crumb=Fb461c19PRe\n",
      "https://query1.finance.yahoo.com/v7/finance/download/BAC?period1=1494302400&period2=1496894400&interval=1d&events=history&crumb=Fb461c19PRe\n",
      "https://query1.finance.yahoo.com/v7/finance/download/HD?period1=1494907200&period2=1497499200&interval=1d&events=history&crumb=Fb461c19PRe\n",
      "https://query1.finance.yahoo.com/v7/finance/download/F?period1=1495425600&period2=1498017600&interval=1d&events=history&crumb=Fb461c19PRe\n",
      "https://query1.finance.yahoo.com/v7/finance/download/GM?period1=1495512000&period2=1498104000&interval=1d&events=history&crumb=Fb461c19PRe\n",
      "https://query1.finance.yahoo.com/v7/finance/download/NKE?period1=1495684800&period2=1498276800&interval=1d&events=history&crumb=Fb461c19PRe\n",
      "https://query1.finance.yahoo.com/v7/finance/download/JWN?period1=1496116800&period2=1498708800&interval=1d&events=history&crumb=Fb461c19PRe\n",
      "https://query1.finance.yahoo.com/v7/finance/download/AAPL?period1=1496116800&period2=1498708800&interval=1d&events=history&crumb=Fb461c19PRe\n",
      "https://query1.finance.yahoo.com/v7/finance/download/KORS?period1=1496203200&period2=1498795200&interval=1d&events=history&crumb=Fb461c19PRe\n",
      "https://query1.finance.yahoo.com/v7/finance/download/CMCSA?period1=1496635200&period2=1499227200&interval=1d&events=history&crumb=Fb461c19PRe\n",
      "https://query1.finance.yahoo.com/v7/finance/download/DAL?period1=1496635200&period2=1499227200&interval=1d&events=history&crumb=Fb461c19PRe\n"
     ]
    }
   ],
   "source": [
    "# dfbt10 = mymodel(10)\n",
    "# dfbt20 = mymodel(20)\n",
    "dfbt30 = mymodel(30)"
   ]
  },
  {
   "cell_type": "code",
   "execution_count": 33,
   "metadata": {
    "collapsed": true
   },
   "outputs": [],
   "source": [
    "dfbt30 = dfbt30.rename(columns = lambda x : str(x)[:-2])"
   ]
  },
  {
   "cell_type": "code",
   "execution_count": 34,
   "metadata": {
    "collapsed": true
   },
   "outputs": [],
   "source": [
    "dfbt30 = dfbt30.groupby(lambda x:x, axis=1).sum()"
   ]
  },
  {
   "cell_type": "code",
   "execution_count": 1267,
   "metadata": {
    "collapsed": true
   },
   "outputs": [],
   "source": [
    "dfbt30 = dfbt30.drop(dfbt30.columns[0], axis=1)"
   ]
  },
  {
   "cell_type": "code",
   "execution_count": 1121,
   "metadata": {
    "collapsed": true,
    "scrolled": false
   },
   "outputs": [],
   "source": [
    "# dfbt30 = dfbt30.drop(dfbt30.columns[0], axis=1)\n",
    "# dfbt30 = dfbt30.fillna(0)"
   ]
  },
  {
   "cell_type": "code",
   "execution_count": 1116,
   "metadata": {
    "collapsed": true
   },
   "outputs": [],
   "source": [
    "# def clean_columns(dataframe):\n",
    "#     cols=pd.Series(dataframe.columns)\n",
    "#     for dup in dataframe.columns.get_duplicates(): cols[dataframe.columns.get_loc(dup)]=[dup+'.'+str(d_idx) if d_idx!=0 else dup for d_idx in range(dataframe.columns.get_loc(dup).sum())]\n",
    "#     dataframe.columns=cols\n",
    "#     return dataframe"
   ]
  },
  {
   "cell_type": "code",
   "execution_count": 1270,
   "metadata": {
    "collapsed": true
   },
   "outputs": [],
   "source": [
    "dfbt31 = dfbt30.iloc[:,[1]]"
   ]
  },
  {
   "cell_type": "code",
   "execution_count": 1284,
   "metadata": {
    "collapsed": true
   },
   "outputs": [],
   "source": [
    "# s = bt.Strategy('MyModel', [bt.algos.RunDaily(),\n",
    "#                        bt.algos.SelectHasData(),\n",
    "#                        bt.algos.WeighEqually(),\n",
    "#                        bt.algos.Rebalance()])\n",
    "# s10 = bt.Strategy('MyModel10', [bt.algos.RunDaily(),\n",
    "#                        bt.algos.SelectHasData(),\n",
    "#                        bt.algos.WeighEqually(),\n",
    "#                        bt.algos.Rebalance()])\n",
    "# s20 = bt.Strategy('MyModel20', [bt.algos.RunDaily(),\n",
    "#                        bt.algos.SelectHasData(),\n",
    "#                        bt.algos.WeighEqually(),\n",
    "#                        bt.algos.Rebalance()])\n",
    "s30 = bt.Strategy('MyModel30', [\n",
    "                       bt.algos.SelectHasData(min_count=1),\n",
    "                       bt.algos.WeighEqually(),\n",
    "                       bt.algos.Rebalance()])\n",
    "\n",
    "\n",
    "s31 = bt.Strategy('MyModel31', [bt.algos.SelectHasData(min_count=0),\n",
    "                                bt.algos.WeighEqually()])\n",
    "\n",
    "# s32 = bt.Strategy."
   ]
  },
  {
   "cell_type": "code",
   "execution_count": null,
   "metadata": {
    "collapsed": true
   },
   "outputs": [],
   "source": [
    "# test10 = bt.Backtest(s10,clean_columns(dfbt10))\n",
    "# test20 = bt.Backtest(s20,clean_columns(dfbt20))\n",
    "test30 = bt.Backtest(s31, dfbt31)\n",
    "\n",
    "# res10 = bt.run(test10)\n",
    "# res20 = bt.run(test20)\n",
    "res30 = bt.run(test30)\n",
    "\n",
    "\n",
    "\n",
    "# test = bt.Backtest(s, dfbt)\n",
    "# res = bt.run(test)"
   ]
  },
  {
   "cell_type": "code",
   "execution_count": 1095,
   "metadata": {
    "collapsed": true
   },
   "outputs": [],
   "source": [
    "dfbt30 = dfbt30.rename(index=str, columns={\"ge_x\": \"ge\"})"
   ]
  },
  {
   "cell_type": "code",
   "execution_count": null,
   "metadata": {
    "collapsed": true
   },
   "outputs": [],
   "source": [
    "res30.display()"
   ]
  },
  {
   "cell_type": "code",
   "execution_count": null,
   "metadata": {
    "collapsed": true
   },
   "outputs": [],
   "source": [
    "data = bt.get('SPY', start='2015-03-25')\n",
    "s2 = bt.Strategy('S&P500', [bt.algos.RunDaily(),\n",
    "                        bt.algos.SelectHasData(min_count=1),\n",
    "                        bt.algos.WeighEqually(),\n",
    "                        bt.algos.Rebalance()])\n",
    "\n",
    "# now let's test it with the same data set. We will also compare it with our first backtest.\n",
    "test2 = bt.Backtest(s2, data)\n",
    "# we include test here to see the results side-by-side\n",
    "res2 = bt.run(test2, test20)\n",
    "\n",
    "res2.plot()"
   ]
  },
  {
   "cell_type": "code",
   "execution_count": null,
   "metadata": {
    "collapsed": true,
    "scrolled": true
   },
   "outputs": [],
   "source": [
    "res2.plot_correlation()\n"
   ]
  },
  {
   "cell_type": "code",
   "execution_count": 1063,
   "metadata": {},
   "outputs": [
    {
     "data": {
      "text/plain": [
       "count    335.000000\n",
       "mean     3.448099  \n",
       "std      16.473619 \n",
       "min     -44.407895 \n",
       "25%     -4.029386  \n",
       "50%      0.409127  \n",
       "75%      7.078012  \n",
       "max      92.000000 \n",
       "Name: perc_one, dtype: float64"
      ]
     },
     "execution_count": 1063,
     "metadata": {},
     "output_type": "execute_result"
    }
   ],
   "source": [
    "df25['perc_one'].describe()"
   ]
  },
  {
   "cell_type": "code",
   "execution_count": 1062,
   "metadata": {},
   "outputs": [
    {
     "data": {
      "text/plain": [
       "0.14314394155792776"
      ]
     },
     "execution_count": 1062,
     "metadata": {},
     "output_type": "execute_result"
    }
   ],
   "source": [
    "#SHARPE VALUE\n",
    "(df25['perc_one'].mean() - 1.09)/(df25['perc_one'].std())"
   ]
  },
  {
   "cell_type": "code",
   "execution_count": null,
   "metadata": {
    "collapsed": true
   },
   "outputs": [],
   "source": []
  },
  {
   "cell_type": "code",
   "execution_count": null,
   "metadata": {
    "collapsed": true
   },
   "outputs": [],
   "source": []
  },
  {
   "cell_type": "code",
   "execution_count": null,
   "metadata": {
    "collapsed": true
   },
   "outputs": [],
   "source": []
  },
  {
   "cell_type": "code",
   "execution_count": null,
   "metadata": {
    "collapsed": true
   },
   "outputs": [],
   "source": []
  },
  {
   "cell_type": "code",
   "execution_count": null,
   "metadata": {
    "collapsed": true
   },
   "outputs": [],
   "source": []
  },
  {
   "cell_type": "code",
   "execution_count": null,
   "metadata": {
    "collapsed": true
   },
   "outputs": [],
   "source": []
  },
  {
   "cell_type": "code",
   "execution_count": null,
   "metadata": {
    "collapsed": true
   },
   "outputs": [],
   "source": []
  },
  {
   "cell_type": "code",
   "execution_count": null,
   "metadata": {
    "collapsed": true
   },
   "outputs": [],
   "source": []
  },
  {
   "cell_type": "code",
   "execution_count": null,
   "metadata": {
    "collapsed": true
   },
   "outputs": [],
   "source": []
  },
  {
   "cell_type": "code",
   "execution_count": null,
   "metadata": {
    "collapsed": true
   },
   "outputs": [],
   "source": []
  },
  {
   "cell_type": "code",
   "execution_count": null,
   "metadata": {
    "collapsed": true
   },
   "outputs": [],
   "source": []
  },
  {
   "cell_type": "code",
   "execution_count": null,
   "metadata": {
    "collapsed": true
   },
   "outputs": [],
   "source": [
    "##\n",
    "\n",
    "#SHARPE VALUE\n",
    "# (df25['perc_one'].mean() - 1.09)/(df25['perc_one'].std())"
   ]
  },
  {
   "cell_type": "code",
   "execution_count": 1052,
   "metadata": {
    "collapsed": true
   },
   "outputs": [],
   "source": [
    "# ## Backup Data\n",
    "# count = 0\n",
    "# enum_list = []\n",
    "# for a, b in zip(df25.iloc[:,7], df25.iloc[:,9]):\n",
    "#     if not b in quanstocklist:\n",
    "# #     if b == 'SPY' or b == 'USO' or b == 'GDX' or b == 'AA' or b =='PBR' or b=='ALU' or b == 'STM' or b=='TSL' or b=='EEM' or b == 'XLF' or b=='GSK' or b=='ING' or b=='GLD' or b=='SFUN' or b=='BABA' or b=='GFI' or b=='ARMH' or b=='XX' or b=='MT' or b=='BCS' or b=='TLT' or b=='CSIQ' or b=='GSX' or b=='NUGT' or b=='WFT' or b=='SLV' or b=='UGAZ' or b=='SDRL' or b=='JNK' or b=='TBT' or b=='ASX':\n",
    "#         enum_list.append('BLANK')\n",
    "#         count += 1\n",
    "#     else:\n",
    "#         date_data = a\n",
    "#         stock_name = b\n",
    "#         new_date = a + dt.timedelta(days=30)\n",
    "#         my_data = quandl.get(dataset =(\"WIKI/%s\"% stock_name), start_date=(\"%s\"% date_data), end_date=(\"%s\"% new_date))\n",
    "#         enum_list.append((my_data.iloc[-1,3] - my_data.iloc[0,3])/my_data.iloc[0,3] * 100)\n",
    "#         count += 1\n",
    "# #     print(count)\n",
    "# #     print(enum_list)\n",
    "# se = pd.Series(enum_list)\n",
    "# df27['perc_two'] = se.values"
   ]
  },
  {
   "cell_type": "code",
   "execution_count": null,
   "metadata": {
    "collapsed": true
   },
   "outputs": [],
   "source": [
    "### BACKUP PART 2\n",
    "# import math\n",
    "# import bt\n",
    "\n",
    "# def mymodel(daydiff):\n",
    "# dfbt = bt.get('T', start='2015-03-25')\n",
    "\n",
    "# for i,z, x in zip(df25.iloc[:,7], df25.iloc[:,8], df25.iloc[:,17]):\n",
    "#     if not b in quanstocklist:\n",
    "#         continue\n",
    "#     elif z == None or math.isnan(x) == True or z=='TASR' or z=='HOT' or z=='VOD' or z=='EMC' or z=='SUNE' or z=='MDVN':\n",
    "#         continue\n",
    "#     else:\n",
    "#         date_data = i\n",
    "#         stock_name = z\n",
    "#         new_date = i + dt.timedelta(days=30)\n",
    "#         dfbt1 = bt.get(z, start=i, end=new_date)\n",
    "#         dfbt = pd.merge(dfbt,dfbt1, how='left', left_index = True, right_index=True)"
   ]
  },
  {
   "cell_type": "code",
   "execution_count": null,
   "metadata": {
    "collapsed": true
   },
   "outputs": [],
   "source": [
    "# BACKUP PT 3\n",
    "\n",
    "# import math\n",
    "# import bt\n",
    "\n",
    "# dfbt = bt.get('T', start='2015-03-25')\n",
    "\n",
    "# def mymodel(daydiff):\n",
    "#     dfbt = bt.get('T', start='2015-03-25', end='2017-05-01')\n",
    "#     for i,z, x in zip(df25.iloc[:,7], df25.iloc[:,8], df25.iloc[:,17]):\n",
    "#         if not b in quanstocklist:\n",
    "#             continue\n",
    "#         elif z == None or math.isnan(x) == True or z=='TASR' or z=='HOT' or z=='VOD' or z=='EMC' or z=='SUNE' or z=='MDVN':\n",
    "#             continue\n",
    "#         else:\n",
    "#             date_data = i\n",
    "#             stock_name = z\n",
    "#             new_date = i + dt.timedelta(days=daydiff)\n",
    "#             dfbt1 = bt.get(z, start=i, end=new_date)\n",
    "#             dfbt = pd.merge(dfbt,dfbt1, how='left', left_index = True, right_index=True)\n",
    "#     return dfbt"
   ]
  },
  {
   "cell_type": "code",
   "execution_count": null,
   "metadata": {
    "collapsed": true
   },
   "outputs": [],
   "source": [
    "# cols=pd.Series(dfbt.columns)\n",
    "# for dup in dfbt.columns.get_duplicates(): cols[dfbt.columns.get_loc(dup)]=[dup+'.'+str(d_idx) if d_idx!=0 else dup for d_idx in range(dfbt.columns.get_loc(dup).sum())]\n",
    "# dfbt.columns=cols"
   ]
  },
  {
   "cell_type": "code",
   "execution_count": null,
   "metadata": {
    "collapsed": true
   },
   "outputs": [],
   "source": []
  },
  {
   "cell_type": "code",
   "execution_count": 226,
   "metadata": {
    "collapsed": true
   },
   "outputs": [],
   "source": [
    "def getStock(symbol, start, end):\n",
    "    \"\"\"\n",
    "    Downloads Stock from Yahoo Finance.\n",
    "    Computes daily Returns based on Adj Close.\n",
    "    Returns pandas dataframe.\n",
    "    \"\"\"\n",
    "    df =  pd.io.data.get_data_yahoo(symbol, start, end)\n",
    " \n",
    "    df.columns.values[-1] = 'AdjClose'\n",
    "    df.columns = df.columns + '_' + symbol\n",
    "    df['Return_%s' %symbol] = df['AdjClose_%s' %symbol].pct_change()\n",
    "    \n",
    "    return df"
   ]
  },
  {
   "cell_type": "code",
   "execution_count": 230,
   "metadata": {},
   "outputs": [
    {
     "ename": "ImportError",
     "evalue": "The pandas.io.data module is moved to a separate package (pandas-datareader). After installing the pandas-datareader package (https://github.com/pydata/pandas-datareader), you can change the import ``from pandas.io import data, wb`` to ``from pandas_datareader import data, wb``.",
     "output_type": "error",
     "traceback": [
      "\u001b[0;31m---------------------------------------------------------------------------\u001b[0m",
      "\u001b[0;31mImportError\u001b[0m                               Traceback (most recent call last)",
      "\u001b[0;32m<ipython-input-230-d840cf8f33e9>\u001b[0m in \u001b[0;36m<module>\u001b[0;34m()\u001b[0m\n\u001b[1;32m     10\u001b[0m \u001b[0;32mfrom\u001b[0m \u001b[0msklearn\u001b[0m\u001b[0;34m.\u001b[0m\u001b[0msvm\u001b[0m \u001b[0;32mimport\u001b[0m \u001b[0mSVC\u001b[0m\u001b[0;34m\u001b[0m\u001b[0m\n\u001b[1;32m     11\u001b[0m \u001b[0;32mimport\u001b[0m \u001b[0moperator\u001b[0m\u001b[0;34m\u001b[0m\u001b[0m\n\u001b[0;32m---> 12\u001b[0;31m \u001b[0;32mimport\u001b[0m \u001b[0mpandas\u001b[0m\u001b[0;34m.\u001b[0m\u001b[0mio\u001b[0m\u001b[0;34m.\u001b[0m\u001b[0mdata\u001b[0m\u001b[0;34m\u001b[0m\u001b[0m\n\u001b[0m\u001b[1;32m     13\u001b[0m \u001b[0;32mfrom\u001b[0m \u001b[0msklearn\u001b[0m\u001b[0;34m.\u001b[0m\u001b[0mqda\u001b[0m \u001b[0;32mimport\u001b[0m \u001b[0mQDA\u001b[0m\u001b[0;34m\u001b[0m\u001b[0m\n\u001b[1;32m     14\u001b[0m \u001b[0;32mimport\u001b[0m \u001b[0mre\u001b[0m\u001b[0;34m\u001b[0m\u001b[0m\n",
      "\u001b[0;32m/Users/michaelcarrie/anaconda/lib/python3.5/site-packages/pandas/io/data.py\u001b[0m in \u001b[0;36m<module>\u001b[0;34m()\u001b[0m\n\u001b[1;32m      1\u001b[0m raise ImportError(\n\u001b[0;32m----> 2\u001b[0;31m     \u001b[0;34m\"The pandas.io.data module is moved to a separate package \"\u001b[0m\u001b[0;34m\u001b[0m\u001b[0m\n\u001b[0m\u001b[1;32m      3\u001b[0m     \u001b[0;34m\"(pandas-datareader). After installing the pandas-datareader package \"\u001b[0m\u001b[0;34m\u001b[0m\u001b[0m\n\u001b[1;32m      4\u001b[0m     \u001b[0;34m\"(https://github.com/pydata/pandas-datareader), you can change \"\u001b[0m\u001b[0;34m\u001b[0m\u001b[0m\n\u001b[1;32m      5\u001b[0m     \u001b[0;34m\"the import ``from pandas.io import data, wb`` to \"\u001b[0m\u001b[0;34m\u001b[0m\u001b[0m\n",
      "\u001b[0;31mImportError\u001b[0m: The pandas.io.data module is moved to a separate package (pandas-datareader). After installing the pandas-datareader package (https://github.com/pydata/pandas-datareader), you can change the import ``from pandas.io import data, wb`` to ``from pandas_datareader import data, wb``."
     ]
    }
   ],
   "source": [
    "import numpy as np\n",
    "import pandas as pd\n",
    "import datetime\n",
    "from sklearn import preprocessing\n",
    "from datetime import datetime\n",
    "from sklearn.ensemble import RandomForestClassifier\n",
    "from sklearn import neighbors\n",
    "from sklearn.ensemble import AdaBoostClassifier\n",
    "from sklearn.ensemble import GradientBoostingClassifier\n",
    "from sklearn.svm import SVC\n",
    "import operator\n",
    "import pandas.io.data\n",
    "from sklearn.qda import QDA\n",
    "import re\n",
    "from dateutil import parser\n",
    "from backtest import Strategy, Portfolio\n",
    "\n",
    "def getStockFromQuandl(symbol, name, start, end):\n",
    "    \"\"\"\n",
    "    Downloads Stock from Quandl.\n",
    "    Computes daily Returns based on Adj Close.\n",
    "    Returns pandas dataframe.\n",
    "    \"\"\"\n",
    "    import Quandl\n",
    "    df =  Quandl.get(symbol, trim_start = start, trim_end = end, authtoken=\"your token\")\n",
    "\n",
    "    df.columns.values[-1] = 'AdjClose'\n",
    "    df.columns = df.columns + '_' + name\n",
    "    df['Return_%s' %name] = df['AdjClose_%s' %name].pct_change()\n",
    "    \n",
    "    return df\n",
    "\n",
    "def getStockFromQuandl(symbol, name, start, end):\n",
    "    \"\"\"\n",
    "    Downloads Stock from Quandl.\n",
    "    Computes daily Returns based on Adj Close.\n",
    "    Returns pandas dataframe.\n",
    "    \"\"\"\n",
    "    import Quandl\n",
    "    df =  Quandl.get(symbol, trim_start = start, trim_end = end, authtoken=\"your token\")\n",
    " \n",
    "    df.columns.values[-1] = 'AdjClose'\n",
    "    df.columns = df.columns + '_' + name\n",
    "    df['Return_%s' %name] = df['AdjClose_%s' %name].pct_change()\n",
    "    \n",
    "    return df\n",
    "\n",
    "\n",
    "\n",
    "\n",
    "def getStockDataFromWeb(fout, start_string, end_string):\n",
    "    \"\"\"\n",
    "    Collects predictors data from Yahoo Finance and Quandl.\n",
    "    Returns a list of dataframes.\n",
    "    \"\"\"\n",
    "    start = parser.parse(start_string)\n",
    "    end = parser.parse(end_string)\n",
    "    \n",
    "    nasdaq = getStock('^IXIC', start, end)\n",
    "    frankfurt = getStock('^GDAXI', start, end)\n",
    "    london = getStock('^FTSE', start, end)\n",
    "    paris = getStock('^FCHI', start, end)\n",
    "    hkong = getStock('^HSI', start, end)\n",
    "    nikkei = getStock('^N225', start, end)\n",
    "    australia = getStock('^AXJO', start, end)\n",
    "    \n",
    "    djia = getStockFromQuandl(\"YAHOO/INDEX_DJI\", 'Djia', start_string, end_string) \n",
    "    \n",
    "    out =  pd.io.data.get_data_yahoo(fout, start, end)\n",
    "    out.columns.values[-1] = 'AdjClose'\n",
    "    out.columns = out.columns + '_Out'\n",
    "    out['Return_Out'] = out['AdjClose_Out'].pct_change()\n",
    "    \n",
    "    return [out, nasdaq, djia, frankfurt, london, paris, hkong, nikkei, australia]\n",
    "\n",
    "\n",
    "\n",
    "def getStockDataFromWeb(fout, start_string, end_string):\n",
    "    \"\"\"\n",
    "    Collects predictors data from Yahoo Finance and Quandl.\n",
    "    Returns a list of dataframes.\n",
    "    \"\"\"\n",
    "    start = parser.parse(start_string)\n",
    "    end = parser.parse(end_string)\n",
    "    \n",
    "    nasdaq = getStock('^IXIC', start, end)\n",
    "    frankfurt = getStock('^GDAXI', start, end)\n",
    "    london = getStock('^FTSE', start, end)\n",
    "    paris = getStock('^FCHI', start, end)\n",
    "    hkong = getStock('^HSI', start, end)\n",
    "    nikkei = getStock('^N225', start, end)\n",
    "    australia = getStock('^AXJO', start, end)\n",
    "    \n",
    "    djia = getStockFromQuandl(\"YAHOO/INDEX_DJI\", 'Djia', start_string, end_string) \n",
    "    \n",
    "    out =  pd.io.data.get_data_yahoo(fout, start, end)\n",
    "    out.columns.values[-1] = 'AdjClose'\n",
    "    out.columns = out.columns + '_Out'\n",
    "    out['Return_Out'] = out['AdjClose_Out'].pct_change()\n",
    "    \n",
    "    return [out, nasdaq, djia, frankfurt, london, paris, hkong, nikkei, australia]"
   ]
  },
  {
   "cell_type": "code",
   "execution_count": null,
   "metadata": {
    "collapsed": true
   },
   "outputs": [],
   "source": []
  }
 ],
 "metadata": {
  "anaconda-cloud": {},
  "kernelspec": {
   "display_name": "Python [default]",
   "language": "python",
   "name": "python3"
  },
  "language_info": {
   "codemirror_mode": {
    "name": "ipython",
    "version": 3
   },
   "file_extension": ".py",
   "mimetype": "text/x-python",
   "name": "python",
   "nbconvert_exporter": "python",
   "pygments_lexer": "ipython3",
   "version": "3.5.3"
  }
 },
 "nbformat": 4,
 "nbformat_minor": 2
}
